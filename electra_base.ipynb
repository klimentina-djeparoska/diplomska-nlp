{
 "cells": [
  {
   "cell_type": "code",
   "execution_count": 264,
   "metadata": {
    "colab": {
     "base_uri": "https://localhost:8080/"
    },
    "id": "u1Szubz_a-Kq",
    "outputId": "f018ddb4-9962-46bc-ffb0-2552473f17b3"
   },
   "outputs": [
    {
     "name": "stdout",
     "output_type": "stream",
     "text": [
      "Drive already mounted at /content/drive; to attempt to forcibly remount, call drive.mount(\"/content/drive\", force_remount=True).\n"
     ]
    }
   ],
   "source": [
    "# connect with google drive\r\n",
    "from google.colab import drive\r\n",
    "drive.mount('/content/drive')"
   ]
  },
  {
   "cell_type": "code",
   "execution_count": 265,
   "metadata": {
    "colab": {
     "base_uri": "https://localhost:8080/"
    },
    "id": "srnLgFAbbYa-",
    "outputId": "51fba4f8-9521-442f-a0c3-f801640c3437"
   },
   "outputs": [
    {
     "name": "stdout",
     "output_type": "stream",
     "text": [
      "Requirement already satisfied: tensorflow-text in /usr/local/lib/python3.7/dist-packages (2.4.3)\n",
      "Requirement already satisfied: tensorflow-hub>=0.8.0 in /usr/local/lib/python3.7/dist-packages (from tensorflow-text) (0.11.0)\n",
      "Requirement already satisfied: tensorflow<2.5,>=2.4.0 in /usr/local/lib/python3.7/dist-packages (from tensorflow-text) (2.4.1)\n",
      "Requirement already satisfied: numpy>=1.12.0 in /usr/local/lib/python3.7/dist-packages (from tensorflow-hub>=0.8.0->tensorflow-text) (1.19.5)\n",
      "Requirement already satisfied: protobuf>=3.8.0 in /usr/local/lib/python3.7/dist-packages (from tensorflow-hub>=0.8.0->tensorflow-text) (3.12.4)\n",
      "Requirement already satisfied: grpcio~=1.32.0 in /usr/local/lib/python3.7/dist-packages (from tensorflow<2.5,>=2.4.0->tensorflow-text) (1.32.0)\n",
      "Requirement already satisfied: six~=1.15.0 in /usr/local/lib/python3.7/dist-packages (from tensorflow<2.5,>=2.4.0->tensorflow-text) (1.15.0)\n",
      "Requirement already satisfied: absl-py~=0.10 in /usr/local/lib/python3.7/dist-packages (from tensorflow<2.5,>=2.4.0->tensorflow-text) (0.10.0)\n",
      "Requirement already satisfied: typing-extensions~=3.7.4 in /usr/local/lib/python3.7/dist-packages (from tensorflow<2.5,>=2.4.0->tensorflow-text) (3.7.4.3)\n",
      "Requirement already satisfied: keras-preprocessing~=1.1.2 in /usr/local/lib/python3.7/dist-packages (from tensorflow<2.5,>=2.4.0->tensorflow-text) (1.1.2)\n",
      "Requirement already satisfied: astunparse~=1.6.3 in /usr/local/lib/python3.7/dist-packages (from tensorflow<2.5,>=2.4.0->tensorflow-text) (1.6.3)\n",
      "Requirement already satisfied: tensorboard~=2.4 in /usr/local/lib/python3.7/dist-packages (from tensorflow<2.5,>=2.4.0->tensorflow-text) (2.4.1)\n",
      "Requirement already satisfied: tensorflow-estimator<2.5.0,>=2.4.0 in /usr/local/lib/python3.7/dist-packages (from tensorflow<2.5,>=2.4.0->tensorflow-text) (2.4.0)\n",
      "Requirement already satisfied: wheel~=0.35 in /usr/local/lib/python3.7/dist-packages (from tensorflow<2.5,>=2.4.0->tensorflow-text) (0.36.2)\n",
      "Requirement already satisfied: gast==0.3.3 in /usr/local/lib/python3.7/dist-packages (from tensorflow<2.5,>=2.4.0->tensorflow-text) (0.3.3)\n",
      "Requirement already satisfied: opt-einsum~=3.3.0 in /usr/local/lib/python3.7/dist-packages (from tensorflow<2.5,>=2.4.0->tensorflow-text) (3.3.0)\n",
      "Requirement already satisfied: wrapt~=1.12.1 in /usr/local/lib/python3.7/dist-packages (from tensorflow<2.5,>=2.4.0->tensorflow-text) (1.12.1)\n",
      "Requirement already satisfied: termcolor~=1.1.0 in /usr/local/lib/python3.7/dist-packages (from tensorflow<2.5,>=2.4.0->tensorflow-text) (1.1.0)\n",
      "Requirement already satisfied: h5py~=2.10.0 in /usr/local/lib/python3.7/dist-packages (from tensorflow<2.5,>=2.4.0->tensorflow-text) (2.10.0)\n",
      "Requirement already satisfied: flatbuffers~=1.12.0 in /usr/local/lib/python3.7/dist-packages (from tensorflow<2.5,>=2.4.0->tensorflow-text) (1.12)\n",
      "Requirement already satisfied: google-pasta~=0.2 in /usr/local/lib/python3.7/dist-packages (from tensorflow<2.5,>=2.4.0->tensorflow-text) (0.2.0)\n",
      "Requirement already satisfied: setuptools in /usr/local/lib/python3.7/dist-packages (from protobuf>=3.8.0->tensorflow-hub>=0.8.0->tensorflow-text) (54.0.0)\n",
      "Requirement already satisfied: google-auth<2,>=1.6.3 in /usr/local/lib/python3.7/dist-packages (from tensorboard~=2.4->tensorflow<2.5,>=2.4.0->tensorflow-text) (1.27.1)\n",
      "Requirement already satisfied: requests<3,>=2.21.0 in /usr/local/lib/python3.7/dist-packages (from tensorboard~=2.4->tensorflow<2.5,>=2.4.0->tensorflow-text) (2.23.0)\n",
      "Requirement already satisfied: google-auth-oauthlib<0.5,>=0.4.1 in /usr/local/lib/python3.7/dist-packages (from tensorboard~=2.4->tensorflow<2.5,>=2.4.0->tensorflow-text) (0.4.3)\n",
      "Requirement already satisfied: werkzeug>=0.11.15 in /usr/local/lib/python3.7/dist-packages (from tensorboard~=2.4->tensorflow<2.5,>=2.4.0->tensorflow-text) (1.0.1)\n",
      "Requirement already satisfied: tensorboard-plugin-wit>=1.6.0 in /usr/local/lib/python3.7/dist-packages (from tensorboard~=2.4->tensorflow<2.5,>=2.4.0->tensorflow-text) (1.8.0)\n",
      "Requirement already satisfied: markdown>=2.6.8 in /usr/local/lib/python3.7/dist-packages (from tensorboard~=2.4->tensorflow<2.5,>=2.4.0->tensorflow-text) (3.3.4)\n",
      "Requirement already satisfied: rsa<5,>=3.1.4; python_version >= \"3.6\" in /usr/local/lib/python3.7/dist-packages (from google-auth<2,>=1.6.3->tensorboard~=2.4->tensorflow<2.5,>=2.4.0->tensorflow-text) (4.7.2)\n",
      "Requirement already satisfied: pyasn1-modules>=0.2.1 in /usr/local/lib/python3.7/dist-packages (from google-auth<2,>=1.6.3->tensorboard~=2.4->tensorflow<2.5,>=2.4.0->tensorflow-text) (0.2.8)\n",
      "Requirement already satisfied: cachetools<5.0,>=2.0.0 in /usr/local/lib/python3.7/dist-packages (from google-auth<2,>=1.6.3->tensorboard~=2.4->tensorflow<2.5,>=2.4.0->tensorflow-text) (4.2.1)\n",
      "Requirement already satisfied: certifi>=2017.4.17 in /usr/local/lib/python3.7/dist-packages (from requests<3,>=2.21.0->tensorboard~=2.4->tensorflow<2.5,>=2.4.0->tensorflow-text) (2020.12.5)\n",
      "Requirement already satisfied: chardet<4,>=3.0.2 in /usr/local/lib/python3.7/dist-packages (from requests<3,>=2.21.0->tensorboard~=2.4->tensorflow<2.5,>=2.4.0->tensorflow-text) (3.0.4)\n",
      "Requirement already satisfied: idna<3,>=2.5 in /usr/local/lib/python3.7/dist-packages (from requests<3,>=2.21.0->tensorboard~=2.4->tensorflow<2.5,>=2.4.0->tensorflow-text) (2.10)\n",
      "Requirement already satisfied: urllib3!=1.25.0,!=1.25.1,<1.26,>=1.21.1 in /usr/local/lib/python3.7/dist-packages (from requests<3,>=2.21.0->tensorboard~=2.4->tensorflow<2.5,>=2.4.0->tensorflow-text) (1.24.3)\n",
      "Requirement already satisfied: requests-oauthlib>=0.7.0 in /usr/local/lib/python3.7/dist-packages (from google-auth-oauthlib<0.5,>=0.4.1->tensorboard~=2.4->tensorflow<2.5,>=2.4.0->tensorflow-text) (1.3.0)\n",
      "Requirement already satisfied: importlib-metadata; python_version < \"3.8\" in /usr/local/lib/python3.7/dist-packages (from markdown>=2.6.8->tensorboard~=2.4->tensorflow<2.5,>=2.4.0->tensorflow-text) (3.7.0)\n",
      "Requirement already satisfied: pyasn1>=0.1.3 in /usr/local/lib/python3.7/dist-packages (from rsa<5,>=3.1.4; python_version >= \"3.6\"->google-auth<2,>=1.6.3->tensorboard~=2.4->tensorflow<2.5,>=2.4.0->tensorflow-text) (0.4.8)\n",
      "Requirement already satisfied: oauthlib>=3.0.0 in /usr/local/lib/python3.7/dist-packages (from requests-oauthlib>=0.7.0->google-auth-oauthlib<0.5,>=0.4.1->tensorboard~=2.4->tensorflow<2.5,>=2.4.0->tensorflow-text) (3.1.0)\n",
      "Requirement already satisfied: zipp>=0.5 in /usr/local/lib/python3.7/dist-packages (from importlib-metadata; python_version < \"3.8\"->markdown>=2.6.8->tensorboard~=2.4->tensorflow<2.5,>=2.4.0->tensorflow-text) (3.4.1)\n",
      "Requirement already satisfied: tf-models-official in /usr/local/lib/python3.7/dist-packages (2.4.0)\n",
      "Requirement already satisfied: oauth2client in /usr/local/lib/python3.7/dist-packages (from tf-models-official) (4.1.3)\n",
      "Requirement already satisfied: tensorflow-addons in /usr/local/lib/python3.7/dist-packages (from tf-models-official) (0.12.1)\n",
      "Requirement already satisfied: tensorflow-model-optimization>=0.4.1 in /usr/local/lib/python3.7/dist-packages (from tf-models-official) (0.5.0)\n",
      "Requirement already satisfied: tensorflow>=2.4.0 in /usr/local/lib/python3.7/dist-packages (from tf-models-official) (2.4.1)\n",
      "Requirement already satisfied: tf-slim>=1.1.0 in /usr/local/lib/python3.7/dist-packages (from tf-models-official) (1.1.0)\n",
      "Requirement already satisfied: matplotlib in /usr/local/lib/python3.7/dist-packages (from tf-models-official) (3.2.2)\n",
      "Requirement already satisfied: py-cpuinfo>=3.3.0 in /usr/local/lib/python3.7/dist-packages (from tf-models-official) (7.0.0)\n",
      "Requirement already satisfied: pyyaml>=5.1 in /usr/local/lib/python3.7/dist-packages (from tf-models-official) (5.4.1)\n",
      "Requirement already satisfied: tensorflow-datasets in /usr/local/lib/python3.7/dist-packages (from tf-models-official) (4.0.1)\n",
      "Requirement already satisfied: Cython in /usr/local/lib/python3.7/dist-packages (from tf-models-official) (0.29.22)\n",
      "Requirement already satisfied: psutil>=5.4.3 in /usr/local/lib/python3.7/dist-packages (from tf-models-official) (5.4.8)\n",
      "Requirement already satisfied: pycocotools in /usr/local/lib/python3.7/dist-packages (from tf-models-official) (2.0.2)\n",
      "Requirement already satisfied: google-cloud-bigquery>=0.31.0 in /usr/local/lib/python3.7/dist-packages (from tf-models-official) (1.21.0)\n",
      "Requirement already satisfied: numpy>=1.15.4 in /usr/local/lib/python3.7/dist-packages (from tf-models-official) (1.19.5)\n",
      "Requirement already satisfied: seqeval in /usr/local/lib/python3.7/dist-packages (from tf-models-official) (1.2.2)\n",
      "Requirement already satisfied: pandas>=0.22.0 in /usr/local/lib/python3.7/dist-packages (from tf-models-official) (1.1.5)\n",
      "Requirement already satisfied: gin-config in /usr/local/lib/python3.7/dist-packages (from tf-models-official) (0.4.0)\n",
      "Requirement already satisfied: opencv-python-headless in /usr/local/lib/python3.7/dist-packages (from tf-models-official) (4.5.1.48)\n",
      "Requirement already satisfied: Pillow in /usr/local/lib/python3.7/dist-packages (from tf-models-official) (7.0.0)\n",
      "Requirement already satisfied: google-api-python-client>=1.6.7 in /usr/local/lib/python3.7/dist-packages (from tf-models-official) (1.12.8)\n",
      "Requirement already satisfied: scipy>=0.19.1 in /usr/local/lib/python3.7/dist-packages (from tf-models-official) (1.4.1)\n",
      "Requirement already satisfied: kaggle>=1.3.9 in /usr/local/lib/python3.7/dist-packages (from tf-models-official) (1.5.10)\n",
      "Requirement already satisfied: tensorflow-hub>=0.6.0 in /usr/local/lib/python3.7/dist-packages (from tf-models-official) (0.11.0)\n",
      "Requirement already satisfied: dataclasses in /usr/local/lib/python3.7/dist-packages (from tf-models-official) (0.6)\n",
      "Requirement already satisfied: sentencepiece in /usr/local/lib/python3.7/dist-packages (from tf-models-official) (0.1.95)\n",
      "Requirement already satisfied: six in /usr/local/lib/python3.7/dist-packages (from tf-models-official) (1.15.0)\n",
      "Requirement already satisfied: httplib2>=0.9.1 in /usr/local/lib/python3.7/dist-packages (from oauth2client->tf-models-official) (0.17.4)\n",
      "Requirement already satisfied: pyasn1-modules>=0.0.5 in /usr/local/lib/python3.7/dist-packages (from oauth2client->tf-models-official) (0.2.8)\n",
      "Requirement already satisfied: rsa>=3.1.4 in /usr/local/lib/python3.7/dist-packages (from oauth2client->tf-models-official) (4.7.2)\n",
      "Requirement already satisfied: pyasn1>=0.1.7 in /usr/local/lib/python3.7/dist-packages (from oauth2client->tf-models-official) (0.4.8)\n",
      "Requirement already satisfied: typeguard>=2.7 in /usr/local/lib/python3.7/dist-packages (from tensorflow-addons->tf-models-official) (2.7.1)\n",
      "Requirement already satisfied: dm-tree~=0.1.1 in /usr/local/lib/python3.7/dist-packages (from tensorflow-model-optimization>=0.4.1->tf-models-official) (0.1.5)\n",
      "Requirement already satisfied: grpcio~=1.32.0 in /usr/local/lib/python3.7/dist-packages (from tensorflow>=2.4.0->tf-models-official) (1.32.0)\n",
      "Requirement already satisfied: flatbuffers~=1.12.0 in /usr/local/lib/python3.7/dist-packages (from tensorflow>=2.4.0->tf-models-official) (1.12)\n",
      "Requirement already satisfied: wheel~=0.35 in /usr/local/lib/python3.7/dist-packages (from tensorflow>=2.4.0->tf-models-official) (0.36.2)\n",
      "Requirement already satisfied: gast==0.3.3 in /usr/local/lib/python3.7/dist-packages (from tensorflow>=2.4.0->tf-models-official) (0.3.3)\n",
      "Requirement already satisfied: google-pasta~=0.2 in /usr/local/lib/python3.7/dist-packages (from tensorflow>=2.4.0->tf-models-official) (0.2.0)\n",
      "Requirement already satisfied: typing-extensions~=3.7.4 in /usr/local/lib/python3.7/dist-packages (from tensorflow>=2.4.0->tf-models-official) (3.7.4.3)\n",
      "Requirement already satisfied: h5py~=2.10.0 in /usr/local/lib/python3.7/dist-packages (from tensorflow>=2.4.0->tf-models-official) (2.10.0)\n",
      "Requirement already satisfied: protobuf>=3.9.2 in /usr/local/lib/python3.7/dist-packages (from tensorflow>=2.4.0->tf-models-official) (3.12.4)\n",
      "Requirement already satisfied: wrapt~=1.12.1 in /usr/local/lib/python3.7/dist-packages (from tensorflow>=2.4.0->tf-models-official) (1.12.1)\n",
      "Requirement already satisfied: astunparse~=1.6.3 in /usr/local/lib/python3.7/dist-packages (from tensorflow>=2.4.0->tf-models-official) (1.6.3)\n",
      "Requirement already satisfied: tensorboard~=2.4 in /usr/local/lib/python3.7/dist-packages (from tensorflow>=2.4.0->tf-models-official) (2.4.1)\n",
      "Requirement already satisfied: opt-einsum~=3.3.0 in /usr/local/lib/python3.7/dist-packages (from tensorflow>=2.4.0->tf-models-official) (3.3.0)\n",
      "Requirement already satisfied: keras-preprocessing~=1.1.2 in /usr/local/lib/python3.7/dist-packages (from tensorflow>=2.4.0->tf-models-official) (1.1.2)\n",
      "Requirement already satisfied: termcolor~=1.1.0 in /usr/local/lib/python3.7/dist-packages (from tensorflow>=2.4.0->tf-models-official) (1.1.0)\n",
      "Requirement already satisfied: tensorflow-estimator<2.5.0,>=2.4.0 in /usr/local/lib/python3.7/dist-packages (from tensorflow>=2.4.0->tf-models-official) (2.4.0)\n",
      "Requirement already satisfied: absl-py~=0.10 in /usr/local/lib/python3.7/dist-packages (from tensorflow>=2.4.0->tf-models-official) (0.10.0)\n",
      "Requirement already satisfied: kiwisolver>=1.0.1 in /usr/local/lib/python3.7/dist-packages (from matplotlib->tf-models-official) (1.3.1)\n",
      "Requirement already satisfied: python-dateutil>=2.1 in /usr/local/lib/python3.7/dist-packages (from matplotlib->tf-models-official) (2.8.1)\n",
      "Requirement already satisfied: cycler>=0.10 in /usr/local/lib/python3.7/dist-packages (from matplotlib->tf-models-official) (0.10.0)\n",
      "Requirement already satisfied: pyparsing!=2.0.4,!=2.1.2,!=2.1.6,>=2.0.1 in /usr/local/lib/python3.7/dist-packages (from matplotlib->tf-models-official) (2.4.7)\n",
      "Requirement already satisfied: tensorflow-metadata in /usr/local/lib/python3.7/dist-packages (from tensorflow-datasets->tf-models-official) (0.28.0)\n",
      "Requirement already satisfied: promise in /usr/local/lib/python3.7/dist-packages (from tensorflow-datasets->tf-models-official) (2.3)\n",
      "Requirement already satisfied: future in /usr/local/lib/python3.7/dist-packages (from tensorflow-datasets->tf-models-official) (0.16.0)\n",
      "Requirement already satisfied: attrs>=18.1.0 in /usr/local/lib/python3.7/dist-packages (from tensorflow-datasets->tf-models-official) (20.3.0)\n",
      "Requirement already satisfied: dill in /usr/local/lib/python3.7/dist-packages (from tensorflow-datasets->tf-models-official) (0.3.3)\n",
      "Requirement already satisfied: importlib-resources; python_version < \"3.9\" in /usr/local/lib/python3.7/dist-packages (from tensorflow-datasets->tf-models-official) (5.1.2)\n",
      "Requirement already satisfied: tqdm in /usr/local/lib/python3.7/dist-packages (from tensorflow-datasets->tf-models-official) (4.41.1)\n",
      "Requirement already satisfied: requests>=2.19.0 in /usr/local/lib/python3.7/dist-packages (from tensorflow-datasets->tf-models-official) (2.23.0)\n",
      "Requirement already satisfied: setuptools>=18.0 in /usr/local/lib/python3.7/dist-packages (from pycocotools->tf-models-official) (54.0.0)\n",
      "Requirement already satisfied: google-cloud-core<2.0dev,>=1.0.3 in /usr/local/lib/python3.7/dist-packages (from google-cloud-bigquery>=0.31.0->tf-models-official) (1.0.3)\n",
      "Requirement already satisfied: google-resumable-media!=0.4.0,<0.5.0dev,>=0.3.1 in /usr/local/lib/python3.7/dist-packages (from google-cloud-bigquery>=0.31.0->tf-models-official) (0.4.1)\n",
      "Requirement already satisfied: scikit-learn>=0.21.3 in /usr/local/lib/python3.7/dist-packages (from seqeval->tf-models-official) (0.22.2.post1)\n",
      "Requirement already satisfied: pytz>=2017.2 in /usr/local/lib/python3.7/dist-packages (from pandas>=0.22.0->tf-models-official) (2018.9)\n",
      "Requirement already satisfied: google-auth-httplib2>=0.0.3 in /usr/local/lib/python3.7/dist-packages (from google-api-python-client>=1.6.7->tf-models-official) (0.0.4)\n",
      "Requirement already satisfied: google-api-core<2dev,>=1.21.0 in /usr/local/lib/python3.7/dist-packages (from google-api-python-client>=1.6.7->tf-models-official) (1.26.1)\n",
      "Requirement already satisfied: uritemplate<4dev,>=3.0.0 in /usr/local/lib/python3.7/dist-packages (from google-api-python-client>=1.6.7->tf-models-official) (3.0.1)\n",
      "Requirement already satisfied: google-auth>=1.16.0 in /usr/local/lib/python3.7/dist-packages (from google-api-python-client>=1.6.7->tf-models-official) (1.27.1)\n",
      "Requirement already satisfied: python-slugify in /usr/local/lib/python3.7/dist-packages (from kaggle>=1.3.9->tf-models-official) (4.0.1)\n",
      "Requirement already satisfied: urllib3 in /usr/local/lib/python3.7/dist-packages (from kaggle>=1.3.9->tf-models-official) (1.24.3)\n",
      "Requirement already satisfied: certifi in /usr/local/lib/python3.7/dist-packages (from kaggle>=1.3.9->tf-models-official) (2020.12.5)\n",
      "Requirement already satisfied: tensorboard-plugin-wit>=1.6.0 in /usr/local/lib/python3.7/dist-packages (from tensorboard~=2.4->tensorflow>=2.4.0->tf-models-official) (1.8.0)\n",
      "Requirement already satisfied: google-auth-oauthlib<0.5,>=0.4.1 in /usr/local/lib/python3.7/dist-packages (from tensorboard~=2.4->tensorflow>=2.4.0->tf-models-official) (0.4.3)\n",
      "Requirement already satisfied: werkzeug>=0.11.15 in /usr/local/lib/python3.7/dist-packages (from tensorboard~=2.4->tensorflow>=2.4.0->tf-models-official) (1.0.1)\n",
      "Requirement already satisfied: markdown>=2.6.8 in /usr/local/lib/python3.7/dist-packages (from tensorboard~=2.4->tensorflow>=2.4.0->tf-models-official) (3.3.4)\n",
      "Requirement already satisfied: googleapis-common-protos<2,>=1.52.0 in /usr/local/lib/python3.7/dist-packages (from tensorflow-metadata->tensorflow-datasets->tf-models-official) (1.53.0)\n",
      "Requirement already satisfied: zipp>=0.4; python_version < \"3.8\" in /usr/local/lib/python3.7/dist-packages (from importlib-resources; python_version < \"3.9\"->tensorflow-datasets->tf-models-official) (3.4.1)\n",
      "Requirement already satisfied: chardet<4,>=3.0.2 in /usr/local/lib/python3.7/dist-packages (from requests>=2.19.0->tensorflow-datasets->tf-models-official) (3.0.4)\n",
      "Requirement already satisfied: idna<3,>=2.5 in /usr/local/lib/python3.7/dist-packages (from requests>=2.19.0->tensorflow-datasets->tf-models-official) (2.10)\n",
      "Requirement already satisfied: joblib>=0.11 in /usr/local/lib/python3.7/dist-packages (from scikit-learn>=0.21.3->seqeval->tf-models-official) (1.0.1)\n",
      "Requirement already satisfied: packaging>=14.3 in /usr/local/lib/python3.7/dist-packages (from google-api-core<2dev,>=1.21.0->google-api-python-client>=1.6.7->tf-models-official) (20.9)\n",
      "Requirement already satisfied: cachetools<5.0,>=2.0.0 in /usr/local/lib/python3.7/dist-packages (from google-auth>=1.16.0->google-api-python-client>=1.6.7->tf-models-official) (4.2.1)\n",
      "Requirement already satisfied: text-unidecode>=1.3 in /usr/local/lib/python3.7/dist-packages (from python-slugify->kaggle>=1.3.9->tf-models-official) (1.3)\n",
      "Requirement already satisfied: requests-oauthlib>=0.7.0 in /usr/local/lib/python3.7/dist-packages (from google-auth-oauthlib<0.5,>=0.4.1->tensorboard~=2.4->tensorflow>=2.4.0->tf-models-official) (1.3.0)\n",
      "Requirement already satisfied: importlib-metadata; python_version < \"3.8\" in /usr/local/lib/python3.7/dist-packages (from markdown>=2.6.8->tensorboard~=2.4->tensorflow>=2.4.0->tf-models-official) (3.7.0)\n",
      "Requirement already satisfied: oauthlib>=3.0.0 in /usr/local/lib/python3.7/dist-packages (from requests-oauthlib>=0.7.0->google-auth-oauthlib<0.5,>=0.4.1->tensorboard~=2.4->tensorflow>=2.4.0->tf-models-official) (3.1.0)\n",
      "[nltk_data] Downloading package punkt to /root/nltk_data...\n",
      "[nltk_data]   Package punkt is already up-to-date!\n"
     ]
    }
   ],
   "source": [
    "!pip install tensorflow-text\r\n",
    "!pip install tf-models-official\r\n",
    "import pandas as pd\r\n",
    "import numpy as np\r\n",
    "import random\r\n",
    "import nltk\r\n",
    "nltk.download('punkt')\r\n",
    "from nltk.tokenize import sent_tokenize, word_tokenize\r\n",
    "import string\r\n",
    "from keras.utils import to_categorical\r\n",
    "from keras.preprocessing.sequence import pad_sequences\r\n",
    "import tensorflow as tf\r\n",
    "import tensorflow_hub as hub\r\n",
    "import tensorflow_text as text\r\n",
    "\r\n",
    "from official.nlp import optimization\r\n",
    "tf.get_logger().setLevel('ERROR') "
   ]
  },
  {
   "cell_type": "code",
   "execution_count": 266,
   "metadata": {
    "id": "Vrb4hc-Pbche"
   },
   "outputs": [],
   "source": [
    "def load_dataset():\r\n",
    "  column_names = [ 'id', 'text', 'is_humor', 'humor_rating', 'humor_controversy', 'offense_rating' ]\r\n",
    "  data_path = '/content/drive/My Drive/data-nlp-humor-offense/train.csv'\r\n",
    "  data_frame = pd.read_csv(data_path, names=column_names, skiprows=1, na_values=\"?\", sep=\",\", skipinitialspace=True)\r\n",
    "  data = data_frame.fillna(0).to_numpy()\r\n",
    "\r\n",
    "  return data, data_frame"
   ]
  },
  {
   "cell_type": "code",
   "execution_count": 267,
   "metadata": {
    "colab": {
     "base_uri": "https://localhost:8080/"
    },
    "id": "IIycyfTebf7u",
    "outputId": "ce2a1c2d-7d2b-4b0e-90e7-5bd851770d32"
   },
   "outputs": [
    {
     "name": "stdout",
     "output_type": "stream",
     "text": [
      "[[1\n",
      "  \"TENNESSEE: We're the best state. Nobody even comes close. *Elevennessee walks into the room* TENNESSEE: Oh shit...\"\n",
      "  1 2.42 1.0 0.2]\n",
      " [2\n",
      "  'A man inserted an advertisement in the classifieds \"Wife Wanted\". The next day, he received 1000 of replies, all reading: \"You can have mine.\" Free delivery also available at your door step'\n",
      "  1 2.5 1.0 1.1]\n",
      " [3\n",
      "  'How many men does it take to open a can of beer? None. It should be open by the time she brings it to the couch.'\n",
      "  1 1.95 0.0 2.4]\n",
      " [4\n",
      "  \"Told my mom I hit 1200 Twitter followers. She pointed out how my brother owns a house and I'm wanted by several collection agencies. Oh ma!\"\n",
      "  1 2.11 1.0 0.0]\n",
      " [5\n",
      "  'Roses are dead. Love is fake. Weddings are basically funerals with cake.'\n",
      "  1 2.78 0.0 0.1]]\n"
     ]
    }
   ],
   "source": [
    "result, df_result = load_dataset()\r\n",
    "print(result[:5])"
   ]
  },
  {
   "cell_type": "code",
   "execution_count": 268,
   "metadata": {
    "id": "vVzIJlPOblnl"
   },
   "outputs": [],
   "source": [
    "train_data, train_labels = [], []\r\n",
    "val_data, val_labels = [], []\r\n",
    "test_data, test_labels = [], []\r\n",
    "\r\n",
    "humor_yes_data, humor_yes_labels = [], []\r\n",
    "humor_no_data, humor_no_labels = [], []\r\n",
    "\r\n",
    "for i in range(0, len(df_result['is_humor'])):\r\n",
    "  if df_result['is_humor'][i] == 1:\r\n",
    "    humor_yes_data.append(df_result['text'][i])\r\n",
    "    humor_yes_labels.append(df_result['is_humor'][i])\r\n",
    "  else:\r\n",
    "    humor_no_data.append(df_result['text'][i])\r\n",
    "    humor_no_labels.append(df_result['is_humor'][i])\r\n",
    "\r\n",
    "output_bias = np.log([len(humor_yes_data)/len(humor_no_data)])\r\n",
    "\r\n",
    "yes_total = len(humor_yes_labels)\r\n",
    "no_total = len(humor_no_data)\r\n",
    "p75_yes = int(0.75 * yes_total)\r\n",
    "p75_no = int(0.75 * no_total)\r\n",
    "\r\n",
    "train_data_temp = np.concatenate((humor_yes_data[:p75_yes], humor_no_data[:p75_no]))\r\n",
    "train_labels_temp = np.concatenate((humor_yes_labels[:p75_yes], humor_no_labels[:p75_no]))\r\n",
    "\r\n",
    "test_data_temp = np.concatenate((humor_yes_data[p75_yes:], humor_no_data[p75_no:]))\r\n",
    "test_labels_temp = np.concatenate((humor_yes_labels[p75_yes:], humor_no_labels[p75_no:]))\r\n",
    "\r\n",
    "train_keys = []\r\n",
    "test_keys = []\r\n",
    "\r\n",
    "result_train_map = {}\r\n",
    "for index in range(0,len(train_data_temp)):\r\n",
    "  result_train_map[index] = {'text': train_data_temp[index], 'label': train_labels_temp[index]}\r\n",
    "  train_keys.append(index)\r\n",
    "\r\n",
    "result_test_map = {}\r\n",
    "for index in range(0, len(test_data_temp)):\r\n",
    "  result_test_map[index] = {'text': test_data_temp[index], 'label': test_labels_temp[index]}\r\n",
    "  test_keys.append(index)\r\n",
    "\r\n",
    "random.shuffle(train_keys)\r\n",
    "random.shuffle(test_keys)\r\n",
    "\r\n",
    "for key in train_keys:\r\n",
    "  train_data.append(result_train_map[key].get('text'))\r\n",
    "  train_labels.append(result_train_map[key].get('label'))\r\n",
    "\r\n",
    "for key in test_keys:\r\n",
    "  test_data.append(result_test_map[key].get('text'))\r\n",
    "  test_labels.append(result_test_map[key].get('label'))\r\n",
    "\r\n",
    "train_data = np.array(train_data)\r\n",
    "train_labels = np.array(train_labels)\r\n",
    "test_data = np.array(test_data)\r\n",
    "test_labels = np.array(test_labels)\r\n",
    "\r\n",
    "d = {'text': train_data, 'label': train_labels}\r\n",
    "train_dataset = pd.DataFrame(data=d)\r\n",
    "\r\n",
    "d = {'text': test_data, 'label': test_labels}\r\n",
    "test_dataset = pd.DataFrame(data=d)"
   ]
  },
  {
   "cell_type": "code",
   "execution_count": 268,
   "metadata": {
    "id": "gYDZKDjz64FZ"
   },
   "outputs": [],
   "source": [
    ""
   ]
  },
  {
   "cell_type": "code",
   "execution_count": 269,
   "metadata": {
    "colab": {
     "base_uri": "https://localhost:8080/"
    },
    "id": "O7GmZFvUnpzq",
    "outputId": "fbe0bbe2-cd8e-44d9-8665-4c41e26ad136"
   },
   "outputs": [
    {
     "name": "stdout",
     "output_type": "stream",
     "text": [
      "BERT model selected           : https://tfhub.dev/google/electra_base/2\n",
      "Preprocess model auto-selected: https://tfhub.dev/tensorflow/bert_en_uncased_preprocess/3\n"
     ]
    }
   ],
   "source": [
    "bert_model_name = 'electra_base'\r\n",
    "# 'albert_en_base'\r\n",
    "# 'small_bert/bert_en_uncased_L-4_H-512_A-8' \r\n",
    "\r\n",
    "#  #@param [\"bert_en_uncased_L-12_H-768_A-12\", \"bert_en_cased_L-12_H-768_A-12\", \"bert_multi_cased_L-12_H-768_A-12\", \"small_bert/bert_en_uncased_L-2_H-128_A-2\", \"small_bert/bert_en_uncased_L-2_H-256_A-4\", \"small_bert/bert_en_uncased_L-2_H-512_A-8\", \"small_bert/bert_en_uncased_L-2_H-768_A-12\", \"small_bert/bert_en_uncased_L-4_H-128_A-2\", \"small_bert/bert_en_uncased_L-4_H-256_A-4\", \"small_bert/bert_en_uncased_L-4_H-512_A-8\", \"small_bert/bert_en_uncased_L-4_H-768_A-12\", \"small_bert/bert_en_uncased_L-6_H-128_A-2\", \"small_bert/bert_en_uncased_L-6_H-256_A-4\", \"small_bert/bert_en_uncased_L-6_H-512_A-8\", \"small_bert/bert_en_uncased_L-6_H-768_A-12\", \"small_bert/bert_en_uncased_L-8_H-128_A-2\", \"small_bert/bert_en_uncased_L-8_H-256_A-4\", \"small_bert/bert_en_uncased_L-8_H-512_A-8\", \"small_bert/bert_en_uncased_L-8_H-768_A-12\", \"small_bert/bert_en_uncased_L-10_H-128_A-2\", \"small_bert/bert_en_uncased_L-10_H-256_A-4\", \"small_bert/bert_en_uncased_L-10_H-512_A-8\", \"small_bert/bert_en_uncased_L-10_H-768_A-12\", \"small_bert/bert_en_uncased_L-12_H-128_A-2\", \"small_bert/bert_en_uncased_L-12_H-256_A-4\", \"small_bert/bert_en_uncased_L-12_H-512_A-8\", \"small_bert/bert_en_uncased_L-12_H-768_A-12\", \"albert_en_base\", \"electra_small\", \"electra_base\", \"experts_pubmed\", \"experts_wiki_books\", \"talking-heads_base\"]\r\n",
    "map_name_to_handle = {\r\n",
    "    'bert_en_uncased_L-12_H-768_A-12':\r\n",
    "        'https://tfhub.dev/tensorflow/bert_en_uncased_L-12_H-768_A-12/3',\r\n",
    "    'bert_en_cased_L-12_H-768_A-12':\r\n",
    "        'https://tfhub.dev/tensorflow/bert_en_cased_L-12_H-768_A-12/3',\r\n",
    "    'bert_multi_cased_L-12_H-768_A-12':\r\n",
    "        'https://tfhub.dev/tensorflow/bert_multi_cased_L-12_H-768_A-12/3',\r\n",
    "    'small_bert/bert_en_uncased_L-2_H-128_A-2':\r\n",
    "        'https://tfhub.dev/tensorflow/small_bert/bert_en_uncased_L-2_H-128_A-2/1',\r\n",
    "    'small_bert/bert_en_uncased_L-2_H-256_A-4':\r\n",
    "        'https://tfhub.dev/tensorflow/small_bert/bert_en_uncased_L-2_H-256_A-4/1',\r\n",
    "    'small_bert/bert_en_uncased_L-2_H-512_A-8':\r\n",
    "        'https://tfhub.dev/tensorflow/small_bert/bert_en_uncased_L-2_H-512_A-8/1',\r\n",
    "    'small_bert/bert_en_uncased_L-2_H-768_A-12':\r\n",
    "        'https://tfhub.dev/tensorflow/small_bert/bert_en_uncased_L-2_H-768_A-12/1',\r\n",
    "    'small_bert/bert_en_uncased_L-4_H-128_A-2':\r\n",
    "        'https://tfhub.dev/tensorflow/small_bert/bert_en_uncased_L-4_H-128_A-2/1',\r\n",
    "    'small_bert/bert_en_uncased_L-4_H-256_A-4':\r\n",
    "        'https://tfhub.dev/tensorflow/small_bert/bert_en_uncased_L-4_H-256_A-4/1',\r\n",
    "    'small_bert/bert_en_uncased_L-4_H-512_A-8':\r\n",
    "        'https://tfhub.dev/tensorflow/small_bert/bert_en_uncased_L-4_H-512_A-8/1',\r\n",
    "    'small_bert/bert_en_uncased_L-4_H-768_A-12':\r\n",
    "        'https://tfhub.dev/tensorflow/small_bert/bert_en_uncased_L-4_H-768_A-12/1',\r\n",
    "    'small_bert/bert_en_uncased_L-6_H-128_A-2':\r\n",
    "        'https://tfhub.dev/tensorflow/small_bert/bert_en_uncased_L-6_H-128_A-2/1',\r\n",
    "    'small_bert/bert_en_uncased_L-6_H-256_A-4':\r\n",
    "        'https://tfhub.dev/tensorflow/small_bert/bert_en_uncased_L-6_H-256_A-4/1',\r\n",
    "    'small_bert/bert_en_uncased_L-6_H-512_A-8':\r\n",
    "        'https://tfhub.dev/tensorflow/small_bert/bert_en_uncased_L-6_H-512_A-8/1',\r\n",
    "    'small_bert/bert_en_uncased_L-6_H-768_A-12':\r\n",
    "        'https://tfhub.dev/tensorflow/small_bert/bert_en_uncased_L-6_H-768_A-12/1',\r\n",
    "    'small_bert/bert_en_uncased_L-8_H-128_A-2':\r\n",
    "        'https://tfhub.dev/tensorflow/small_bert/bert_en_uncased_L-8_H-128_A-2/1',\r\n",
    "    'small_bert/bert_en_uncased_L-8_H-256_A-4':\r\n",
    "        'https://tfhub.dev/tensorflow/small_bert/bert_en_uncased_L-8_H-256_A-4/1',\r\n",
    "    'small_bert/bert_en_uncased_L-8_H-512_A-8':\r\n",
    "        'https://tfhub.dev/tensorflow/small_bert/bert_en_uncased_L-8_H-512_A-8/1',\r\n",
    "    'small_bert/bert_en_uncased_L-8_H-768_A-12':\r\n",
    "        'https://tfhub.dev/tensorflow/small_bert/bert_en_uncased_L-8_H-768_A-12/1',\r\n",
    "    'small_bert/bert_en_uncased_L-10_H-128_A-2':\r\n",
    "        'https://tfhub.dev/tensorflow/small_bert/bert_en_uncased_L-10_H-128_A-2/1',\r\n",
    "    'small_bert/bert_en_uncased_L-10_H-256_A-4':\r\n",
    "        'https://tfhub.dev/tensorflow/small_bert/bert_en_uncased_L-10_H-256_A-4/1',\r\n",
    "    'small_bert/bert_en_uncased_L-10_H-512_A-8':\r\n",
    "        'https://tfhub.dev/tensorflow/small_bert/bert_en_uncased_L-10_H-512_A-8/1',\r\n",
    "    'small_bert/bert_en_uncased_L-10_H-768_A-12':\r\n",
    "        'https://tfhub.dev/tensorflow/small_bert/bert_en_uncased_L-10_H-768_A-12/1',\r\n",
    "    'small_bert/bert_en_uncased_L-12_H-128_A-2':\r\n",
    "        'https://tfhub.dev/tensorflow/small_bert/bert_en_uncased_L-12_H-128_A-2/1',\r\n",
    "    'small_bert/bert_en_uncased_L-12_H-256_A-4':\r\n",
    "        'https://tfhub.dev/tensorflow/small_bert/bert_en_uncased_L-12_H-256_A-4/1',\r\n",
    "    'small_bert/bert_en_uncased_L-12_H-512_A-8':\r\n",
    "        'https://tfhub.dev/tensorflow/small_bert/bert_en_uncased_L-12_H-512_A-8/1',\r\n",
    "    'small_bert/bert_en_uncased_L-12_H-768_A-12':\r\n",
    "        'https://tfhub.dev/tensorflow/small_bert/bert_en_uncased_L-12_H-768_A-12/1',\r\n",
    "    'albert_en_base':\r\n",
    "        'https://tfhub.dev/tensorflow/albert_en_base/2',\r\n",
    "    'electra_small':\r\n",
    "        'https://tfhub.dev/google/electra_small/2',\r\n",
    "    'electra_base':\r\n",
    "        'https://tfhub.dev/google/electra_base/2',\r\n",
    "    'experts_pubmed':\r\n",
    "        'https://tfhub.dev/google/experts/bert/pubmed/2',\r\n",
    "    'experts_wiki_books':\r\n",
    "        'https://tfhub.dev/google/experts/bert/wiki_books/2',\r\n",
    "    'talking-heads_base':\r\n",
    "        'https://tfhub.dev/tensorflow/talkheads_ggelu_bert_en_base/1',\r\n",
    "}\r\n",
    "\r\n",
    "map_model_to_preprocess = {\r\n",
    "    'bert_en_uncased_L-12_H-768_A-12':\r\n",
    "        'https://tfhub.dev/tensorflow/bert_en_uncased_preprocess/3',\r\n",
    "    'bert_en_cased_L-12_H-768_A-12':\r\n",
    "        'https://tfhub.dev/tensorflow/bert_en_cased_preprocess/3',\r\n",
    "    'small_bert/bert_en_uncased_L-2_H-128_A-2':\r\n",
    "        'https://tfhub.dev/tensorflow/bert_en_uncased_preprocess/3',\r\n",
    "    'small_bert/bert_en_uncased_L-2_H-256_A-4':\r\n",
    "        'https://tfhub.dev/tensorflow/bert_en_uncased_preprocess/3',\r\n",
    "    'small_bert/bert_en_uncased_L-2_H-512_A-8':\r\n",
    "        'https://tfhub.dev/tensorflow/bert_en_uncased_preprocess/3',\r\n",
    "    'small_bert/bert_en_uncased_L-2_H-768_A-12':\r\n",
    "        'https://tfhub.dev/tensorflow/bert_en_uncased_preprocess/3',\r\n",
    "    'small_bert/bert_en_uncased_L-4_H-128_A-2':\r\n",
    "        'https://tfhub.dev/tensorflow/bert_en_uncased_preprocess/3',\r\n",
    "    'small_bert/bert_en_uncased_L-4_H-256_A-4':\r\n",
    "        'https://tfhub.dev/tensorflow/bert_en_uncased_preprocess/3',\r\n",
    "    'small_bert/bert_en_uncased_L-4_H-512_A-8':\r\n",
    "        'https://tfhub.dev/tensorflow/bert_en_uncased_preprocess/3',\r\n",
    "    'small_bert/bert_en_uncased_L-4_H-768_A-12':\r\n",
    "        'https://tfhub.dev/tensorflow/bert_en_uncased_preprocess/3',\r\n",
    "    'small_bert/bert_en_uncased_L-6_H-128_A-2':\r\n",
    "        'https://tfhub.dev/tensorflow/bert_en_uncased_preprocess/3',\r\n",
    "    'small_bert/bert_en_uncased_L-6_H-256_A-4':\r\n",
    "        'https://tfhub.dev/tensorflow/bert_en_uncased_preprocess/3',\r\n",
    "    'small_bert/bert_en_uncased_L-6_H-512_A-8':\r\n",
    "        'https://tfhub.dev/tensorflow/bert_en_uncased_preprocess/3',\r\n",
    "    'small_bert/bert_en_uncased_L-6_H-768_A-12':\r\n",
    "        'https://tfhub.dev/tensorflow/bert_en_uncased_preprocess/3',\r\n",
    "    'small_bert/bert_en_uncased_L-8_H-128_A-2':\r\n",
    "        'https://tfhub.dev/tensorflow/bert_en_uncased_preprocess/3',\r\n",
    "    'small_bert/bert_en_uncased_L-8_H-256_A-4':\r\n",
    "        'https://tfhub.dev/tensorflow/bert_en_uncased_preprocess/3',\r\n",
    "    'small_bert/bert_en_uncased_L-8_H-512_A-8':\r\n",
    "        'https://tfhub.dev/tensorflow/bert_en_uncased_preprocess/3',\r\n",
    "    'small_bert/bert_en_uncased_L-8_H-768_A-12':\r\n",
    "        'https://tfhub.dev/tensorflow/bert_en_uncased_preprocess/3',\r\n",
    "    'small_bert/bert_en_uncased_L-10_H-128_A-2':\r\n",
    "        'https://tfhub.dev/tensorflow/bert_en_uncased_preprocess/3',\r\n",
    "    'small_bert/bert_en_uncased_L-10_H-256_A-4':\r\n",
    "        'https://tfhub.dev/tensorflow/bert_en_uncased_preprocess/3',\r\n",
    "    'small_bert/bert_en_uncased_L-10_H-512_A-8':\r\n",
    "        'https://tfhub.dev/tensorflow/bert_en_uncased_preprocess/3',\r\n",
    "    'small_bert/bert_en_uncased_L-10_H-768_A-12':\r\n",
    "        'https://tfhub.dev/tensorflow/bert_en_uncased_preprocess/3',\r\n",
    "    'small_bert/bert_en_uncased_L-12_H-128_A-2':\r\n",
    "        'https://tfhub.dev/tensorflow/bert_en_uncased_preprocess/3',\r\n",
    "    'small_bert/bert_en_uncased_L-12_H-256_A-4':\r\n",
    "        'https://tfhub.dev/tensorflow/bert_en_uncased_preprocess/3',\r\n",
    "    'small_bert/bert_en_uncased_L-12_H-512_A-8':\r\n",
    "        'https://tfhub.dev/tensorflow/bert_en_uncased_preprocess/3',\r\n",
    "    'small_bert/bert_en_uncased_L-12_H-768_A-12':\r\n",
    "        'https://tfhub.dev/tensorflow/bert_en_uncased_preprocess/3',\r\n",
    "    'bert_multi_cased_L-12_H-768_A-12':\r\n",
    "        'https://tfhub.dev/tensorflow/bert_multi_cased_preprocess/3',\r\n",
    "    'albert_en_base':\r\n",
    "        'https://tfhub.dev/tensorflow/albert_en_preprocess/3',\r\n",
    "    'electra_small':\r\n",
    "        'https://tfhub.dev/tensorflow/bert_en_uncased_preprocess/3',\r\n",
    "    'electra_base':\r\n",
    "        'https://tfhub.dev/tensorflow/bert_en_uncased_preprocess/3',\r\n",
    "    'experts_pubmed':\r\n",
    "        'https://tfhub.dev/tensorflow/bert_en_uncased_preprocess/3',\r\n",
    "    'experts_wiki_books':\r\n",
    "        'https://tfhub.dev/tensorflow/bert_en_uncased_preprocess/3',\r\n",
    "    'talking-heads_base':\r\n",
    "        'https://tfhub.dev/tensorflow/bert_en_uncased_preprocess/3',\r\n",
    "}\r\n",
    "\r\n",
    "tfhub_handle_encoder = map_name_to_handle[bert_model_name]\r\n",
    "tfhub_handle_preprocess = map_model_to_preprocess[bert_model_name]\r\n",
    "\r\n",
    "print(f'BERT model selected           : {tfhub_handle_encoder}')\r\n",
    "print(f'Preprocess model auto-selected: {tfhub_handle_preprocess}')"
   ]
  },
  {
   "cell_type": "code",
   "execution_count": 270,
   "metadata": {
    "id": "ctGvQHjBnEUr"
   },
   "outputs": [],
   "source": [
    "bert_preprocess_model = hub.KerasLayer(tfhub_handle_preprocess)"
   ]
  },
  {
   "cell_type": "code",
   "execution_count": 271,
   "metadata": {
    "colab": {
     "base_uri": "https://localhost:8080/"
    },
    "id": "qwgHFUfqoquu",
    "outputId": "63177c43-a598-48fa-aecf-916c8f0c4b46"
   },
   "outputs": [
    {
     "name": "stdout",
     "output_type": "stream",
     "text": [
      "Keys       : ['input_word_ids', 'input_mask', 'input_type_ids']\n",
      "Shape      : (1, 128)\n",
      "Word Ids   : [ 101 2023 2003 2107 2019 6429 3185  999  102    0    0    0]\n",
      "Input Mask : [1 1 1 1 1 1 1 1 1 0 0 0]\n",
      "Type Ids   : [0 0 0 0 0 0 0 0 0 0 0 0]\n"
     ]
    }
   ],
   "source": [
    "text_test = ['this is such an amazing movie!']\r\n",
    "text_preprocessed = bert_preprocess_model(text_test)\r\n",
    "\r\n",
    "print(f'Keys       : {list(text_preprocessed.keys())}')\r\n",
    "print(f'Shape      : {text_preprocessed[\"input_word_ids\"].shape}')\r\n",
    "print(f'Word Ids   : {text_preprocessed[\"input_word_ids\"][0, :12]}')\r\n",
    "print(f'Input Mask : {text_preprocessed[\"input_mask\"][0, :12]}')\r\n",
    "print(f'Type Ids   : {text_preprocessed[\"input_type_ids\"][0, :12]}')"
   ]
  },
  {
   "cell_type": "code",
   "execution_count": 272,
   "metadata": {
    "id": "MjF6jeaZpSGJ"
   },
   "outputs": [],
   "source": [
    "def build_classifier_model():\r\n",
    "  text_input = tf.keras.layers.Input(shape=(), dtype=tf.string, name='text')\r\n",
    "  preprocessing_layer = hub.KerasLayer(tfhub_handle_preprocess, name='preprocessing')\r\n",
    "  encoder_inputs = preprocessing_layer(text_input)\r\n",
    "  encoder = hub.KerasLayer(tfhub_handle_encoder, trainable=True, name='BERT_encoder')\r\n",
    "  outputs = encoder(encoder_inputs)\r\n",
    "  net = outputs['pooled_output']\r\n",
    "  net = tf.keras.layers.Dropout(0.1)(net)\r\n",
    "  net = tf.keras.layers.Dense(1, activation=None, name='classifier')(net)\r\n",
    "  return tf.keras.Model(text_input, net)"
   ]
  },
  {
   "cell_type": "code",
   "execution_count": 273,
   "metadata": {
    "colab": {
     "base_uri": "https://localhost:8080/"
    },
    "id": "dFSWsL_rpS79",
    "outputId": "2d080b1d-d275-4686-d465-dd0d00059463"
   },
   "outputs": [
    {
     "name": "stdout",
     "output_type": "stream",
     "text": [
      "tf.Tensor([[0.3993632]], shape=(1, 1), dtype=float32)\n"
     ]
    }
   ],
   "source": [
    "classifier_model = build_classifier_model()\r\n",
    "bert_raw_result = classifier_model(tf.constant(text_test))\r\n",
    "print(tf.sigmoid(bert_raw_result))"
   ]
  },
  {
   "cell_type": "code",
   "execution_count": 274,
   "metadata": {
    "colab": {
     "base_uri": "https://localhost:8080/",
     "height": 466.0
    },
    "id": "ZNWpzbajpXRJ",
    "outputId": "1cb81a12-d5ba-4707-98cb-411e7b639188"
   },
   "outputs": [
    {
     "data": {
      "image/png": "[encoded data removed]",
      "text/plain": [
       "<IPython.core.display.Image object>"
      ]
     },
     "execution_count": 274,
     "metadata": {
      "tags": []
     },
     "output_type": "execute_result"
    }
   ],
   "source": [
    "tf.keras.utils.plot_model(classifier_model)"
   ]
  },
  {
   "cell_type": "code",
   "execution_count": 275,
   "metadata": {
    "id": "PJ2jlaQAphXk"
   },
   "outputs": [],
   "source": [
    "loss = tf.keras.losses.BinaryCrossentropy(from_logits=True)\r\n",
    "metrics = tf.metrics.BinaryAccuracy()"
   ]
  },
  {
   "cell_type": "code",
   "execution_count": 276,
   "metadata": {
    "id": "8425BbYcu7WL"
   },
   "outputs": [],
   "source": [
    "train_ds = (\r\n",
    "    tf.data.Dataset.from_tensor_slices(\r\n",
    "        (\r\n",
    "            tf.cast(train_dataset['text'].values, tf.string, name='sentences'),\r\n",
    "            tf.cast(train_dataset['label'].values, tf.int32, name='sentences')\r\n",
    "        )\r\n",
    "    )\r\n",
    ")\r\n",
    "\r\n",
    "test_ds = (\r\n",
    "    tf.data.Dataset.from_tensor_slices(\r\n",
    "        (\r\n",
    "            tf.cast(test_dataset['text'].values, tf.string, name='sentences'),\r\n",
    "            tf.cast(test_dataset['label'].values, tf.int32, name='sentences')\r\n",
    "        )\r\n",
    "    )\r\n",
    ")"
   ]
  },
  {
   "cell_type": "code",
   "execution_count": 277,
   "metadata": {
    "id": "ophHOFcspk9q"
   },
   "outputs": [],
   "source": [
    "epochs = 5\r\n",
    "steps_per_epoch = tf.data.experimental.cardinality(train_ds).numpy()\r\n",
    "num_train_steps = steps_per_epoch * epochs\r\n",
    "num_warmup_steps = int(0.1*num_train_steps)\r\n",
    "# optimizer=tf.keras.optimizers.SGD(learning_rate=0.000001, momentum=0.9)\r\n",
    "optimizer=tf.keras.optimizers.Adam(0.00001)"
   ]
  },
  {
   "cell_type": "markdown",
   "metadata": {
    "id": "LrLZp1aLm5u3"
   },
   "source": [
    ""
   ]
  },
  {
   "cell_type": "code",
   "execution_count": 278,
   "metadata": {
    "id": "4INucKeXppoF"
   },
   "outputs": [],
   "source": [
    "classifier_model.compile(optimizer=optimizer,\r\n",
    "                         loss=loss,\r\n",
    "                         metrics=metrics)"
   ]
  },
  {
   "cell_type": "code",
   "execution_count": 279,
   "metadata": {
    "colab": {
     "base_uri": "https://localhost:8080/"
    },
    "id": "pvJKg2IoppyP",
    "outputId": "8530d7d5-4cfa-49c3-fdae-af92a6ecc388"
   },
   "outputs": [
    {
     "name": "stdout",
     "output_type": "stream",
     "text": [
      "Training model with https://tfhub.dev/google/electra_base/2\n",
      "Epoch 1/50\n",
      "141/141 [==============================] - 67s 378ms/step - loss: 0.4635 - binary_accuracy: 0.7478 - val_loss: 0.1626 - val_binary_accuracy: 0.9307\n",
      "Epoch 2/50\n",
      "141/141 [==============================] - 52s 372ms/step - loss: 0.1266 - binary_accuracy: 0.9547 - val_loss: 0.1465 - val_binary_accuracy: 0.9447\n",
      "Epoch 3/50\n",
      "141/141 [==============================] - 52s 373ms/step - loss: 0.0555 - binary_accuracy: 0.9825 - val_loss: 0.1795 - val_binary_accuracy: 0.9387\n"
     ]
    }
   ],
   "source": [
    "print(f'Training model with {tfhub_handle_encoder}')\r\n",
    "callback = tf.keras.callbacks.EarlyStopping(monitor='val_loss', patience=1, mode='auto')\r\n",
    "with tf.device('/GPU:0'):\r\n",
    "  history = classifier_model.fit(train_dataset['text'].values,train_dataset['label'].values, epochs=50, validation_split=0.25, verbose=1, callbacks=callback)"
   ]
  },
  {
   "cell_type": "code",
   "execution_count": 280,
   "metadata": {
    "colab": {
     "base_uri": "https://localhost:8080/"
    },
    "id": "AAB7spINpvz6",
    "outputId": "b5eb4fa4-6504-4f34-e51e-53e600fa8acd"
   },
   "outputs": [
    {
     "name": "stdout",
     "output_type": "stream",
     "text": [
      "63/63 [==============================] - 9s 136ms/step - loss: 0.1792 - binary_accuracy: 0.9405\n",
      "Loss: 0.17917262017726898\n",
      "Accuracy: 0.940500020980835\n"
     ]
    }
   ],
   "source": [
    "with tf.device('/GPU:0'):\r\n",
    "  loss, accuracy = classifier_model.evaluate(test_dataset['text'].values, test_dataset['label'].values, verbose=1)\r\n",
    "\r\n",
    "print(f'Loss: {loss}')\r\n",
    "print(f'Accuracy: {accuracy}')"
   ]
  }
 ],
 "metadata": {
  "accelerator": "GPU",
  "colab": {
   "name": "bert-model.ipynb",
   "provenance": [],
   "collapsed_sections": []
  },
  "kernelspec": {
   "display_name": "Python 3",
   "name": "python3"
  }
 },
 "nbformat": 4,
 "nbformat_minor": 0
}
