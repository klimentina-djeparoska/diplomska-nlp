{
  "nbformat": 4,
  "nbformat_minor": 0,
  "metadata": {
    "colab": {
      "name": "offense_rating_simple_model_dense_layers.ipynb",
      "provenance": [],
      "collapsed_sections": [],
      "machine_shape": "hm"
    },
    "kernelspec": {
      "name": "python3",
      "display_name": "Python 3"
    }
  },
  "cells": [
    {
      "cell_type": "code",
      "metadata": {
        "id": "BmhHcKcjPapl",
        "colab": {
          "base_uri": "https://localhost:8080/"
        },
        "outputId": "b361707b-b39c-4e8d-dbc2-701f78782fea"
      },
      "source": [
        "# connect with google drive\n",
        "from google.colab import drive\n",
        "drive.mount('/content/drive', force_remount=True)"
      ],
      "execution_count": null,
      "outputs": [
        {
          "output_type": "stream",
          "name": "stdout",
          "text": [
            "Mounted at /content/drive\n"
          ]
        }
      ]
    },
    {
      "cell_type": "code",
      "metadata": {
        "id": "HFiBr2XqSGD5",
        "colab": {
          "base_uri": "https://localhost:8080/"
        },
        "outputId": "89a2959f-d735-4485-d741-60f7a477b397"
      },
      "source": [
        "!pip install keras\n",
        "import pandas as pd\n",
        "import numpy as np\n",
        "import random\n",
        "import nltk\n",
        "nltk.download('punkt')\n",
        "nltk.download('sentiwordnet')\n",
        "nltk.download('wordnet')\n",
        "nltk.download('stopwords')\n",
        "nltk.download('averaged_perceptron_tagger')\n",
        "from nltk.tokenize import sent_tokenize, word_tokenize\n",
        "from nltk.corpus import sentiwordnet as swn\n",
        "import string\n",
        "from tensorflow.keras.utils import to_categorical\n",
        "from keras.preprocessing.sequence import pad_sequences\n",
        "import tensorflow as tf\n"
      ],
      "execution_count": null,
      "outputs": [
        {
          "output_type": "stream",
          "name": "stdout",
          "text": [
            "Requirement already satisfied: keras in /usr/local/lib/python3.7/dist-packages (2.6.0)\n",
            "[nltk_data] Downloading package punkt to /root/nltk_data...\n",
            "[nltk_data]   Unzipping tokenizers/punkt.zip.\n",
            "[nltk_data] Downloading package sentiwordnet to /root/nltk_data...\n",
            "[nltk_data]   Unzipping corpora/sentiwordnet.zip.\n",
            "[nltk_data] Downloading package wordnet to /root/nltk_data...\n",
            "[nltk_data]   Unzipping corpora/wordnet.zip.\n",
            "[nltk_data] Downloading package stopwords to /root/nltk_data...\n",
            "[nltk_data]   Unzipping corpora/stopwords.zip.\n",
            "[nltk_data] Downloading package averaged_perceptron_tagger to\n",
            "[nltk_data]     /root/nltk_data...\n",
            "[nltk_data]   Unzipping taggers/averaged_perceptron_tagger.zip.\n"
          ]
        }
      ]
    },
    {
      "cell_type": "code",
      "metadata": {
        "id": "sK3CQCMCQKF_"
      },
      "source": [
        "def load_dataset():\n",
        "  column_names = [ 'id', 'text', 'is_humor', 'humor_rating', 'humor_controversy', 'offense_rating' ]\n",
        "  data_path = '/content/drive/My Drive/data-nlp-humor-offense/train.csv'\n",
        "  data_frame = pd.read_csv(data_path, names=column_names, skiprows=1, na_values=\"?\", sep=\",\", skipinitialspace=True)\n",
        "  data = data_frame.fillna(0).to_numpy()\n",
        "\n",
        "  return data, data_frame"
      ],
      "execution_count": null,
      "outputs": []
    },
    {
      "cell_type": "code",
      "metadata": {
        "colab": {
          "base_uri": "https://localhost:8080/"
        },
        "id": "cdL8dNRjQto-",
        "outputId": "4b412b4f-dbc2-442d-8cd3-e69a2989f2df"
      },
      "source": [
        "result, df_result = load_dataset()\n",
        "print(result[:5])"
      ],
      "execution_count": null,
      "outputs": [
        {
          "output_type": "stream",
          "name": "stdout",
          "text": [
            "[[1\n",
            "  \"TENNESSEE: We're the best state. Nobody even comes close. *Elevennessee walks into the room* TENNESSEE: Oh shit...\"\n",
            "  1 2.42 1.0 0.2]\n",
            " [2\n",
            "  'A man inserted an advertisement in the classifieds \"Wife Wanted\". The next day, he received 1000 of replies, all reading: \"You can have mine.\" Free delivery also available at your door step'\n",
            "  1 2.5 1.0 1.1]\n",
            " [3\n",
            "  'How many men does it take to open a can of beer? None. It should be open by the time she brings it to the couch.'\n",
            "  1 1.95 0.0 2.4]\n",
            " [4\n",
            "  \"Told my mom I hit 1200 Twitter followers. She pointed out how my brother owns a house and I'm wanted by several collection agencies. Oh ma!\"\n",
            "  1 2.11 1.0 0.0]\n",
            " [5\n",
            "  'Roses are dead. Love is fake. Weddings are basically funerals with cake.'\n",
            "  1 2.78 0.0 0.1]]\n"
          ]
        }
      ]
    },
    {
      "cell_type": "code",
      "metadata": {
        "colab": {
          "base_uri": "https://localhost:8080/"
        },
        "id": "IXTpvXFcfo1x",
        "outputId": "2f6c71b3-b43e-4b89-f7ae-91c476b3d8bb"
      },
      "source": [
        "print(df_result['is_humor'].value_counts())\n",
        "print(df_result['humor_rating'].value_counts())\n",
        "print(df_result['humor_controversy'].value_counts())\n",
        "print(df_result['offense_rating'].value_counts())"
      ],
      "execution_count": null,
      "outputs": [
        {
          "output_type": "stream",
          "name": "stdout",
          "text": [
            "1    4932\n",
            "0    3068\n",
            "Name: is_humor, dtype: int64\n",
            "2.00    156\n",
            "2.50    125\n",
            "2.05    111\n",
            "2.60    109\n",
            "2.25    101\n",
            "       ... \n",
            "3.13      1\n",
            "0.47      1\n",
            "2.57      1\n",
            "3.74      1\n",
            "0.30      1\n",
            "Name: humor_rating, Length: 253, dtype: int64\n",
            "0.0    2467\n",
            "1.0    2465\n",
            "Name: humor_controversy, dtype: int64\n",
            "0.00    3388\n",
            "0.15     394\n",
            "0.05     387\n",
            "0.10     333\n",
            "0.20     306\n",
            "        ... \n",
            "4.85       2\n",
            "4.80       2\n",
            "4.55       2\n",
            "4.75       1\n",
            "4.45       1\n",
            "Name: offense_rating, Length: 98, dtype: int64\n"
          ]
        }
      ]
    },
    {
      "cell_type": "code",
      "metadata": {
        "id": "09Go-yTSizFd"
      },
      "source": [
        "def format_text_to_one_hot(array_of_texts):\n",
        "  vocabulary = []\n",
        "  vocabulary_map = {}\n",
        "  counter = 1\n",
        "  end_result = []\n",
        "  texts_scores = []\n",
        "\n",
        "  for text in array_of_texts:\n",
        "    \n",
        "    text_represented_with_numbers = []\n",
        "    positive_text_score = 0\n",
        "    negative_text_score = 0\n",
        "    # break the text into sentences\n",
        "    sentences = sent_tokenize(text)\n",
        "\n",
        "    for sentence in sentences:\n",
        "\n",
        "      # break the sentence into words\n",
        "      words_array = word_tokenize(sentence)\n",
        "\n",
        "      for word in words_array:\n",
        "\n",
        "        # remove punctuation\n",
        "        word = word.translate(str.maketrans('', '', string.punctuation))\n",
        "        \n",
        "        # lower case all letters \n",
        "        word = word.lower()\n",
        "\n",
        "        if word != '' and word != 's':\n",
        "          if not vocabulary.__contains__(word):\n",
        "            vocabulary.append(word)\n",
        "            vocabulary_map[word] = counter\n",
        "            counter += 1\n",
        "          \n",
        "          text_represented_with_numbers.append(vocabulary_map[word])\n",
        "\n",
        "        # add positive negative score\n",
        "\n",
        "    # add text to result array\n",
        "    end_result.append(text_represented_with_numbers)\n",
        "   # difference = positive_text_score/negative_text_score\n",
        "   # texts_scores.append(difference)\n",
        "  \n",
        "  # arrays to have same length\n",
        "  padded_seq = pad_sequences(end_result, maxlen=63, dtype='int32', padding='pre', value=0.0)\n",
        "  print(len(vocabulary))\n",
        "  return padded_seq"
      ],
      "execution_count": null,
      "outputs": []
    },
    {
      "cell_type": "code",
      "metadata": {
        "id": "1Gy0eR2WK4gX"
      },
      "source": [
        "# n - NOUN\n",
        "#v - VERB\n",
        "#a - ADJECTIVE\n",
        "#s - ADJECTIVE SATELLITE\n",
        "#r - ADVERB\n",
        "\n",
        "from nltk.corpus import stopwords\n",
        "from nltk.stem import WordNetLemmatizer\n",
        "from nltk.corpus import wordnet as wn\n",
        "lemmatizer = WordNetLemmatizer()\n",
        "\n",
        "def penn_to_wn(tag):\n",
        "    if tag.startswith('J'):\n",
        "        return wn.ADJ\n",
        "    elif tag.startswith('N'):\n",
        "        return wn.NOUN\n",
        "    elif tag.startswith('R'):\n",
        "        return wn.ADV\n",
        "    elif tag.startswith('V'):\n",
        "        return wn.VERB\n",
        "    return None\n",
        "\n",
        "# Returns list of pos-neg and objective score. But returns empty list if not present in senti wordnet.\n",
        "def get_sentiment(word,tag):\n",
        "    wn_tag = penn_to_wn(tag)\n",
        "    \n",
        "    if wn_tag not in (wn.NOUN, wn.ADJ, wn.ADV):\n",
        "        return []\n",
        "\n",
        "    #Lemmatization\n",
        "    lemma = lemmatizer.lemmatize(word, pos=wn_tag)\n",
        "    if not lemma:\n",
        "        return []\n",
        "\n",
        "    #Synset is a special kind of a simple interface that is present in NLTK to look up words in WordNet. \n",
        "    #Synset instances are the groupings of synonymous words that express the same concept. \n",
        "    #Some of the words have only one Synset and some have several.\n",
        "    synsets = wn.synsets(word, pos=wn_tag)\n",
        "    if not synsets:\n",
        "        return []\n",
        "\n",
        "    # Take the first sense, the most common\n",
        "    synset = synsets[0]\n",
        "    swn_synset = swn.senti_synset(synset.name())\n",
        "\n",
        "    return [synset.name(), swn_synset.pos_score(),swn_synset.neg_score(),swn_synset.obj_score()]\n",
        "\n",
        "    pos=neg=obj=count=0\n",
        "    \n",
        "\n",
        "def getPostTags(array_of_texts):\n",
        "  vocabulary = []\n",
        "  vocabulary_map = {}\n",
        "  counter = 1\n",
        "  end_result = []\n",
        "  texts_scores = []\n",
        "  postagging = []\n",
        "\n",
        "  for text in array_of_texts:\n",
        "    \n",
        "    text_represented_with_numbers = []\n",
        "    positive_text_score = 0\n",
        "    negative_text_score = 0\n",
        "    # break the text into sentences\n",
        "    sentences = sent_tokenize(text)\n",
        "    posttagging_sentences = []\n",
        "    for sentence in sentences:\n",
        "\n",
        "      # break the sentence into words\n",
        "      words_array = word_tokenize(sentence)\n",
        "      stop_words = set(stopwords.words('english'))\n",
        "      filtered_sentence = [w for w in words_array if not w in stop_words] \n",
        "\n",
        "      # remove punctuation\n",
        "      word_tokens2 = [w for w in filtered_sentence if not w in string.punctuation]\n",
        "      # lower case all letters \n",
        "      lower_case_sentance = map(lambda w: w.lower(), word_tokens2)\n",
        "      #lemmatization\n",
        "      lemmatized_output = [lemmatizer.lemmatize(w) for w in word_tokens2]\n",
        "        \n",
        "      # Remove characters which have length less than 2  \n",
        "      without_single_chr = [word for word in lemmatized_output if len(word) > 2]\n",
        "      # Remove numbers\n",
        "      cleaned_data = [word for word in without_single_chr if not word.isnumeric()]\n",
        "      \n",
        "      posttagging_sentences.append(nltk.pos_tag(cleaned_data))\n",
        "    \n",
        "    postagging.append(posttagging_sentences)\n",
        "  return postagging\n",
        "\n",
        "    ###################################################################################\n",
        "\n"
      ],
      "execution_count": null,
      "outputs": []
    },
    {
      "cell_type": "code",
      "metadata": {
        "id": "R2aHzQdWn9aM"
      },
      "source": [
        "# value = [\"Something, this is an example. One!\", \"This is two!! Really, that's exactly what i though.\"]\n",
        "# format_text_to_one_hot(value)"
      ],
      "execution_count": null,
      "outputs": []
    },
    {
      "cell_type": "code",
      "metadata": {
        "id": "6U-OqRxCqIe5",
        "colab": {
          "base_uri": "https://localhost:8080/"
        },
        "outputId": "50f08401-df44-49fa-887a-48ce49cbbb98"
      },
      "source": [
        "texts = df_result['text']\n",
        "values = df_result['humor_rating']\n",
        "np.save('/tmp/values', values)\n",
        "print(len(texts))\n",
        "with tf.device('/GPU:0'):\n",
        "  formatted_texts = format_text_to_one_hot(texts)\n",
        "np.save('/tmp/formatted_texts', formatted_texts)\n",
        "print(len(formatted_texts))"
      ],
      "execution_count": null,
      "outputs": [
        {
          "output_type": "stream",
          "name": "stdout",
          "text": [
            "8000\n",
            "15050\n",
            "8000\n"
          ]
        }
      ]
    },
    {
      "cell_type": "code",
      "metadata": {
        "colab": {
          "base_uri": "https://localhost:8080/"
        },
        "id": "ObxWn1kpgigB",
        "outputId": "c89d8700-9227-4a04-d299-36c5d0a94e22"
      },
      "source": [
        "senti_score = []\n",
        "pos=neg=obj=count=0\n",
        "with tf.device('/GPU:0'):\n",
        "  posttagging = getPostTags(texts)\n",
        "print(posttagging[:5])\n",
        "count1 = 1\n",
        "for text in posttagging:\n",
        "  senti_scores_text = 0\n",
        "  for sentence in text:\n",
        "    \n",
        "    senti_val = [get_sentiment(x,y) for (x,y) in sentence]\n",
        "    for score in senti_val:\n",
        "      try:\n",
        "        pos = pos + score[1]  #positive score is stored at 2nd position\n",
        "        neg = neg + score[2]  #negative score is stored at 3rd position\n",
        "      except:\n",
        "        continue\n",
        "    result_score = pos - neg\n",
        "    senti_scores_text += result_score \n",
        "    pos=neg=0 \n",
        "  senti_score.append(senti_scores_text)\n",
        "\n",
        "print(senti_score[:2])"
      ],
      "execution_count": null,
      "outputs": [
        {
          "output_type": "stream",
          "name": "stdout",
          "text": [
            "[[[('TENNESSEE', 'NNP'), (\"'re\", 'VBP'), ('best', 'JJS'), ('state', 'NN')], [('Nobody', 'NN'), ('even', 'RB'), ('come', 'VBP'), ('close', 'RB')], [('*Elevennessee', 'NN'), ('walk', 'NN'), ('room*', 'NN'), ('TENNESSEE', 'NNP'), ('shit', 'NN'), ('...', ':')]], [[('man', 'NN'), ('inserted', 'VBD'), ('advertisement', 'JJ'), ('classified', 'JJ'), ('Wife', 'NNP'), ('Wanted', 'VBD')], [('The', 'DT'), ('next', 'JJ'), ('day', 'NN'), ('received', 'VBD'), ('reply', 'RB'), ('reading', 'VBG'), ('You', 'PRP'), ('mine', 'VBP')], [('Free', 'JJ'), ('delivery', 'NN'), ('also', 'RB'), ('available', 'JJ'), ('door', 'JJ'), ('step', 'NN')]], [[('How', 'WRB'), ('many', 'JJ'), ('men', 'NNS'), ('take', 'VBP'), ('open', 'JJ'), ('beer', 'NN')], [('None', 'NN')], [('open', 'JJ'), ('time', 'NN'), ('brings', 'VBZ'), ('couch', 'JJ')]], [[('Told', 'NNP'), ('mom', 'NN'), ('hit', 'VBD'), ('Twitter', 'NNP'), ('follower', 'NN')], [('She', 'PRP'), ('pointed', 'VBD'), ('brother', 'RB'), ('owns', 'VBZ'), ('house', 'NN'), ('wanted', 'VBD'), ('several', 'JJ'), ('collection', 'NN'), ('agency', 'NN')], []], [[('Roses', 'NNS'), ('dead', 'VBP')], [('Love', 'NNP'), ('fake', 'NN')], [('Weddings', 'NNS'), ('basically', 'RB'), ('funeral', 'JJ'), ('cake', 'NN')]]]\n",
            "[0.625, 0.75]\n"
          ]
        }
      ]
    },
    {
      "cell_type": "code",
      "metadata": {
        "id": "w_VGRgqdRtZF",
        "colab": {
          "base_uri": "https://localhost:8080/"
        },
        "outputId": "9cebe42f-43b8-4c31-d431-1e4ff4e6e774"
      },
      "source": [
        "text_data, senti_data, labels = [], [], []\n",
        "\n",
        "for i in range(0, len(df_result['is_humor'])):\n",
        "    text_data.append(formatted_texts[i])\n",
        "    senti_data.append(senti_score[i])\n",
        "    labels.append(df_result['offense_rating'][i])\n",
        "\n",
        "\n",
        "total = len(text_data)\n",
        "train_per = int(0.75 * total)\n",
        "\n",
        "train_data, train_labels = [], []\n",
        "test_data, test_labels = [], []\n",
        "\n",
        "for i in range(0, total):\n",
        "  if (i < train_per):\n",
        "    list = np.append(text_data[i], senti_data[i])\n",
        "    train_data.append(list)\n",
        "    train_labels.append(labels[i])\n",
        "  else:\n",
        "    list = np.append(text_data[i], senti_data[i])\n",
        "    test_data.append(list)\n",
        "    test_labels.append(labels[i])\n",
        "\n",
        "print(test_data[0])\n",
        "train_data = np.asarray(train_data)\n",
        "train_labels = np.asarray(train_labels)\n",
        "test_data = np.asarray(test_data)\n",
        "test_labels = np.asarray(test_labels)\n",
        "print(test_data[0])"
      ],
      "execution_count": null,
      "outputs": [
        {
          "output_type": "stream",
          "name": "stdout",
          "text": [
            "[    0.     0.     0.     0.     0.     0.     0.     0.     0.     0.\n",
            "     0.     0.     0.     0.     0.     0.     0.     0.     0.     0.\n",
            "     0.     0.     0.     0.     0.     0.     0.     0.     0.     0.\n",
            "     0.     0.     0.     0.     0.     0.     0.     0.     0.     0.\n",
            "     0.     0.     0.     0.     0.     0.     0.   933.  1006.   129.\n",
            "   500.    97.   342.    26.  5252. 10576.    67.   712.   174.   865.\n",
            "    53.  4276. 12998.     0.]\n",
            "[    0.     0.     0.     0.     0.     0.     0.     0.     0.     0.\n",
            "     0.     0.     0.     0.     0.     0.     0.     0.     0.     0.\n",
            "     0.     0.     0.     0.     0.     0.     0.     0.     0.     0.\n",
            "     0.     0.     0.     0.     0.     0.     0.     0.     0.     0.\n",
            "     0.     0.     0.     0.     0.     0.     0.   933.  1006.   129.\n",
            "   500.    97.   342.    26.  5252. 10576.    67.   712.   174.   865.\n",
            "    53.  4276. 12998.     0.]\n"
          ]
        }
      ]
    },
    {
      "cell_type": "code",
      "metadata": {
        "colab": {
          "base_uri": "https://localhost:8080/"
        },
        "id": "RnUpTSxgnNnn",
        "outputId": "f443e0ff-f838-4e6e-d3a4-6a5c88fe3951"
      },
      "source": [
        "print(len(train_data[10]))\n",
        "print(len(test_data[0]))"
      ],
      "execution_count": null,
      "outputs": [
        {
          "output_type": "stream",
          "name": "stdout",
          "text": [
            "64\n",
            "64\n"
          ]
        }
      ]
    },
    {
      "cell_type": "code",
      "metadata": {
        "id": "z8qi8eHivGOs",
        "colab": {
          "base_uri": "https://localhost:8080/"
        },
        "outputId": "53bb8a55-f937-49f6-ce82-348f98a77baf"
      },
      "source": [
        "example = {'text': 'example'}\n",
        "print(example.get('text'))\n",
        "print(train_labels[:3])"
      ],
      "execution_count": null,
      "outputs": [
        {
          "output_type": "stream",
          "name": "stdout",
          "text": [
            "example\n",
            "[0.2 1.1 2.4]\n"
          ]
        }
      ]
    },
    {
      "cell_type": "code",
      "metadata": {
        "id": "t39mozsxUyr5"
      },
      "source": [
        "#print(len(train_data))\n",
        "#print(len(test_data))\n",
        "np.save('/tmp/train_data', train_data)\n",
        "np.save('/tmp/train_labels', train_labels)\n",
        "np.save('/tmp/test_data', test_data)\n",
        "np.save('/tmp/test_labels', test_labels)"
      ],
      "execution_count": null,
      "outputs": []
    },
    {
      "cell_type": "code",
      "metadata": {
        "id": "CmQFMPvEbSmK"
      },
      "source": [
        "model = tf.keras.Sequential([\n",
        "    tf.keras.layers.Dense(64, activation='relu', kernel_regularizer=tf.keras.regularizers.l2(0.0001)),\n",
        "    tf.keras.layers.Dense(16, activation='relu', kernel_initializer='normal'),\n",
        "    tf.keras.layers.Dropout(0.1),\n",
        "    tf.keras.layers.Dense(1, kernel_initializer='normal')\n",
        "])\n",
        "callback = tf.keras.callbacks.EarlyStopping(monitor='val_loss', patience=5, mode='auto')"
      ],
      "execution_count": null,
      "outputs": []
    },
    {
      "cell_type": "code",
      "metadata": {
        "id": "5TF-iXoKZito"
      },
      "source": [
        "model.compile(loss=tf.keras.losses.mean_squared_error,\n",
        "              #optimizer=tf.keras.optimizers.SGD(learning_rate=0.000001, momentum=0.9),\n",
        "              optimizer=tf.keras.optimizers.Adam(0.0005),\n",
        "              metrics=['mse'])"
      ],
      "execution_count": null,
      "outputs": []
    },
    {
      "cell_type": "code",
      "metadata": {
        "id": "rKaecWqKZp3S",
        "colab": {
          "base_uri": "https://localhost:8080/"
        },
        "outputId": "6a704b39-1f16-4fee-b324-c2b62a4e5d40"
      },
      "source": [
        "#print(train_data[0])\n",
        "x_data = train_data\n",
        "x_data.astype(float)\n",
        "y_data = train_labels\n",
        "y_data.astype(float)\n",
        "\n",
        "with tf.device('/GPU:0'):\n",
        "  history = model.fit(x_data, y_data, epochs=1000, validation_split=0.3, verbose=1, callbacks=callback)"
      ],
      "execution_count": null,
      "outputs": [
        {
          "output_type": "stream",
          "name": "stdout",
          "text": [
            "Epoch 1/1000\n",
            "132/132 [==============================] - 1s 3ms/step - loss: 316.8192 - mse: 316.8132 - val_loss: 93.3078 - val_mse: 93.3019\n",
            "Epoch 2/1000\n",
            "132/132 [==============================] - 0s 2ms/step - loss: 32.9408 - mse: 32.9350 - val_loss: 26.1497 - val_mse: 26.1439\n",
            "Epoch 3/1000\n",
            "132/132 [==============================] - 0s 2ms/step - loss: 10.4450 - mse: 10.4391 - val_loss: 11.5984 - val_mse: 11.5926\n",
            "Epoch 4/1000\n",
            "132/132 [==============================] - 0s 2ms/step - loss: 4.4700 - mse: 4.4642 - val_loss: 6.1307 - val_mse: 6.1249\n",
            "Epoch 5/1000\n",
            "132/132 [==============================] - 0s 2ms/step - loss: 2.7503 - mse: 2.7445 - val_loss: 4.2025 - val_mse: 4.1967\n",
            "Epoch 6/1000\n",
            "132/132 [==============================] - 0s 2ms/step - loss: 2.0489 - mse: 2.0431 - val_loss: 3.1513 - val_mse: 3.1455\n",
            "Epoch 7/1000\n",
            "132/132 [==============================] - 0s 2ms/step - loss: 1.6805 - mse: 1.6747 - val_loss: 2.5217 - val_mse: 2.5159\n",
            "Epoch 8/1000\n",
            "132/132 [==============================] - 0s 2ms/step - loss: 1.5330 - mse: 1.5272 - val_loss: 2.0848 - val_mse: 2.0790\n",
            "Epoch 9/1000\n",
            "132/132 [==============================] - 0s 2ms/step - loss: 1.3561 - mse: 1.3504 - val_loss: 1.9258 - val_mse: 1.9201\n",
            "Epoch 10/1000\n",
            "132/132 [==============================] - 0s 2ms/step - loss: 1.2552 - mse: 1.2495 - val_loss: 1.7704 - val_mse: 1.7647\n",
            "Epoch 11/1000\n",
            "132/132 [==============================] - 0s 2ms/step - loss: 1.2050 - mse: 1.1992 - val_loss: 1.6516 - val_mse: 1.6458\n",
            "Epoch 12/1000\n",
            "132/132 [==============================] - 0s 2ms/step - loss: 1.1628 - mse: 1.1571 - val_loss: 1.5364 - val_mse: 1.5307\n",
            "Epoch 13/1000\n",
            "132/132 [==============================] - 0s 2ms/step - loss: 1.1257 - mse: 1.1199 - val_loss: 1.5236 - val_mse: 1.5179\n",
            "Epoch 14/1000\n",
            "132/132 [==============================] - 0s 2ms/step - loss: 1.1017 - mse: 1.0959 - val_loss: 1.4123 - val_mse: 1.4065\n",
            "Epoch 15/1000\n",
            "132/132 [==============================] - 0s 2ms/step - loss: 1.0761 - mse: 1.0704 - val_loss: 1.4122 - val_mse: 1.4064\n",
            "Epoch 16/1000\n",
            "132/132 [==============================] - 0s 2ms/step - loss: 1.0591 - mse: 1.0533 - val_loss: 1.3830 - val_mse: 1.3772\n",
            "Epoch 17/1000\n",
            "132/132 [==============================] - 0s 2ms/step - loss: 1.0489 - mse: 1.0432 - val_loss: 1.2950 - val_mse: 1.2893\n",
            "Epoch 18/1000\n",
            "132/132 [==============================] - 0s 2ms/step - loss: 1.0272 - mse: 1.0215 - val_loss: 1.2741 - val_mse: 1.2684\n",
            "Epoch 19/1000\n",
            "132/132 [==============================] - 0s 2ms/step - loss: 1.0298 - mse: 1.0241 - val_loss: 1.2319 - val_mse: 1.2262\n",
            "Epoch 20/1000\n",
            "132/132 [==============================] - 0s 2ms/step - loss: 1.0122 - mse: 1.0064 - val_loss: 1.2540 - val_mse: 1.2483\n",
            "Epoch 21/1000\n",
            "132/132 [==============================] - 0s 2ms/step - loss: 1.0216 - mse: 1.0159 - val_loss: 1.2114 - val_mse: 1.2057\n",
            "Epoch 22/1000\n",
            "132/132 [==============================] - 0s 2ms/step - loss: 1.0024 - mse: 0.9967 - val_loss: 1.1751 - val_mse: 1.1694\n",
            "Epoch 23/1000\n",
            "132/132 [==============================] - 0s 2ms/step - loss: 0.9925 - mse: 0.9867 - val_loss: 1.1753 - val_mse: 1.1696\n",
            "Epoch 24/1000\n",
            "132/132 [==============================] - 0s 2ms/step - loss: 0.9983 - mse: 0.9926 - val_loss: 1.2057 - val_mse: 1.2000\n",
            "Epoch 25/1000\n",
            "132/132 [==============================] - 0s 2ms/step - loss: 0.9922 - mse: 0.9865 - val_loss: 1.1925 - val_mse: 1.1868\n",
            "Epoch 26/1000\n",
            "132/132 [==============================] - 0s 2ms/step - loss: 0.9820 - mse: 0.9763 - val_loss: 1.1504 - val_mse: 1.1447\n",
            "Epoch 27/1000\n",
            "132/132 [==============================] - 0s 2ms/step - loss: 0.9731 - mse: 0.9674 - val_loss: 1.1667 - val_mse: 1.1610\n",
            "Epoch 28/1000\n",
            "132/132 [==============================] - 0s 2ms/step - loss: 0.9714 - mse: 0.9657 - val_loss: 1.1185 - val_mse: 1.1128\n",
            "Epoch 29/1000\n",
            "132/132 [==============================] - 0s 2ms/step - loss: 0.9700 - mse: 0.9643 - val_loss: 1.1104 - val_mse: 1.1047\n",
            "Epoch 30/1000\n",
            "132/132 [==============================] - 0s 2ms/step - loss: 0.9639 - mse: 0.9583 - val_loss: 1.1156 - val_mse: 1.1099\n",
            "Epoch 31/1000\n",
            "132/132 [==============================] - 0s 2ms/step - loss: 0.9722 - mse: 0.9666 - val_loss: 1.1298 - val_mse: 1.1241\n",
            "Epoch 32/1000\n",
            "132/132 [==============================] - 0s 2ms/step - loss: 0.9638 - mse: 0.9581 - val_loss: 1.1018 - val_mse: 1.0961\n",
            "Epoch 33/1000\n",
            "132/132 [==============================] - 0s 2ms/step - loss: 0.9700 - mse: 0.9643 - val_loss: 1.1167 - val_mse: 1.1110\n",
            "Epoch 34/1000\n",
            "132/132 [==============================] - 0s 2ms/step - loss: 0.9640 - mse: 0.9583 - val_loss: 1.0998 - val_mse: 1.0942\n",
            "Epoch 35/1000\n",
            "132/132 [==============================] - 0s 2ms/step - loss: 0.9541 - mse: 0.9485 - val_loss: 1.1062 - val_mse: 1.1005\n",
            "Epoch 36/1000\n",
            "132/132 [==============================] - 0s 2ms/step - loss: 0.9625 - mse: 0.9569 - val_loss: 1.1068 - val_mse: 1.1011\n",
            "Epoch 37/1000\n",
            "132/132 [==============================] - 0s 2ms/step - loss: 0.9538 - mse: 0.9482 - val_loss: 1.0931 - val_mse: 1.0874\n",
            "Epoch 38/1000\n",
            "132/132 [==============================] - 0s 2ms/step - loss: 0.9507 - mse: 0.9451 - val_loss: 1.0725 - val_mse: 1.0668\n",
            "Epoch 39/1000\n",
            "132/132 [==============================] - 0s 2ms/step - loss: 0.9572 - mse: 0.9516 - val_loss: 1.1614 - val_mse: 1.1558\n",
            "Epoch 40/1000\n",
            "132/132 [==============================] - 0s 2ms/step - loss: 0.9461 - mse: 0.9405 - val_loss: 1.1403 - val_mse: 1.1347\n",
            "Epoch 41/1000\n",
            "132/132 [==============================] - 0s 2ms/step - loss: 0.9486 - mse: 0.9429 - val_loss: 1.0714 - val_mse: 1.0657\n",
            "Epoch 42/1000\n",
            "132/132 [==============================] - 0s 2ms/step - loss: 0.9439 - mse: 0.9383 - val_loss: 1.0914 - val_mse: 1.0858\n",
            "Epoch 43/1000\n",
            "132/132 [==============================] - 0s 2ms/step - loss: 0.9492 - mse: 0.9436 - val_loss: 1.0815 - val_mse: 1.0759\n",
            "Epoch 44/1000\n",
            "132/132 [==============================] - 0s 2ms/step - loss: 0.9454 - mse: 0.9398 - val_loss: 1.0733 - val_mse: 1.0677\n",
            "Epoch 45/1000\n",
            "132/132 [==============================] - 0s 2ms/step - loss: 0.9451 - mse: 0.9395 - val_loss: 1.0871 - val_mse: 1.0815\n",
            "Epoch 46/1000\n",
            "132/132 [==============================] - 0s 2ms/step - loss: 0.9405 - mse: 0.9349 - val_loss: 1.0960 - val_mse: 1.0904\n"
          ]
        }
      ]
    },
    {
      "cell_type": "code",
      "metadata": {
        "id": "xFOeJIs57BI8",
        "colab": {
          "base_uri": "https://localhost:8080/"
        },
        "outputId": "0defddcb-9433-4b11-d67e-7f4963892cf6"
      },
      "source": [
        "with tf.device('/GPU:0'):\n",
        "  test_results = model.evaluate(test_data, test_labels, verbose=1)\n",
        "print('Test results: {}'.format(test_results))"
      ],
      "execution_count": null,
      "outputs": [
        {
          "output_type": "stream",
          "name": "stdout",
          "text": [
            "63/63 [==============================] - 0s 999us/step - loss: 1.1558 - mse: 1.1503\n",
            "Test results: [1.1558436155319214, 1.1502561569213867]\n"
          ]
        }
      ]
    },
    {
      "cell_type": "code",
      "metadata": {
        "id": "VSEjhH9FmXo0",
        "colab": {
          "base_uri": "https://localhost:8080/"
        },
        "outputId": "92efec27-31fa-4fe3-cffc-01ae1615f0cb"
      },
      "source": [
        "test_predictions = model.predict(test_data)\n",
        "print(test_predictions[:10])"
      ],
      "execution_count": null,
      "outputs": [
        {
          "output_type": "stream",
          "name": "stdout",
          "text": [
            "[[0.6085428 ]\n",
            " [0.5951169 ]\n",
            " [0.5357747 ]\n",
            " [0.5680758 ]\n",
            " [0.7210351 ]\n",
            " [0.5951169 ]\n",
            " [0.52977264]\n",
            " [0.6040856 ]\n",
            " [0.57885075]\n",
            " [0.58686763]]\n"
          ]
        }
      ]
    },
    {
      "cell_type": "code",
      "metadata": {
        "colab": {
          "base_uri": "https://localhost:8080/",
          "height": 283
        },
        "id": "uye6wKNuoRcI",
        "outputId": "a6f02552-d89d-42bf-8492-b13d61f10a7b"
      },
      "source": [
        "import matplotlib.pyplot as plt\n",
        "\n",
        "a = plt.axes(aspect='equal')\n",
        "plt.scatter(test_labels, test_predictions)\n",
        "plt.xlabel('True Values [MPG]')\n",
        "plt.ylabel('Predictions [MPG]')\n",
        "lims = [0, 9]\n",
        "plt.xlim(lims)\n",
        "plt.ylim(lims)\n",
        "_ = plt.plot(lims, lims)"
      ],
      "execution_count": null,
      "outputs": [
        {
          "output_type": "display_data",
          "data": {
            "image/png": "[encoded data removed]",
            "text/plain": [
              "<Figure size 432x288 with 1 Axes>"
            ]
          },
          "metadata": {
            "needs_background": "light"
          }
        }
      ]
    }
  ]
}