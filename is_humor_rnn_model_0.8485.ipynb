{
  "nbformat": 4,
  "nbformat_minor": 0,
  "metadata": {
    "colab": {
      "name": "Untitled4.ipynb",
      "provenance": [],
      "collapsed_sections": []
    },
    "kernelspec": {
      "name": "python3",
      "display_name": "Python 3"
    }
  },
  "cells": [
    {
      "cell_type": "code",
      "metadata": {
        "colab": {
          "base_uri": "https://localhost:8080/"
        },
        "id": "8H2DtzfIcN6A",
        "outputId": "c042b446-4782-4047-be32-e4bc75423a6a"
      },
      "source": [
        "# connect with google drive\r\n",
        "from google.colab import drive\r\n",
        "drive.mount('/content/drive')"
      ],
      "execution_count": 248,
      "outputs": [
        {
          "output_type": "stream",
          "text": [
            "Drive already mounted at /content/drive; to attempt to forcibly remount, call drive.mount(\"/content/drive\", force_remount=True).\n"
          ],
          "name": "stdout"
        }
      ]
    },
    {
      "cell_type": "code",
      "metadata": {
        "colab": {
          "base_uri": "https://localhost:8080/"
        },
        "id": "FKze-iMycRMM",
        "outputId": "4f5cc28b-e3ea-4b97-dedf-0044501e2cc5"
      },
      "source": [
        "import pandas as pd\r\n",
        "import numpy as np\r\n",
        "import random\r\n",
        "import nltk\r\n",
        "nltk.download('punkt')\r\n",
        "from nltk.tokenize import sent_tokenize, word_tokenize\r\n",
        "import string\r\n",
        "from keras.utils import to_categorical\r\n",
        "from keras.preprocessing.sequence import pad_sequences\r\n",
        "import tensorflow as tf"
      ],
      "execution_count": 249,
      "outputs": [
        {
          "output_type": "stream",
          "text": [
            "[nltk_data] Downloading package punkt to /root/nltk_data...\n",
            "[nltk_data]   Package punkt is already up-to-date!\n"
          ],
          "name": "stdout"
        }
      ]
    },
    {
      "cell_type": "code",
      "metadata": {
        "id": "a5FXV7UEcTKI"
      },
      "source": [
        "def load_dataset():\r\n",
        "  column_names = [ 'id', 'text', 'is_humor', 'humor_rating', 'humor_controversy', 'offense_rating' ]\r\n",
        "  data_path = '/content/drive/My Drive/data-nlp-humor-offense/train.csv'\r\n",
        "  data_frame = pd.read_csv(data_path, names=column_names, skiprows=1, na_values=\"?\", sep=\",\", skipinitialspace=True)\r\n",
        "  data = data_frame.fillna(0).to_numpy()\r\n",
        "\r\n",
        "  return data, data_frame"
      ],
      "execution_count": 250,
      "outputs": []
    },
    {
      "cell_type": "code",
      "metadata": {
        "colab": {
          "base_uri": "https://localhost:8080/"
        },
        "id": "BK-XU7PFcYGT",
        "outputId": "9b27a316-aaca-4d17-f483-8ea241c38401"
      },
      "source": [
        "result, df_result = load_dataset()\r\n",
        "print(result[:5])"
      ],
      "execution_count": 251,
      "outputs": [
        {
          "output_type": "stream",
          "text": [
            "[[1\n",
            "  \"TENNESSEE: We're the best state. Nobody even comes close. *Elevennessee walks into the room* TENNESSEE: Oh shit...\"\n",
            "  1 2.42 1.0 0.2]\n",
            " [2\n",
            "  'A man inserted an advertisement in the classifieds \"Wife Wanted\". The next day, he received 1000 of replies, all reading: \"You can have mine.\" Free delivery also available at your door step'\n",
            "  1 2.5 1.0 1.1]\n",
            " [3\n",
            "  'How many men does it take to open a can of beer? None. It should be open by the time she brings it to the couch.'\n",
            "  1 1.95 0.0 2.4]\n",
            " [4\n",
            "  \"Told my mom I hit 1200 Twitter followers. She pointed out how my brother owns a house and I'm wanted by several collection agencies. Oh ma!\"\n",
            "  1 2.11 1.0 0.0]\n",
            " [5\n",
            "  'Roses are dead. Love is fake. Weddings are basically funerals with cake.'\n",
            "  1 2.78 0.0 0.1]]\n"
          ],
          "name": "stdout"
        }
      ]
    },
    {
      "cell_type": "code",
      "metadata": {
        "id": "smxf4AhjczM1"
      },
      "source": [
        "train_data, train_labels = [], []\r\n",
        "test_data, test_labels = [], []\r\n",
        "\r\n",
        "humor_yes_data, humor_yes_labels = [], []\r\n",
        "humor_no_data, humor_no_labels = [], []\r\n",
        "\r\n",
        "for i in range(0, len(df_result['is_humor'])):\r\n",
        "  if df_result['is_humor'][i] == 1:\r\n",
        "    humor_yes_data.append(df_result['text'][i])\r\n",
        "    humor_yes_labels.append(df_result['is_humor'][i])\r\n",
        "  else:\r\n",
        "    humor_no_data.append(df_result['text'][i])\r\n",
        "    humor_no_labels.append(df_result['is_humor'][i])\r\n",
        "\r\n",
        "output_bias = np.log([len(humor_yes_data)/len(humor_no_data)])\r\n",
        "\r\n",
        "yes_total = len(humor_yes_labels)\r\n",
        "no_total = len(humor_no_data)\r\n",
        "train_yes = int(0.75 * yes_total)\r\n",
        "train_no = int(0.75 * no_total)\r\n",
        "\r\n",
        "train_data_temp = np.concatenate((humor_yes_data[:train_yes], humor_no_data[:train_no]))\r\n",
        "train_labels_temp = np.concatenate((humor_yes_labels[:train_yes], humor_no_labels[:train_no]))\r\n",
        "\r\n",
        "test_data_temp = np.concatenate((humor_yes_data[train_yes:], humor_no_data[train_no:]))\r\n",
        "test_labels_temp = np.concatenate((humor_yes_labels[train_yes:], humor_no_labels[train_no:]))\r\n",
        "\r\n",
        "train_keys = []\r\n",
        "test_keys = []\r\n",
        "\r\n",
        "result_train_map = {}\r\n",
        "for index in range(0,len(train_data_temp)):\r\n",
        "  result_train_map[index] = {'text': train_data_temp[index], 'label': train_labels_temp[index]}\r\n",
        "  train_keys.append(index)\r\n",
        "\r\n",
        "result_test_map = {}\r\n",
        "for index in range(0, len(test_data_temp)):\r\n",
        "  result_test_map[index] = {'text': test_data_temp[index], 'label': test_labels_temp[index]}\r\n",
        "  test_keys.append(index)\r\n",
        "\r\n",
        "random.shuffle(train_keys)\r\n",
        "random.shuffle(test_keys)\r\n",
        "\r\n",
        "for key in train_keys:\r\n",
        "  train_data.append(result_train_map[key].get('text'))\r\n",
        "  train_labels.append(result_train_map[key].get('label'))\r\n",
        "\r\n",
        "for key in test_keys:\r\n",
        "  test_data.append(result_test_map[key].get('text'))\r\n",
        "  test_labels.append(result_test_map[key].get('label'))\r\n",
        "\r\n",
        "train_data = np.array(train_data)\r\n",
        "train_labels = np.array(train_labels)\r\n",
        "test_data = np.array(test_data)\r\n",
        "test_labels = np.array(test_labels)\r\n",
        "\r\n",
        "d = {'text': train_data, 'label': train_labels}\r\n",
        "train_dataset = pd.DataFrame(data=d)\r\n",
        "\r\n",
        "d = {'text': test_data, 'label': test_labels}\r\n",
        "test_dataset = pd.DataFrame(data=d)"
      ],
      "execution_count": 252,
      "outputs": []
    },
    {
      "cell_type": "code",
      "metadata": {
        "id": "Oa3OErsTczX2"
      },
      "source": [
        "VOCAB_SIZE=20000\r\n",
        "encoder = tf.keras.layers.experimental.preprocessing.TextVectorization(\r\n",
        "    max_tokens=VOCAB_SIZE, standardize='lower_and_strip_punctuation',\r\n",
        "    split='whitespace',)\r\n",
        "#train_dataset = train_dataset.to_array()\r\n",
        "encoder.adapt(train_dataset['text'].to_numpy())"
      ],
      "execution_count": 253,
      "outputs": []
    },
    {
      "cell_type": "code",
      "metadata": {
        "id": "ynjo5yPKfsRH"
      },
      "source": [
        "vocab = np.array(encoder.get_vocabulary())"
      ],
      "execution_count": 254,
      "outputs": []
    },
    {
      "cell_type": "code",
      "metadata": {
        "id": "PeR9FohshfWO"
      },
      "source": [
        "init = tf.constant_initializer(output_bias)\r\n",
        "\r\n",
        "model = tf.keras.Sequential([\r\n",
        "    encoder,\r\n",
        "    tf.keras.layers.Embedding(len(encoder.get_vocabulary()), 64, mask_zero=True),\r\n",
        "    tf.keras.layers.Bidirectional(tf.keras.layers.LSTM(64,kernel_regularizer=tf.keras.regularizers.l2(0.0001), return_sequences=True)),\r\n",
        "    tf.keras.layers.Bidirectional(tf.keras.layers.LSTM(32)),\r\n",
        "    tf.keras.layers.Dense(64, activation='relu', kernel_regularizer=tf.keras.regularizers.l2(0.0001)),\r\n",
        "    tf.keras.layers.Dropout(0.5),\r\n",
        "    tf.keras.layers.Dense(1, activation='sigmoid')\r\n",
        "])"
      ],
      "execution_count": 255,
      "outputs": []
    },
    {
      "cell_type": "code",
      "metadata": {
        "colab": {
          "base_uri": "https://localhost:8080/"
        },
        "id": "ZtFr8Bj2hi4j",
        "outputId": "09b2f84b-a891-4408-c62b-8f453b06c39b"
      },
      "source": [
        "sample_text = ('The movie was cool. The animation and the graphics '\r\n",
        "               'were out of this world. I would recommend this movie.')\r\n",
        "predictions = model.predict(np.array([sample_text]))\r\n",
        "print(predictions[0])"
      ],
      "execution_count": 256,
      "outputs": [
        {
          "output_type": "stream",
          "text": [
            "WARNING:tensorflow:11 out of the last 11 calls to <function Model.make_predict_function.<locals>.predict_function at 0x7f282a961f80> triggered tf.function retracing. Tracing is expensive and the excessive number of tracings could be due to (1) creating @tf.function repeatedly in a loop, (2) passing tensors with different shapes, (3) passing Python objects instead of tensors. For (1), please define your @tf.function outside of the loop. For (2), @tf.function has experimental_relax_shapes=True option that relaxes argument shapes that can avoid unnecessary retracing. For (3), please refer to https://www.tensorflow.org/guide/function#controlling_retracing and https://www.tensorflow.org/api_docs/python/tf/function for  more details.\n",
            "[0.49838755]\n"
          ],
          "name": "stdout"
        }
      ]
    },
    {
      "cell_type": "code",
      "metadata": {
        "id": "x7_Oh3Y8hv7H"
      },
      "source": [
        "model.compile(loss=tf.keras.losses.BinaryCrossentropy(from_logits=True),\r\n",
        "              optimizer=tf.keras.optimizers.Adam(0.00001),\r\n",
        "              metrics=['accuracy'])\r\n",
        "callback = tf.keras.callbacks.EarlyStopping(monitor='val_loss', patience=5, mode='auto')"
      ],
      "execution_count": 257,
      "outputs": []
    },
    {
      "cell_type": "code",
      "metadata": {
        "colab": {
          "base_uri": "https://localhost:8080/"
        },
        "id": "Tsauw7oRhisk",
        "outputId": "3ef48de7-ff58-40e2-b0f2-d6bdb0b8a1e6"
      },
      "source": [
        "history = model.fit(train_dataset['text'], train_dataset['label'], epochs=50, validation_split=0.25, verbose=1, callbacks=callback)"
      ],
      "execution_count": 258,
      "outputs": [
        {
          "output_type": "stream",
          "text": [
            "Epoch 1/50\n",
            "141/141 [==============================] - 37s 163ms/step - loss: 0.7197 - accuracy: 0.4899 - val_loss: 0.7182 - val_accuracy: 0.6060\n",
            "Epoch 2/50\n",
            "141/141 [==============================] - 18s 129ms/step - loss: 0.7173 - accuracy: 0.6209 - val_loss: 0.7159 - val_accuracy: 0.6033\n",
            "Epoch 3/50\n",
            "141/141 [==============================] - 18s 129ms/step - loss: 0.7146 - accuracy: 0.6143 - val_loss: 0.7130 - val_accuracy: 0.6033\n",
            "Epoch 4/50\n",
            "141/141 [==============================] - 18s 128ms/step - loss: 0.7113 - accuracy: 0.6223 - val_loss: 0.7096 - val_accuracy: 0.6033\n",
            "Epoch 5/50\n",
            "141/141 [==============================] - 18s 130ms/step - loss: 0.7080 - accuracy: 0.6095 - val_loss: 0.7051 - val_accuracy: 0.6033\n",
            "Epoch 6/50\n",
            "141/141 [==============================] - 18s 130ms/step - loss: 0.7023 - accuracy: 0.6116 - val_loss: 0.6990 - val_accuracy: 0.6033\n",
            "Epoch 7/50\n",
            "141/141 [==============================] - 18s 129ms/step - loss: 0.6953 - accuracy: 0.6125 - val_loss: 0.6914 - val_accuracy: 0.6033\n",
            "Epoch 8/50\n",
            "141/141 [==============================] - 18s 129ms/step - loss: 0.6870 - accuracy: 0.6175 - val_loss: 0.6832 - val_accuracy: 0.6033\n",
            "Epoch 9/50\n",
            "141/141 [==============================] - 18s 129ms/step - loss: 0.6713 - accuracy: 0.6317 - val_loss: 0.6756 - val_accuracy: 0.6033\n",
            "Epoch 10/50\n",
            "141/141 [==============================] - 18s 127ms/step - loss: 0.6691 - accuracy: 0.6146 - val_loss: 0.6668 - val_accuracy: 0.6033\n",
            "Epoch 11/50\n",
            "141/141 [==============================] - 18s 129ms/step - loss: 0.6580 - accuracy: 0.6268 - val_loss: 0.6549 - val_accuracy: 0.6033\n",
            "Epoch 12/50\n",
            "141/141 [==============================] - 18s 130ms/step - loss: 0.6385 - accuracy: 0.6271 - val_loss: 0.6375 - val_accuracy: 0.6033\n",
            "Epoch 13/50\n",
            "141/141 [==============================] - 18s 129ms/step - loss: 0.6168 - accuracy: 0.6281 - val_loss: 0.6095 - val_accuracy: 0.6100\n",
            "Epoch 14/50\n",
            "141/141 [==============================] - 18s 127ms/step - loss: 0.5819 - accuracy: 0.6424 - val_loss: 0.5745 - val_accuracy: 0.6687\n",
            "Epoch 15/50\n",
            "141/141 [==============================] - 18s 130ms/step - loss: 0.5519 - accuracy: 0.7391 - val_loss: 0.5430 - val_accuracy: 0.7567\n",
            "Epoch 16/50\n",
            "141/141 [==============================] - 18s 127ms/step - loss: 0.5061 - accuracy: 0.8088 - val_loss: 0.5175 - val_accuracy: 0.7933\n",
            "Epoch 17/50\n",
            "141/141 [==============================] - 18s 127ms/step - loss: 0.4771 - accuracy: 0.8371 - val_loss: 0.4945 - val_accuracy: 0.8167\n",
            "Epoch 18/50\n",
            "141/141 [==============================] - 18s 129ms/step - loss: 0.4391 - accuracy: 0.8652 - val_loss: 0.4733 - val_accuracy: 0.8173\n",
            "Epoch 19/50\n",
            "141/141 [==============================] - 18s 129ms/step - loss: 0.3908 - accuracy: 0.8911 - val_loss: 0.4550 - val_accuracy: 0.8233\n",
            "Epoch 20/50\n",
            "141/141 [==============================] - 18s 131ms/step - loss: 0.3728 - accuracy: 0.8931 - val_loss: 0.4442 - val_accuracy: 0.8227\n",
            "Epoch 21/50\n",
            "141/141 [==============================] - 18s 126ms/step - loss: 0.3543 - accuracy: 0.8938 - val_loss: 0.4307 - val_accuracy: 0.8267\n",
            "Epoch 22/50\n",
            "141/141 [==============================] - 18s 128ms/step - loss: 0.3270 - accuracy: 0.8991 - val_loss: 0.4257 - val_accuracy: 0.8287\n",
            "Epoch 23/50\n",
            "141/141 [==============================] - 18s 129ms/step - loss: 0.3020 - accuracy: 0.9104 - val_loss: 0.4209 - val_accuracy: 0.8293\n",
            "Epoch 24/50\n",
            "141/141 [==============================] - 18s 131ms/step - loss: 0.2916 - accuracy: 0.9079 - val_loss: 0.4176 - val_accuracy: 0.8347\n",
            "Epoch 25/50\n",
            "141/141 [==============================] - 18s 128ms/step - loss: 0.2647 - accuracy: 0.9210 - val_loss: 0.4144 - val_accuracy: 0.8347\n",
            "Epoch 26/50\n",
            "141/141 [==============================] - 18s 128ms/step - loss: 0.2547 - accuracy: 0.9286 - val_loss: 0.4152 - val_accuracy: 0.8340\n",
            "Epoch 27/50\n",
            "141/141 [==============================] - 18s 130ms/step - loss: 0.2343 - accuracy: 0.9368 - val_loss: 0.4157 - val_accuracy: 0.8347\n",
            "Epoch 28/50\n",
            "141/141 [==============================] - 19s 132ms/step - loss: 0.2233 - accuracy: 0.9376 - val_loss: 0.4173 - val_accuracy: 0.8380\n",
            "Epoch 29/50\n",
            "141/141 [==============================] - 19s 131ms/step - loss: 0.2149 - accuracy: 0.9390 - val_loss: 0.4217 - val_accuracy: 0.8380\n",
            "Epoch 30/50\n",
            "141/141 [==============================] - 18s 130ms/step - loss: 0.2055 - accuracy: 0.9483 - val_loss: 0.4246 - val_accuracy: 0.8380\n"
          ],
          "name": "stdout"
        }
      ]
    },
    {
      "cell_type": "code",
      "metadata": {
        "colab": {
          "base_uri": "https://localhost:8080/"
        },
        "id": "HfCldxyOiFgu",
        "outputId": "67556ac0-f642-4bbc-8810-84958ef97960"
      },
      "source": [
        "test_loss, test_acc = model.evaluate(test_dataset['text'], test_dataset['label'], verbose=1)\r\n",
        "\r\n",
        "print('Test Loss: {}'.format(test_loss))\r\n",
        "print('Test Accuracy: {}'.format(test_acc))"
      ],
      "execution_count": 259,
      "outputs": [
        {
          "output_type": "stream",
          "text": [
            "63/63 [==============================] - 2s 26ms/step - loss: 0.4256 - accuracy: 0.8485\n",
            "Test Loss: 0.42561325430870056\n",
            "Test Accuracy: 0.8485000133514404\n"
          ],
          "name": "stdout"
        }
      ]
    },
    {
      "cell_type": "code",
      "metadata": {
        "colab": {
          "base_uri": "https://localhost:8080/",
          "height": 388
        },
        "id": "BbnILg6BpUN2",
        "outputId": "a36e6c5b-50bd-4cda-b985-0844e46fe037"
      },
      "source": [
        "import matplotlib.pyplot as plt\r\n",
        "def plot_graphs(history, metric):\r\n",
        "  plt.plot(history.history[metric])\r\n",
        "  plt.plot(history.history['val_'+metric], '')\r\n",
        "  plt.xlabel(\"Epochs\")\r\n",
        "  plt.ylabel(metric)\r\n",
        "  plt.legend([metric, 'val_'+metric])\r\n",
        "  \r\n",
        "plt.figure(figsize=(16,6))\r\n",
        "plt.subplot(1,2,1)\r\n",
        "plot_graphs(history, 'accuracy')\r\n",
        "plt.subplot(1,2,2)\r\n",
        "plot_graphs(history, 'loss')"
      ],
      "execution_count": 260,
      "outputs": [
        {
          "output_type": "display_data",
          "data": {
            "image/png": "[encoded data removed]",
            "text/plain": [
              "<Figure size 1152x432 with 2 Axes>"
            ]
          },
          "metadata": {
            "tags": [],
            "needs_background": "light"
          }
        }
      ]
    },
    {
      "cell_type": "code",
      "metadata": {
        "colab": {
          "base_uri": "https://localhost:8080/"
        },
        "id": "Wgaj05IYFucI",
        "outputId": "038af50e-b844-454e-ed39-be67a3c2a001"
      },
      "source": [
        "sample_text = ('The movie was cool. The animation and the graphics '\r\n",
        "               'were out of this world. I would recommend this movie.')\r\n",
        "predictions = model.predict(np.array([sample_text]))\r\n",
        "print(predictions[0])"
      ],
      "execution_count": 261,
      "outputs": [
        {
          "output_type": "stream",
          "text": [
            "WARNING:tensorflow:11 out of the last 11 calls to <function Model.make_predict_function.<locals>.predict_function at 0x7f28223b8cb0> triggered tf.function retracing. Tracing is expensive and the excessive number of tracings could be due to (1) creating @tf.function repeatedly in a loop, (2) passing tensors with different shapes, (3) passing Python objects instead of tensors. For (1), please define your @tf.function outside of the loop. For (2), @tf.function has experimental_relax_shapes=True option that relaxes argument shapes that can avoid unnecessary retracing. For (3), please refer to https://www.tensorflow.org/guide/function#controlling_retracing and https://www.tensorflow.org/api_docs/python/tf/function for  more details.\n",
            "[0.18210849]\n"
          ],
          "name": "stdout"
        }
      ]
    }
  ]
}