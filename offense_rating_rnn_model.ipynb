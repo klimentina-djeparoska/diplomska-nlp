{
  "nbformat": 4,
  "nbformat_minor": 0,
  "metadata": {
    "colab": {
      "name": "offense_rating_rnn_model.ipynb",
      "provenance": [],
      "collapsed_sections": []
    },
    "kernelspec": {
      "name": "python3",
      "display_name": "Python 3"
    }
  },
  "cells": [
    {
      "cell_type": "code",
      "metadata": {
        "colab": {
          "base_uri": "https://localhost:8080/"
        },
        "id": "8H2DtzfIcN6A",
        "outputId": "397ae762-9586-4366-a980-279193f351b8"
      },
      "source": [
        "# connect with google drive\n",
        "from google.colab import drive\n",
        "drive.mount('/content/drive')"
      ],
      "execution_count": 40,
      "outputs": [
        {
          "output_type": "stream",
          "name": "stdout",
          "text": [
            "Drive already mounted at /content/drive; to attempt to forcibly remount, call drive.mount(\"/content/drive\", force_remount=True).\n"
          ]
        }
      ]
    },
    {
      "cell_type": "code",
      "metadata": {
        "colab": {
          "base_uri": "https://localhost:8080/"
        },
        "id": "FKze-iMycRMM",
        "outputId": "084d1cde-c774-4886-88d3-921546cfa765"
      },
      "source": [
        "import pandas as pd\n",
        "import numpy as np\n",
        "import random\n",
        "import nltk\n",
        "nltk.download('punkt')\n",
        "nltk.download('sentiwordnet')\n",
        "nltk.download('wordnet')\n",
        "nltk.download('stopwords')\n",
        "nltk.download('averaged_perceptron_tagger')\n",
        "from nltk.tokenize import sent_tokenize, word_tokenize\n",
        "from nltk.corpus import sentiwordnet as swn\n",
        "import string\n",
        "from tensorflow.keras.utils import to_categorical\n",
        "from keras.preprocessing.sequence import pad_sequences\n",
        "import tensorflow as tf"
      ],
      "execution_count": 41,
      "outputs": [
        {
          "output_type": "stream",
          "name": "stdout",
          "text": [
            "[nltk_data] Downloading package punkt to /root/nltk_data...\n",
            "[nltk_data]   Package punkt is already up-to-date!\n",
            "[nltk_data] Downloading package sentiwordnet to /root/nltk_data...\n",
            "[nltk_data]   Package sentiwordnet is already up-to-date!\n",
            "[nltk_data] Downloading package wordnet to /root/nltk_data...\n",
            "[nltk_data]   Package wordnet is already up-to-date!\n",
            "[nltk_data] Downloading package stopwords to /root/nltk_data...\n",
            "[nltk_data]   Package stopwords is already up-to-date!\n",
            "[nltk_data] Downloading package averaged_perceptron_tagger to\n",
            "[nltk_data]     /root/nltk_data...\n",
            "[nltk_data]   Package averaged_perceptron_tagger is already up-to-\n",
            "[nltk_data]       date!\n"
          ]
        }
      ]
    },
    {
      "cell_type": "code",
      "metadata": {
        "id": "a5FXV7UEcTKI"
      },
      "source": [
        "def load_dataset():\n",
        "  column_names = [ 'id', 'text', 'is_humor', 'humor_rating', 'humor_controversy', 'offense_rating' ]\n",
        "  data_path = '/content/drive/My Drive/data-nlp-humor-offense/train.csv'\n",
        "  data_frame = pd.read_csv(data_path, names=column_names, skiprows=1, na_values=\"?\", sep=\",\", skipinitialspace=True)\n",
        "  data = data_frame.fillna(0).to_numpy()\n",
        "\n",
        "  return data, data_frame"
      ],
      "execution_count": 42,
      "outputs": []
    },
    {
      "cell_type": "code",
      "metadata": {
        "colab": {
          "base_uri": "https://localhost:8080/"
        },
        "id": "BK-XU7PFcYGT",
        "outputId": "bd7c9a9f-8805-45c6-db78-8add38bcf556"
      },
      "source": [
        "result, df_result = load_dataset()\n",
        "print(result[:5])"
      ],
      "execution_count": 43,
      "outputs": [
        {
          "output_type": "stream",
          "name": "stdout",
          "text": [
            "[[1\n",
            "  \"TENNESSEE: We're the best state. Nobody even comes close. *Elevennessee walks into the room* TENNESSEE: Oh shit...\"\n",
            "  1 2.42 1.0 0.2]\n",
            " [2\n",
            "  'A man inserted an advertisement in the classifieds \"Wife Wanted\". The next day, he received 1000 of replies, all reading: \"You can have mine.\" Free delivery also available at your door step'\n",
            "  1 2.5 1.0 1.1]\n",
            " [3\n",
            "  'How many men does it take to open a can of beer? None. It should be open by the time she brings it to the couch.'\n",
            "  1 1.95 0.0 2.4]\n",
            " [4\n",
            "  \"Told my mom I hit 1200 Twitter followers. She pointed out how my brother owns a house and I'm wanted by several collection agencies. Oh ma!\"\n",
            "  1 2.11 1.0 0.0]\n",
            " [5\n",
            "  'Roses are dead. Love is fake. Weddings are basically funerals with cake.'\n",
            "  1 2.78 0.0 0.1]]\n"
          ]
        }
      ]
    },
    {
      "cell_type": "code",
      "metadata": {
        "id": "S8PRW68u_XoY"
      },
      "source": [
        "def format_text_to_one_hot(array_of_texts):\n",
        "  vocabulary = []\n",
        "  vocabulary_map = {}\n",
        "  counter = 1\n",
        "  end_result = []\n",
        "  texts_scores = []\n",
        "\n",
        "  for text in array_of_texts:\n",
        "    \n",
        "    text_represented_with_numbers = []\n",
        "    positive_text_score = 0\n",
        "    negative_text_score = 0\n",
        "    # break the text into sentences\n",
        "    sentences = sent_tokenize(text)\n",
        "\n",
        "    for sentence in sentences:\n",
        "\n",
        "      # break the sentence into words\n",
        "      words_array = word_tokenize(sentence)\n",
        "\n",
        "      for word in words_array:\n",
        "\n",
        "        # remove punctuation\n",
        "        word = word.translate(str.maketrans('', '', string.punctuation))\n",
        "        \n",
        "        # lower case all letters \n",
        "        word = word.lower()\n",
        "\n",
        "        if word != '' and word != 's':\n",
        "          if not vocabulary.__contains__(word):\n",
        "            vocabulary.append(word)\n",
        "            vocabulary_map[word] = counter\n",
        "            counter += 1\n",
        "          \n",
        "          text_represented_with_numbers.append(vocabulary_map[word])\n",
        "\n",
        "        # add positive negative score\n",
        "\n",
        "    # add text to result array\n",
        "    end_result.append(text_represented_with_numbers)\n",
        "   # difference = positive_text_score/negative_text_score\n",
        "   # texts_scores.append(difference)\n",
        "  \n",
        "  # arrays to have same length\n",
        "  padded_seq = pad_sequences(end_result, maxlen=63, dtype='int32', padding='pre', value=0.0)\n",
        "  print(len(vocabulary))\n",
        "  return padded_seq"
      ],
      "execution_count": 44,
      "outputs": []
    },
    {
      "cell_type": "code",
      "metadata": {
        "colab": {
          "base_uri": "https://localhost:8080/"
        },
        "id": "HrGmjjEu_g-6",
        "outputId": "bae7ebca-da8d-4501-9024-084c00c56209"
      },
      "source": [
        "texts = df_result['text']\n",
        "values = df_result['is_humor']\n",
        "np.save('/tmp/values', values)\n",
        "print(len(texts))\n",
        "with tf.device('/GPU:0'):\n",
        "  formatted_texts = format_text_to_one_hot(texts)\n",
        "np.save('/tmp/formatted_texts', formatted_texts)\n",
        "print(len(formatted_texts))"
      ],
      "execution_count": 45,
      "outputs": [
        {
          "output_type": "stream",
          "name": "stdout",
          "text": [
            "8000\n",
            "15050\n",
            "8000\n"
          ]
        }
      ]
    },
    {
      "cell_type": "code",
      "metadata": {
        "id": "52M2i8LMrJpc"
      },
      "source": [
        "# n - NOUN\n",
        "#v - VERB\n",
        "#a - ADJECTIVE\n",
        "#s - ADJECTIVE SATELLITE\n",
        "#r - ADVERB\n",
        "\n",
        "from nltk.corpus import stopwords\n",
        "from nltk.stem import WordNetLemmatizer\n",
        "from nltk.corpus import wordnet as wn\n",
        "lemmatizer = WordNetLemmatizer()\n",
        "\n",
        "def penn_to_wn(tag):\n",
        "    if tag.startswith('J'):\n",
        "        return wn.ADJ\n",
        "    elif tag.startswith('N'):\n",
        "        return wn.NOUN\n",
        "    elif tag.startswith('R'):\n",
        "        return wn.ADV\n",
        "    elif tag.startswith('V'):\n",
        "        return wn.VERB\n",
        "    return None\n",
        "\n",
        "# Returns list of pos-neg and objective score. But returns empty list if not present in senti wordnet.\n",
        "def get_sentiment(word,tag):\n",
        "    wn_tag = penn_to_wn(tag)\n",
        "    \n",
        "    if wn_tag not in (wn.NOUN, wn.ADJ, wn.ADV):\n",
        "        return []\n",
        "\n",
        "    #Lemmatization\n",
        "    lemma = lemmatizer.lemmatize(word, pos=wn_tag)\n",
        "    if not lemma:\n",
        "        return []\n",
        "\n",
        "    #Synset is a special kind of a simple interface that is present in NLTK to look up words in WordNet. \n",
        "    #Synset instances are the groupings of synonymous words that express the same concept. \n",
        "    #Some of the words have only one Synset and some have several.\n",
        "    synsets = wn.synsets(word, pos=wn_tag)\n",
        "    if not synsets:\n",
        "        return []\n",
        "\n",
        "    # Take the first sense, the most common\n",
        "    synset = synsets[0]\n",
        "    swn_synset = swn.senti_synset(synset.name())\n",
        "\n",
        "    return [synset.name(), swn_synset.pos_score(),swn_synset.neg_score(),swn_synset.obj_score()]\n",
        "\n",
        "    pos=neg=obj=count=0\n",
        "    \n",
        "\n",
        "def getPostTags(array_of_texts):\n",
        "  vocabulary = []\n",
        "  vocabulary_map = {}\n",
        "  counter = 1\n",
        "  end_result = []\n",
        "  texts_scores = []\n",
        "  postagging = []\n",
        "\n",
        "  for text in array_of_texts:\n",
        "    \n",
        "    text_represented_with_numbers = []\n",
        "    positive_text_score = 0\n",
        "    negative_text_score = 0\n",
        "    # break the text into sentences\n",
        "    sentences = sent_tokenize(text)\n",
        "    posttagging_sentences = []\n",
        "    for sentence in sentences:\n",
        "\n",
        "      # break the sentence into words\n",
        "      words_array = word_tokenize(sentence)\n",
        "      stop_words = set(stopwords.words('english'))\n",
        "      filtered_sentence = [w for w in words_array if not w in stop_words] \n",
        "\n",
        "      # remove punctuation\n",
        "      word_tokens2 = [w for w in filtered_sentence if not w in string.punctuation]\n",
        "      # lower case all letters \n",
        "      lower_case_sentance = map(lambda w: w.lower(), word_tokens2)\n",
        "      #lemmatization\n",
        "      lemmatized_output = [lemmatizer.lemmatize(w) for w in word_tokens2]\n",
        "        \n",
        "      # Remove characters which have length less than 2  \n",
        "      without_single_chr = [word for word in lemmatized_output if len(word) > 2]\n",
        "      # Remove numbers\n",
        "      cleaned_data = [word for word in without_single_chr if not word.isnumeric()]\n",
        "      \n",
        "      posttagging_sentences.append(nltk.pos_tag(cleaned_data))\n",
        "    \n",
        "    postagging.append(posttagging_sentences)\n",
        "  return postagging"
      ],
      "execution_count": 46,
      "outputs": []
    },
    {
      "cell_type": "code",
      "metadata": {
        "colab": {
          "base_uri": "https://localhost:8080/"
        },
        "id": "v4ALeDfNrP-_",
        "outputId": "94b6d394-2d78-42c0-82c8-9bda654cc32e"
      },
      "source": [
        "senti_score = []\n",
        "pos=neg=obj=count=0\n",
        "posttagging = getPostTags(df_result['text'])\n",
        "print(posttagging[:5])\n",
        "count1 = 1\n",
        "for text in posttagging:\n",
        "  senti_scores_text = 0\n",
        "  for sentence in text:\n",
        "    \n",
        "    senti_val = [get_sentiment(x,y) for (x,y) in sentence]\n",
        "    for score in senti_val:\n",
        "      try:\n",
        "        pos = pos + score[1]  #positive score is stored at 2nd position\n",
        "        neg = neg + score[2]  #negative score is stored at 3rd position\n",
        "      except:\n",
        "        continue\n",
        "    result_score = pos - neg\n",
        "    senti_scores_text += result_score \n",
        "    pos=neg=0 \n",
        "  senti_score.append(senti_scores_text)"
      ],
      "execution_count": 47,
      "outputs": [
        {
          "output_type": "stream",
          "name": "stdout",
          "text": [
            "[[[('TENNESSEE', 'NNP'), (\"'re\", 'VBP'), ('best', 'JJS'), ('state', 'NN')], [('Nobody', 'NN'), ('even', 'RB'), ('come', 'VBP'), ('close', 'RB')], [('*Elevennessee', 'NN'), ('walk', 'NN'), ('room*', 'NN'), ('TENNESSEE', 'NNP'), ('shit', 'NN'), ('...', ':')]], [[('man', 'NN'), ('inserted', 'VBD'), ('advertisement', 'JJ'), ('classified', 'JJ'), ('Wife', 'NNP'), ('Wanted', 'VBD')], [('The', 'DT'), ('next', 'JJ'), ('day', 'NN'), ('received', 'VBD'), ('reply', 'RB'), ('reading', 'VBG'), ('You', 'PRP'), ('mine', 'VBP')], [('Free', 'JJ'), ('delivery', 'NN'), ('also', 'RB'), ('available', 'JJ'), ('door', 'JJ'), ('step', 'NN')]], [[('How', 'WRB'), ('many', 'JJ'), ('men', 'NNS'), ('take', 'VBP'), ('open', 'JJ'), ('beer', 'NN')], [('None', 'NN')], [('open', 'JJ'), ('time', 'NN'), ('brings', 'VBZ'), ('couch', 'JJ')]], [[('Told', 'NNP'), ('mom', 'NN'), ('hit', 'VBD'), ('Twitter', 'NNP'), ('follower', 'NN')], [('She', 'PRP'), ('pointed', 'VBD'), ('brother', 'RB'), ('owns', 'VBZ'), ('house', 'NN'), ('wanted', 'VBD'), ('several', 'JJ'), ('collection', 'NN'), ('agency', 'NN')], []], [[('Roses', 'NNS'), ('dead', 'VBP')], [('Love', 'NNP'), ('fake', 'NN')], [('Weddings', 'NNS'), ('basically', 'RB'), ('funeral', 'JJ'), ('cake', 'NN')]]]\n"
          ]
        }
      ]
    },
    {
      "cell_type": "code",
      "metadata": {
        "colab": {
          "base_uri": "https://localhost:8080/"
        },
        "id": "nCgNT562w4tf",
        "outputId": "ac5a9f5a-ad3d-4dda-f659-ea7ecdf71f41"
      },
      "source": [
        "from sklearn import preprocessing\n",
        "\n",
        "senti_score_normalized = preprocessing.normalize([senti_score])\n",
        "print(senti_score_normalized[:2])\n",
        "\n",
        "scaler = preprocessing.MinMaxScaler()\n",
        "d = scaler.fit_transform(np.asarray(senti_score).reshape(-1, 1))\n",
        "senti_score = d.reshape(1, -1)[0]"
      ],
      "execution_count": 48,
      "outputs": [
        {
          "output_type": "stream",
          "name": "stdout",
          "text": [
            "[[ 0.0111316   0.01335793 -0.01335793 ...  0.00222632  0.\n",
            "   0.00445264]]\n"
          ]
        }
      ]
    },
    {
      "cell_type": "code",
      "metadata": {
        "id": "smxf4AhjczM1"
      },
      "source": [
        "text_data, senti_data, labels = [], [], []\n",
        "\n",
        "for i in range(0, len(df_result['is_humor'])):\n",
        "    text_data.append(formatted_texts[i])\n",
        "    senti_data.append(senti_score[i])\n",
        "    labels.append(df_result['offense_rating'][i])\n",
        "\n",
        "\n",
        "total = len(text_data)\n",
        "train_per = int(0.75 * total)\n",
        "\n",
        "train_data, train_labels = [], []\n",
        "test_data, test_labels = [], []\n",
        "\n",
        "for i in range(0, total):\n",
        "  if (i < train_per):\n",
        "    list = np.append(text_data[i], senti_data[i])\n",
        "    train_data.append(list)\n",
        "    #train_data.append(text_data[i])\n",
        "    train_labels.append(labels[i])\n",
        "  else:\n",
        "    list = np.append(text_data[i], senti_data[i])\n",
        "    test_data.append(list)\n",
        "    #test_data.append(text_data[i])\n",
        "    test_labels.append(labels[i])\n",
        "\n",
        "train_data = np.asarray(train_data)\n",
        "train_labels = np.asarray(train_labels)\n",
        "test_data = np.asarray(test_data)\n",
        "test_labels = np.asarray(test_labels)"
      ],
      "execution_count": 49,
      "outputs": []
    },
    {
      "cell_type": "code",
      "metadata": {
        "id": "PeR9FohshfWO"
      },
      "source": [
        "\n",
        "model = tf.keras.Sequential([\n",
        "    tf.keras.layers.Embedding(15500, 32, input_length=len(train_data[0]), mask_zero=True),\n",
        "    tf.keras.layers.Bidirectional(tf.keras.layers.LSTM(64,kernel_regularizer=tf.keras.regularizers.l2(0.0001))),\n",
        "    tf.keras.layers.Dense(1, kernel_initializer='normal')\n",
        "])"
      ],
      "execution_count": 50,
      "outputs": []
    },
    {
      "cell_type": "code",
      "metadata": {
        "id": "ZtFr8Bj2hi4j"
      },
      "source": [
        "sample_text = ('The movie was cool. The animation and the graphics '\n",
        "               'were out of this world. I would recommend this movie.')\n",
        "#predictions = model.predict(np.array([sample_text]))\n",
        "#print(predictions[0])"
      ],
      "execution_count": 51,
      "outputs": []
    },
    {
      "cell_type": "code",
      "metadata": {
        "id": "x7_Oh3Y8hv7H"
      },
      "source": [
        "model.compile(loss=tf.keras.losses.mean_squared_error,\n",
        "              optimizer=tf.keras.optimizers.Adam(0.00005),\n",
        "              metrics=['mse'])\n",
        "callback = tf.keras.callbacks.EarlyStopping(monitor='val_loss', patience=5, mode='auto')"
      ],
      "execution_count": 52,
      "outputs": []
    },
    {
      "cell_type": "code",
      "metadata": {
        "colab": {
          "base_uri": "https://localhost:8080/"
        },
        "id": "qzTJ2gGkBCAn",
        "outputId": "f5fd1aaf-22f2-4d96-c0a1-db6d95f33038"
      },
      "source": [
        "print(train_data[0])\n",
        "print(train_data[1])"
      ],
      "execution_count": 53,
      "outputs": [
        {
          "output_type": "stream",
          "name": "stdout",
          "text": [
            "[ 0.        0.        0.        0.        0.        0.        0.\n",
            "  0.        0.        0.        0.        0.        0.        0.\n",
            "  0.        0.        0.        0.        0.        0.        0.\n",
            "  0.        0.        0.        0.        0.        0.        0.\n",
            "  0.        0.        0.        0.        0.        0.        0.\n",
            "  0.        0.        0.        0.        0.        0.        0.\n",
            "  0.        0.        0.        1.        2.        3.        4.\n",
            "  5.        6.        7.        8.        9.       10.       11.\n",
            " 12.       13.        4.       14.        1.       15.       16.\n",
            "  0.546875]\n",
            "[ 0.      0.      0.      0.      0.      0.      0.      0.      0.\n",
            "  0.      0.      0.      0.      0.      0.      0.      0.      0.\n",
            "  0.      0.      0.      0.      0.      0.      0.      0.      0.\n",
            "  0.      0.      0.      0.     17.     18.     19.     20.     21.\n",
            " 22.      4.     23.     24.     25.      4.     26.     27.     28.\n",
            " 29.     30.     31.     32.     33.     34.     35.     36.     37.\n",
            " 38.     39.     40.     41.     42.     43.     44.     45.     46.\n",
            "  0.5625]\n"
          ]
        }
      ]
    },
    {
      "cell_type": "code",
      "metadata": {
        "colab": {
          "base_uri": "https://localhost:8080/"
        },
        "id": "Tsauw7oRhisk",
        "outputId": "b5525252-42cf-48b5-f296-0bb5a06e1421"
      },
      "source": [
        "\n",
        "with tf.device('/GPU:0'):\n",
        "  history = model.fit(train_data, train_labels, epochs=500, validation_split=0.25, verbose=1, callbacks=callback)"
      ],
      "execution_count": 54,
      "outputs": [
        {
          "output_type": "stream",
          "name": "stdout",
          "text": [
            "Epoch 1/500\n",
            "141/141 [==============================] - 24s 120ms/step - loss: 1.2537 - mse: 1.2429 - val_loss: 1.1603 - val_mse: 1.1500\n",
            "Epoch 2/500\n",
            "141/141 [==============================] - 15s 103ms/step - loss: 1.0430 - mse: 1.0331 - val_loss: 0.9955 - val_mse: 0.9859\n",
            "Epoch 3/500\n",
            "141/141 [==============================] - 15s 105ms/step - loss: 0.9668 - mse: 0.9575 - val_loss: 0.9495 - val_mse: 0.9404\n",
            "Epoch 4/500\n",
            "141/141 [==============================] - 15s 105ms/step - loss: 0.9080 - mse: 0.8991 - val_loss: 0.9031 - val_mse: 0.8943\n",
            "Epoch 5/500\n",
            "141/141 [==============================] - 15s 105ms/step - loss: 0.8430 - mse: 0.8342 - val_loss: 0.8549 - val_mse: 0.8463\n",
            "Epoch 6/500\n",
            "141/141 [==============================] - 14s 103ms/step - loss: 0.7487 - mse: 0.7400 - val_loss: 0.7925 - val_mse: 0.7838\n",
            "Epoch 7/500\n",
            "141/141 [==============================] - 14s 102ms/step - loss: 0.6294 - mse: 0.6207 - val_loss: 0.7438 - val_mse: 0.7351\n",
            "Epoch 8/500\n",
            "141/141 [==============================] - 14s 103ms/step - loss: 0.5446 - mse: 0.5359 - val_loss: 0.7242 - val_mse: 0.7156\n",
            "Epoch 9/500\n",
            "141/141 [==============================] - 15s 103ms/step - loss: 0.4787 - mse: 0.4701 - val_loss: 0.7112 - val_mse: 0.7026\n",
            "Epoch 10/500\n",
            "141/141 [==============================] - 14s 102ms/step - loss: 0.4262 - mse: 0.4176 - val_loss: 0.6935 - val_mse: 0.6848\n",
            "Epoch 11/500\n",
            "141/141 [==============================] - 14s 102ms/step - loss: 0.3855 - mse: 0.3769 - val_loss: 0.6822 - val_mse: 0.6737\n",
            "Epoch 12/500\n",
            "141/141 [==============================] - 15s 103ms/step - loss: 0.3476 - mse: 0.3390 - val_loss: 0.7116 - val_mse: 0.7030\n",
            "Epoch 13/500\n",
            "141/141 [==============================] - 15s 103ms/step - loss: 0.3176 - mse: 0.3091 - val_loss: 0.6749 - val_mse: 0.6663\n",
            "Epoch 14/500\n",
            "141/141 [==============================] - 14s 103ms/step - loss: 0.2852 - mse: 0.2767 - val_loss: 0.6856 - val_mse: 0.6770\n",
            "Epoch 15/500\n",
            "141/141 [==============================] - 15s 104ms/step - loss: 0.2562 - mse: 0.2477 - val_loss: 0.6666 - val_mse: 0.6581\n",
            "Epoch 16/500\n",
            "141/141 [==============================] - 14s 102ms/step - loss: 0.2335 - mse: 0.2250 - val_loss: 0.6698 - val_mse: 0.6613\n",
            "Epoch 17/500\n",
            "141/141 [==============================] - 15s 103ms/step - loss: 0.2120 - mse: 0.2035 - val_loss: 0.6653 - val_mse: 0.6568\n",
            "Epoch 18/500\n",
            "141/141 [==============================] - 14s 102ms/step - loss: 0.1912 - mse: 0.1827 - val_loss: 0.6676 - val_mse: 0.6591\n",
            "Epoch 19/500\n",
            "141/141 [==============================] - 14s 103ms/step - loss: 0.1729 - mse: 0.1645 - val_loss: 0.6735 - val_mse: 0.6651\n",
            "Epoch 20/500\n",
            "141/141 [==============================] - 14s 102ms/step - loss: 0.1576 - mse: 0.1492 - val_loss: 0.6762 - val_mse: 0.6678\n",
            "Epoch 21/500\n",
            "141/141 [==============================] - 14s 102ms/step - loss: 0.1432 - mse: 0.1349 - val_loss: 0.6899 - val_mse: 0.6816\n",
            "Epoch 22/500\n",
            "141/141 [==============================] - 14s 102ms/step - loss: 0.1308 - mse: 0.1225 - val_loss: 0.6780 - val_mse: 0.6697\n"
          ]
        }
      ]
    },
    {
      "cell_type": "code",
      "metadata": {
        "id": "HfCldxyOiFgu",
        "colab": {
          "base_uri": "https://localhost:8080/"
        },
        "outputId": "43c56f69-fc8c-472c-84cf-40a39c87aa58"
      },
      "source": [
        "with tf.device('/GPU:0'):\n",
        "  test_loss, test_acc = model.evaluate(test_data, test_labels, verbose=1)\n",
        "\n",
        "print('Test Loss: {}'.format(test_loss))\n",
        "print('Test Accuracy: {}'.format(test_acc))"
      ],
      "execution_count": 55,
      "outputs": [
        {
          "output_type": "stream",
          "name": "stdout",
          "text": [
            "63/63 [==============================] - 1s 20ms/step - loss: 0.6913 - mse: 0.6830\n",
            "Test Loss: 0.6912557482719421\n",
            "Test Accuracy: 0.6829736232757568\n"
          ]
        }
      ]
    },
    {
      "cell_type": "code",
      "metadata": {
        "id": "BbnILg6BpUN2",
        "colab": {
          "base_uri": "https://localhost:8080/",
          "height": 388
        },
        "outputId": "8f426499-5260-48fe-c2c6-8ec91ffcc697"
      },
      "source": [
        "import matplotlib.pyplot as plt\n",
        "def plot_graphs(history, metric):\n",
        "  plt.plot(history.history[metric])\n",
        "  plt.plot(history.history['val_'+metric], '')\n",
        "  plt.xlabel(\"Epochs\")\n",
        "  plt.ylabel(metric)\n",
        "  plt.legend([metric, 'val_'+metric])\n",
        "  \n",
        "plt.figure(figsize=(16,6))\n",
        "plt.subplot(1,2,1)\n",
        "plot_graphs(history, 'mse')\n",
        "plt.subplot(1,2,2)\n",
        "plot_graphs(history, 'loss')"
      ],
      "execution_count": 56,
      "outputs": [
        {
          "output_type": "display_data",
          "data": {
            "image/png": "[encoded data removed]",
            "text/plain": [
              "<Figure size 1152x432 with 2 Axes>"
            ]
          },
          "metadata": {
            "needs_background": "light"
          }
        }
      ]
    },
    {
      "cell_type": "code",
      "metadata": {
        "colab": {
          "base_uri": "https://localhost:8080/"
        },
        "id": "S2xDZoodJBHX",
        "outputId": "9fbabbe6-fd1d-4f41-c3c8-0724a7e5b0ce"
      },
      "source": [
        "test_predictions = model.predict(test_data)\n",
        "print(test_predictions[:10])"
      ],
      "execution_count": 57,
      "outputs": [
        {
          "output_type": "stream",
          "name": "stdout",
          "text": [
            "[[ 0.372195  ]\n",
            " [-0.02992792]\n",
            " [ 0.309001  ]\n",
            " [ 0.6969156 ]\n",
            " [ 1.6444775 ]\n",
            " [ 0.2015199 ]\n",
            " [ 0.9532943 ]\n",
            " [ 0.11262735]\n",
            " [ 0.26284274]\n",
            " [-0.10522017]]\n"
          ]
        }
      ]
    },
    {
      "cell_type": "code",
      "metadata": {
        "colab": {
          "base_uri": "https://localhost:8080/",
          "height": 283
        },
        "id": "2-kJdeypJGb_",
        "outputId": "84f8ee81-d1c7-4de3-fea4-d3fba300cf3b"
      },
      "source": [
        "import matplotlib.pyplot as plt\n",
        "\n",
        "a = plt.axes(aspect='equal')\n",
        "plt.scatter(test_labels, test_predictions)\n",
        "plt.xlabel('True Values [MPG]')\n",
        "plt.ylabel('Predictions [MPG]')\n",
        "lims = [0, 5]\n",
        "plt.xlim(lims)\n",
        "plt.ylim(lims)\n",
        "_ = plt.plot(lims, lims)"
      ],
      "execution_count": 58,
      "outputs": [
        {
          "output_type": "display_data",
          "data": {
            "image/png": "[encoded data removed]",
            "text/plain": [
              "<Figure size 432x288 with 1 Axes>"
            ]
          },
          "metadata": {
            "needs_background": "light"
          }
        }
      ]
    }
  ]
}