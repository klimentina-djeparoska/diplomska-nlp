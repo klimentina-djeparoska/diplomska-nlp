{
  "nbformat": 4,
  "nbformat_minor": 0,
  "metadata": {
    "colab": {
      "name": "without_senti_humor_rating_rnn_model.ipynb",
      "provenance": [],
      "collapsed_sections": []
    },
    "kernelspec": {
      "name": "python3",
      "display_name": "Python 3"
    }
  },
  "cells": [
    {
      "cell_type": "code",
      "metadata": {
        "colab": {
          "base_uri": "https://localhost:8080/"
        },
        "id": "8H2DtzfIcN6A",
        "outputId": "fe9dfdb9-b6ec-4222-fab1-9a85ff7c559f"
      },
      "source": [
        "# connect with google drive\n",
        "from google.colab import drive\n",
        "drive.mount('/content/drive')"
      ],
      "execution_count": 1,
      "outputs": [
        {
          "output_type": "stream",
          "name": "stdout",
          "text": [
            "Mounted at /content/drive\n"
          ]
        }
      ]
    },
    {
      "cell_type": "code",
      "metadata": {
        "colab": {
          "base_uri": "https://localhost:8080/"
        },
        "id": "FKze-iMycRMM",
        "outputId": "1e095c72-ed03-44b2-b941-2399ce0c8cbf"
      },
      "source": [
        "import pandas as pd\n",
        "import numpy as np\n",
        "import random\n",
        "import nltk\n",
        "nltk.download('punkt')\n",
        "nltk.download('sentiwordnet')\n",
        "nltk.download('wordnet')\n",
        "nltk.download('stopwords')\n",
        "nltk.download('averaged_perceptron_tagger')\n",
        "from nltk.tokenize import sent_tokenize, word_tokenize\n",
        "from nltk.corpus import sentiwordnet as swn\n",
        "import string\n",
        "from tensorflow.keras.utils import to_categorical\n",
        "from keras.preprocessing.sequence import pad_sequences\n",
        "import tensorflow as tf"
      ],
      "execution_count": 2,
      "outputs": [
        {
          "output_type": "stream",
          "name": "stdout",
          "text": [
            "[nltk_data] Downloading package punkt to /root/nltk_data...\n",
            "[nltk_data]   Unzipping tokenizers/punkt.zip.\n",
            "[nltk_data] Downloading package sentiwordnet to /root/nltk_data...\n",
            "[nltk_data]   Unzipping corpora/sentiwordnet.zip.\n",
            "[nltk_data] Downloading package wordnet to /root/nltk_data...\n",
            "[nltk_data]   Unzipping corpora/wordnet.zip.\n",
            "[nltk_data] Downloading package stopwords to /root/nltk_data...\n",
            "[nltk_data]   Unzipping corpora/stopwords.zip.\n",
            "[nltk_data] Downloading package averaged_perceptron_tagger to\n",
            "[nltk_data]     /root/nltk_data...\n",
            "[nltk_data]   Unzipping taggers/averaged_perceptron_tagger.zip.\n"
          ]
        }
      ]
    },
    {
      "cell_type": "code",
      "metadata": {
        "id": "a5FXV7UEcTKI"
      },
      "source": [
        "def load_dataset():\n",
        "  column_names = [ 'id', 'text', 'is_humor', 'humor_rating', 'humor_controversy', 'offense_rating' ]\n",
        "  data_path = '/content/drive/My Drive/data-nlp-humor-offense/train.csv'\n",
        "  data_frame = pd.read_csv(data_path, names=column_names, skiprows=1, na_values=\"?\", sep=\",\", skipinitialspace=True)\n",
        "  data = data_frame.fillna(0).to_numpy()\n",
        "\n",
        "  return data, data_frame"
      ],
      "execution_count": 3,
      "outputs": []
    },
    {
      "cell_type": "code",
      "metadata": {
        "colab": {
          "base_uri": "https://localhost:8080/"
        },
        "id": "BK-XU7PFcYGT",
        "outputId": "f839e6e9-bc48-40fa-ba48-2a1be3c4a3f7"
      },
      "source": [
        "result, df_result = load_dataset()\n",
        "print(result[:5])"
      ],
      "execution_count": 4,
      "outputs": [
        {
          "output_type": "stream",
          "name": "stdout",
          "text": [
            "[[1\n",
            "  \"TENNESSEE: We're the best state. Nobody even comes close. *Elevennessee walks into the room* TENNESSEE: Oh shit...\"\n",
            "  1 2.42 1.0 0.2]\n",
            " [2\n",
            "  'A man inserted an advertisement in the classifieds \"Wife Wanted\". The next day, he received 1000 of replies, all reading: \"You can have mine.\" Free delivery also available at your door step'\n",
            "  1 2.5 1.0 1.1]\n",
            " [3\n",
            "  'How many men does it take to open a can of beer? None. It should be open by the time she brings it to the couch.'\n",
            "  1 1.95 0.0 2.4]\n",
            " [4\n",
            "  \"Told my mom I hit 1200 Twitter followers. She pointed out how my brother owns a house and I'm wanted by several collection agencies. Oh ma!\"\n",
            "  1 2.11 1.0 0.0]\n",
            " [5\n",
            "  'Roses are dead. Love is fake. Weddings are basically funerals with cake.'\n",
            "  1 2.78 0.0 0.1]]\n"
          ]
        }
      ]
    },
    {
      "cell_type": "code",
      "metadata": {
        "id": "S8PRW68u_XoY"
      },
      "source": [
        "def format_text_to_one_hot(array_of_texts):\n",
        "  vocabulary = []\n",
        "  vocabulary_map = {}\n",
        "  counter = 1\n",
        "  end_result = []\n",
        "  texts_scores = []\n",
        "\n",
        "  for text in array_of_texts:\n",
        "    \n",
        "    text_represented_with_numbers = []\n",
        "    positive_text_score = 0\n",
        "    negative_text_score = 0\n",
        "    # break the text into sentences\n",
        "    sentences = sent_tokenize(text)\n",
        "\n",
        "    for sentence in sentences:\n",
        "\n",
        "      # break the sentence into words\n",
        "      words_array = word_tokenize(sentence)\n",
        "\n",
        "      for word in words_array:\n",
        "\n",
        "        # remove punctuation\n",
        "        word = word.translate(str.maketrans('', '', string.punctuation))\n",
        "        \n",
        "        # lower case all letters \n",
        "        word = word.lower()\n",
        "\n",
        "        if word != '' and word != 's':\n",
        "          if not vocabulary.__contains__(word):\n",
        "            vocabulary.append(word)\n",
        "            vocabulary_map[word] = counter\n",
        "            counter += 1\n",
        "          \n",
        "          text_represented_with_numbers.append(vocabulary_map[word])\n",
        "\n",
        "        # add positive negative score\n",
        "\n",
        "    # add text to result array\n",
        "    end_result.append(text_represented_with_numbers)\n",
        "   # difference = positive_text_score/negative_text_score\n",
        "   # texts_scores.append(difference)\n",
        "  \n",
        "  # arrays to have same length\n",
        "  padded_seq = pad_sequences(end_result, maxlen=63, dtype='int32', padding='pre', value=0.0)\n",
        "  print(len(vocabulary))\n",
        "  return padded_seq"
      ],
      "execution_count": 5,
      "outputs": []
    },
    {
      "cell_type": "code",
      "metadata": {
        "colab": {
          "base_uri": "https://localhost:8080/"
        },
        "id": "HrGmjjEu_g-6",
        "outputId": "02dfc1ee-18a5-4499-da7b-f14dd8e39775"
      },
      "source": [
        "texts = df_result['text']\n",
        "values = df_result['is_humor']\n",
        "np.save('/tmp/values', values)\n",
        "print(len(texts))\n",
        "with tf.device('/GPU:0'):\n",
        "  formatted_texts = format_text_to_one_hot(texts)\n",
        "np.save('/tmp/formatted_texts', formatted_texts)\n",
        "print(len(formatted_texts))"
      ],
      "execution_count": 6,
      "outputs": [
        {
          "output_type": "stream",
          "name": "stdout",
          "text": [
            "8000\n",
            "15050\n",
            "8000\n"
          ]
        }
      ]
    },
    {
      "cell_type": "code",
      "metadata": {
        "id": "52M2i8LMrJpc"
      },
      "source": [
        "# n - NOUN\n",
        "#v - VERB\n",
        "#a - ADJECTIVE\n",
        "#s - ADJECTIVE SATELLITE\n",
        "#r - ADVERB\n",
        "\n",
        "from nltk.corpus import stopwords\n",
        "from nltk.stem import WordNetLemmatizer\n",
        "from nltk.corpus import wordnet as wn\n",
        "lemmatizer = WordNetLemmatizer()\n",
        "\n",
        "def penn_to_wn(tag):\n",
        "    if tag.startswith('J'):\n",
        "        return wn.ADJ\n",
        "    elif tag.startswith('N'):\n",
        "        return wn.NOUN\n",
        "    elif tag.startswith('R'):\n",
        "        return wn.ADV\n",
        "    elif tag.startswith('V'):\n",
        "        return wn.VERB\n",
        "    return None\n",
        "\n",
        "# Returns list of pos-neg and objective score. But returns empty list if not present in senti wordnet.\n",
        "def get_sentiment(word,tag):\n",
        "    wn_tag = penn_to_wn(tag)\n",
        "    \n",
        "    if wn_tag not in (wn.NOUN, wn.ADJ, wn.ADV):\n",
        "        return []\n",
        "\n",
        "    #Lemmatization\n",
        "    lemma = lemmatizer.lemmatize(word, pos=wn_tag)\n",
        "    if not lemma:\n",
        "        return []\n",
        "\n",
        "    #Synset is a special kind of a simple interface that is present in NLTK to look up words in WordNet. \n",
        "    #Synset instances are the groupings of synonymous words that express the same concept. \n",
        "    #Some of the words have only one Synset and some have several.\n",
        "    synsets = wn.synsets(word, pos=wn_tag)\n",
        "    if not synsets:\n",
        "        return []\n",
        "\n",
        "    # Take the first sense, the most common\n",
        "    synset = synsets[0]\n",
        "    swn_synset = swn.senti_synset(synset.name())\n",
        "\n",
        "    return [synset.name(), swn_synset.pos_score(),swn_synset.neg_score(),swn_synset.obj_score()]\n",
        "\n",
        "    pos=neg=obj=count=0\n",
        "    \n",
        "\n",
        "def getPostTags(array_of_texts):\n",
        "  vocabulary = []\n",
        "  vocabulary_map = {}\n",
        "  counter = 1\n",
        "  end_result = []\n",
        "  texts_scores = []\n",
        "  postagging = []\n",
        "\n",
        "  for text in array_of_texts:\n",
        "    \n",
        "    text_represented_with_numbers = []\n",
        "    positive_text_score = 0\n",
        "    negative_text_score = 0\n",
        "    # break the text into sentences\n",
        "    sentences = sent_tokenize(text)\n",
        "    posttagging_sentences = []\n",
        "    for sentence in sentences:\n",
        "\n",
        "      # break the sentence into words\n",
        "      words_array = word_tokenize(sentence)\n",
        "      stop_words = set(stopwords.words('english'))\n",
        "      filtered_sentence = [w for w in words_array if not w in stop_words] \n",
        "\n",
        "      # remove punctuation\n",
        "      word_tokens2 = [w for w in filtered_sentence if not w in string.punctuation]\n",
        "      # lower case all letters \n",
        "      lower_case_sentance = map(lambda w: w.lower(), word_tokens2)\n",
        "      #lemmatization\n",
        "      lemmatized_output = [lemmatizer.lemmatize(w) for w in word_tokens2]\n",
        "        \n",
        "      # Remove characters which have length less than 2  \n",
        "      without_single_chr = [word for word in lemmatized_output if len(word) > 2]\n",
        "      # Remove numbers\n",
        "      cleaned_data = [word for word in without_single_chr if not word.isnumeric()]\n",
        "      \n",
        "      posttagging_sentences.append(nltk.pos_tag(cleaned_data))\n",
        "    \n",
        "    postagging.append(posttagging_sentences)\n",
        "  return postagging"
      ],
      "execution_count": 7,
      "outputs": []
    },
    {
      "cell_type": "code",
      "metadata": {
        "colab": {
          "base_uri": "https://localhost:8080/"
        },
        "id": "v4ALeDfNrP-_",
        "outputId": "e39f6abf-0602-49ab-9883-32e1c8604d15"
      },
      "source": [
        "senti_score = []\n",
        "pos=neg=obj=count=0\n",
        "posttagging = getPostTags(df_result['text'])\n",
        "print(posttagging[:5])\n",
        "count1 = 1\n",
        "for text in posttagging:\n",
        "  senti_scores_text = 0\n",
        "  for sentence in text:\n",
        "    \n",
        "    senti_val = [get_sentiment(x,y) for (x,y) in sentence]\n",
        "    for score in senti_val:\n",
        "      try:\n",
        "        pos = pos + score[1]  #positive score is stored at 2nd position\n",
        "        neg = neg + score[2]  #negative score is stored at 3rd position\n",
        "      except:\n",
        "        continue\n",
        "    result_score = pos - neg\n",
        "    senti_scores_text += result_score \n",
        "    pos=neg=0 \n",
        "  senti_score.append(senti_scores_text)"
      ],
      "execution_count": 8,
      "outputs": [
        {
          "output_type": "stream",
          "name": "stdout",
          "text": [
            "[[[('TENNESSEE', 'NNP'), (\"'re\", 'VBP'), ('best', 'JJS'), ('state', 'NN')], [('Nobody', 'NN'), ('even', 'RB'), ('come', 'VBP'), ('close', 'RB')], [('*Elevennessee', 'NN'), ('walk', 'NN'), ('room*', 'NN'), ('TENNESSEE', 'NNP'), ('shit', 'NN'), ('...', ':')]], [[('man', 'NN'), ('inserted', 'VBD'), ('advertisement', 'JJ'), ('classified', 'JJ'), ('Wife', 'NNP'), ('Wanted', 'VBD')], [('The', 'DT'), ('next', 'JJ'), ('day', 'NN'), ('received', 'VBD'), ('reply', 'RB'), ('reading', 'VBG'), ('You', 'PRP'), ('mine', 'VBP')], [('Free', 'JJ'), ('delivery', 'NN'), ('also', 'RB'), ('available', 'JJ'), ('door', 'JJ'), ('step', 'NN')]], [[('How', 'WRB'), ('many', 'JJ'), ('men', 'NNS'), ('take', 'VBP'), ('open', 'JJ'), ('beer', 'NN')], [('None', 'NN')], [('open', 'JJ'), ('time', 'NN'), ('brings', 'VBZ'), ('couch', 'JJ')]], [[('Told', 'NNP'), ('mom', 'NN'), ('hit', 'VBD'), ('Twitter', 'NNP'), ('follower', 'NN')], [('She', 'PRP'), ('pointed', 'VBD'), ('brother', 'RB'), ('owns', 'VBZ'), ('house', 'NN'), ('wanted', 'VBD'), ('several', 'JJ'), ('collection', 'NN'), ('agency', 'NN')], []], [[('Roses', 'NNS'), ('dead', 'VBP')], [('Love', 'NNP'), ('fake', 'NN')], [('Weddings', 'NNS'), ('basically', 'RB'), ('funeral', 'JJ'), ('cake', 'NN')]]]\n",
            "[0.625, 0.75]\n"
          ]
        }
      ]
    },
    {
      "cell_type": "code",
      "metadata": {
        "id": "smxf4AhjczM1",
        "colab": {
          "base_uri": "https://localhost:8080/"
        },
        "outputId": "cbeb8bf6-51b9-42c6-ac34-9d79ede5cea4"
      },
      "source": [
        "text_data, senti_data, labels = [], [], []\n",
        "\n",
        "for i in range(0, len(df_result['is_humor'])):\n",
        "  if df_result['is_humor'][i] == 1:\n",
        "    text_data.append(formatted_texts[i])\n",
        "    senti_data.append(senti_score[i])\n",
        "    labels.append(df_result['humor_rating'][i])\n",
        "\n",
        "\n",
        "total = len(text_data)\n",
        "train_per = int(0.75 * total)\n",
        "\n",
        "train_data, train_labels = [], []\n",
        "test_data, test_labels = [], []\n",
        "\n",
        "for i in range(0, total):\n",
        "  if (i < train_per):\n",
        "    #list = np.append(text_data[i], senti_data[i])\n",
        "    #train_data.append(list)\n",
        "    train_data.append(text_data[i])\n",
        "    train_labels.append(labels[i])\n",
        "  else:\n",
        "    #list = np.append(text_data[i], senti_data[i])\n",
        "    #test_data.append(list)\n",
        "    test_data.append(text_data[i])\n",
        "    test_labels.append(labels[i])\n",
        "\n",
        "train_data = np.asarray(train_data)\n",
        "train_labels = np.asarray(train_labels)\n",
        "test_data = np.asarray(test_data)\n",
        "test_labels = np.asarray(test_labels)"
      ],
      "execution_count": 9,
      "outputs": [
        {
          "output_type": "stream",
          "name": "stdout",
          "text": [
            "[    0     0     0     0     0     0     0     0     0     0     0     0\n",
            "     0     0     0     0     0     0     0     0     0     0     0     0\n",
            "     0     0     0     0     0     0     0     0     0     0     0     0\n",
            "     0    65  2389    52    87    35  1006     3    17   552  5905  3430\n",
            "   223     4  7637    35   351  3292  7111 12992   290     2   293   113\n",
            "    16 12993    73]\n",
            "[    0     0     0     0     0     0     0     0     0     0     0     0\n",
            "     0     0     0     0     0     0     0     0     0     0     0     0\n",
            "     0     0     0     0     0     0     0     0     0     0     0     0\n",
            "     0    65  2389    52    87    35  1006     3    17   552  5905  3430\n",
            "   223     4  7637    35   351  3292  7111 12992   290     2   293   113\n",
            "    16 12993    73]\n"
          ]
        }
      ]
    },
    {
      "cell_type": "code",
      "metadata": {
        "id": "PeR9FohshfWO"
      },
      "source": [
        "\n",
        "model = tf.keras.Sequential([\n",
        "    tf.keras.layers.Embedding(15500, 32, input_length=len(train_data[0]), mask_zero=True),\n",
        "    tf.keras.layers.Bidirectional(tf.keras.layers.LSTM(64,kernel_regularizer=tf.keras.regularizers.l2(0.0001))),\n",
        "    tf.keras.layers.Dense(1, kernel_initializer='normal')\n",
        "])"
      ],
      "execution_count": 57,
      "outputs": []
    },
    {
      "cell_type": "code",
      "metadata": {
        "id": "ZtFr8Bj2hi4j"
      },
      "source": [
        "sample_text = ('The movie was cool. The animation and the graphics '\n",
        "               'were out of this world. I would recommend this movie.')\n",
        "#predictions = model.predict(np.array([sample_text]))\n",
        "#print(predictions[0])"
      ],
      "execution_count": 13,
      "outputs": []
    },
    {
      "cell_type": "code",
      "metadata": {
        "id": "x7_Oh3Y8hv7H"
      },
      "source": [
        "model.compile(loss=tf.keras.losses.mean_squared_error,\n",
        "              optimizer=tf.keras.optimizers.Adam(0.00005),\n",
        "              metrics=['mse'])\n",
        "callback = tf.keras.callbacks.EarlyStopping(monitor='val_loss', patience=5, mode='auto')"
      ],
      "execution_count": 58,
      "outputs": []
    },
    {
      "cell_type": "code",
      "metadata": {
        "colab": {
          "base_uri": "https://localhost:8080/"
        },
        "id": "qzTJ2gGkBCAn",
        "outputId": "a4bce5b1-7eb6-4925-d3b8-b7f496a0a8ef"
      },
      "source": [
        "print(train_data[0])\n",
        "print(train_data[1])"
      ],
      "execution_count": 15,
      "outputs": [
        {
          "output_type": "stream",
          "name": "stdout",
          "text": [
            "[ 0  0  0  0  0  0  0  0  0  0  0  0  0  0  0  0  0  0  0  0  0  0  0  0\n",
            "  0  0  0  0  0  0  0  0  0  0  0  0  0  0  0  0  0  0  0  0  0  1  2  3\n",
            "  4  5  6  7  8  9 10 11 12 13  4 14  1 15 16]\n",
            "[ 0  0  0  0  0  0  0  0  0  0  0  0  0  0  0  0  0  0  0  0  0  0  0  0\n",
            "  0  0  0  0  0  0  0 17 18 19 20 21 22  4 23 24 25  4 26 27 28 29 30 31\n",
            " 32 33 34 35 36 37 38 39 40 41 42 43 44 45 46]\n"
          ]
        }
      ]
    },
    {
      "cell_type": "code",
      "metadata": {
        "colab": {
          "base_uri": "https://localhost:8080/"
        },
        "id": "Tsauw7oRhisk",
        "outputId": "3c8d7685-f36b-4c19-e2a8-00d141b956eb"
      },
      "source": [
        "\n",
        "with tf.device('/GPU:0'):\n",
        "  history = model.fit(train_data, train_labels, epochs=500, validation_split=0.25, verbose=1, callbacks=callback)"
      ],
      "execution_count": 59,
      "outputs": [
        {
          "output_type": "stream",
          "name": "stdout",
          "text": [
            "Epoch 1/500\n",
            "87/87 [==============================] - 18s 128ms/step - loss: 5.2954 - mse: 5.2844 - val_loss: 5.2386 - val_mse: 5.2280\n",
            "Epoch 2/500\n",
            "87/87 [==============================] - 9s 101ms/step - loss: 4.3807 - mse: 4.3703 - val_loss: 2.5141 - val_mse: 2.5037\n",
            "Epoch 3/500\n",
            "87/87 [==============================] - 9s 100ms/step - loss: 1.4318 - mse: 1.4214 - val_loss: 1.0736 - val_mse: 1.0632\n",
            "Epoch 4/500\n",
            "87/87 [==============================] - 9s 99ms/step - loss: 0.8599 - mse: 0.8495 - val_loss: 0.7225 - val_mse: 0.7120\n",
            "Epoch 5/500\n",
            "87/87 [==============================] - 9s 101ms/step - loss: 0.6347 - mse: 0.6242 - val_loss: 0.5627 - val_mse: 0.5523\n",
            "Epoch 6/500\n",
            "87/87 [==============================] - 9s 100ms/step - loss: 0.5234 - mse: 0.5130 - val_loss: 0.4761 - val_mse: 0.4657\n",
            "Epoch 7/500\n",
            "87/87 [==============================] - 9s 99ms/step - loss: 0.4611 - mse: 0.4507 - val_loss: 0.4314 - val_mse: 0.4211\n",
            "Epoch 8/500\n",
            "87/87 [==============================] - 9s 99ms/step - loss: 0.4236 - mse: 0.4132 - val_loss: 0.4002 - val_mse: 0.3899\n",
            "Epoch 9/500\n",
            "87/87 [==============================] - 9s 99ms/step - loss: 0.3986 - mse: 0.3884 - val_loss: 0.3793 - val_mse: 0.3691\n",
            "Epoch 10/500\n",
            "87/87 [==============================] - 9s 99ms/step - loss: 0.3815 - mse: 0.3713 - val_loss: 0.3682 - val_mse: 0.3581\n",
            "Epoch 11/500\n",
            "87/87 [==============================] - 9s 99ms/step - loss: 0.3695 - mse: 0.3595 - val_loss: 0.3584 - val_mse: 0.3484\n",
            "Epoch 12/500\n",
            "87/87 [==============================] - 9s 99ms/step - loss: 0.3600 - mse: 0.3500 - val_loss: 0.3498 - val_mse: 0.3399\n",
            "Epoch 13/500\n",
            "87/87 [==============================] - 9s 100ms/step - loss: 0.3527 - mse: 0.3429 - val_loss: 0.3451 - val_mse: 0.3353\n",
            "Epoch 14/500\n",
            "87/87 [==============================] - 9s 99ms/step - loss: 0.3470 - mse: 0.3373 - val_loss: 0.3403 - val_mse: 0.3307\n",
            "Epoch 15/500\n",
            "87/87 [==============================] - 9s 99ms/step - loss: 0.3421 - mse: 0.3325 - val_loss: 0.3395 - val_mse: 0.3300\n",
            "Epoch 16/500\n",
            "87/87 [==============================] - 9s 99ms/step - loss: 0.3381 - mse: 0.3286 - val_loss: 0.3342 - val_mse: 0.3248\n",
            "Epoch 17/500\n",
            "87/87 [==============================] - 9s 99ms/step - loss: 0.3351 - mse: 0.3258 - val_loss: 0.3323 - val_mse: 0.3230\n",
            "Epoch 18/500\n",
            "87/87 [==============================] - 9s 101ms/step - loss: 0.3324 - mse: 0.3232 - val_loss: 0.3307 - val_mse: 0.3215\n",
            "Epoch 19/500\n",
            "87/87 [==============================] - 9s 100ms/step - loss: 0.3297 - mse: 0.3207 - val_loss: 0.3298 - val_mse: 0.3208\n",
            "Epoch 20/500\n",
            "87/87 [==============================] - 9s 100ms/step - loss: 0.3271 - mse: 0.3182 - val_loss: 0.3294 - val_mse: 0.3205\n",
            "Epoch 21/500\n",
            "87/87 [==============================] - 9s 101ms/step - loss: 0.3251 - mse: 0.3163 - val_loss: 0.3262 - val_mse: 0.3174\n",
            "Epoch 22/500\n",
            "87/87 [==============================] - 9s 101ms/step - loss: 0.3228 - mse: 0.3141 - val_loss: 0.3251 - val_mse: 0.3164\n",
            "Epoch 23/500\n",
            "87/87 [==============================] - 9s 99ms/step - loss: 0.3206 - mse: 0.3121 - val_loss: 0.3251 - val_mse: 0.3166\n",
            "Epoch 24/500\n",
            "87/87 [==============================] - 9s 100ms/step - loss: 0.3186 - mse: 0.3101 - val_loss: 0.3229 - val_mse: 0.3144\n",
            "Epoch 25/500\n",
            "87/87 [==============================] - 9s 100ms/step - loss: 0.3168 - mse: 0.3084 - val_loss: 0.3220 - val_mse: 0.3137\n",
            "Epoch 26/500\n",
            "87/87 [==============================] - 9s 99ms/step - loss: 0.3148 - mse: 0.3065 - val_loss: 0.3211 - val_mse: 0.3128\n",
            "Epoch 27/500\n",
            "87/87 [==============================] - 9s 99ms/step - loss: 0.3127 - mse: 0.3045 - val_loss: 0.3213 - val_mse: 0.3132\n",
            "Epoch 28/500\n",
            "87/87 [==============================] - 9s 100ms/step - loss: 0.3107 - mse: 0.3026 - val_loss: 0.3195 - val_mse: 0.3114\n",
            "Epoch 29/500\n",
            "87/87 [==============================] - 9s 99ms/step - loss: 0.3084 - mse: 0.3003 - val_loss: 0.3189 - val_mse: 0.3109\n",
            "Epoch 30/500\n",
            "87/87 [==============================] - 9s 99ms/step - loss: 0.3061 - mse: 0.2982 - val_loss: 0.3182 - val_mse: 0.3103\n",
            "Epoch 31/500\n",
            "87/87 [==============================] - 9s 100ms/step - loss: 0.3038 - mse: 0.2959 - val_loss: 0.3171 - val_mse: 0.3092\n",
            "Epoch 32/500\n",
            "87/87 [==============================] - 9s 99ms/step - loss: 0.3014 - mse: 0.2935 - val_loss: 0.3168 - val_mse: 0.3089\n",
            "Epoch 33/500\n",
            "87/87 [==============================] - 9s 98ms/step - loss: 0.2985 - mse: 0.2907 - val_loss: 0.3153 - val_mse: 0.3075\n",
            "Epoch 34/500\n",
            "87/87 [==============================] - 9s 99ms/step - loss: 0.2955 - mse: 0.2876 - val_loss: 0.3146 - val_mse: 0.3068\n",
            "Epoch 35/500\n",
            "87/87 [==============================] - 9s 100ms/step - loss: 0.2927 - mse: 0.2848 - val_loss: 0.3140 - val_mse: 0.3061\n",
            "Epoch 36/500\n",
            "87/87 [==============================] - 9s 99ms/step - loss: 0.2890 - mse: 0.2811 - val_loss: 0.3136 - val_mse: 0.3057\n",
            "Epoch 37/500\n",
            "87/87 [==============================] - 9s 100ms/step - loss: 0.2851 - mse: 0.2772 - val_loss: 0.3129 - val_mse: 0.3050\n",
            "Epoch 38/500\n",
            "87/87 [==============================] - 9s 101ms/step - loss: 0.2802 - mse: 0.2723 - val_loss: 0.3117 - val_mse: 0.3038\n",
            "Epoch 39/500\n",
            "87/87 [==============================] - 9s 100ms/step - loss: 0.2755 - mse: 0.2675 - val_loss: 0.3123 - val_mse: 0.3044\n",
            "Epoch 40/500\n",
            "87/87 [==============================] - 9s 101ms/step - loss: 0.2691 - mse: 0.2611 - val_loss: 0.3116 - val_mse: 0.3036\n",
            "Epoch 41/500\n",
            "87/87 [==============================] - 9s 101ms/step - loss: 0.2606 - mse: 0.2525 - val_loss: 0.3101 - val_mse: 0.3020\n",
            "Epoch 42/500\n",
            "87/87 [==============================] - 9s 100ms/step - loss: 0.2502 - mse: 0.2421 - val_loss: 0.3072 - val_mse: 0.2990\n",
            "Epoch 43/500\n",
            "87/87 [==============================] - 9s 100ms/step - loss: 0.2371 - mse: 0.2289 - val_loss: 0.3068 - val_mse: 0.2985\n",
            "Epoch 44/500\n",
            "87/87 [==============================] - 9s 101ms/step - loss: 0.2234 - mse: 0.2150 - val_loss: 0.3093 - val_mse: 0.3009\n",
            "Epoch 45/500\n",
            "87/87 [==============================] - 9s 99ms/step - loss: 0.2090 - mse: 0.2005 - val_loss: 0.3151 - val_mse: 0.3066\n",
            "Epoch 46/500\n",
            "87/87 [==============================] - 9s 101ms/step - loss: 0.1960 - mse: 0.1875 - val_loss: 0.3161 - val_mse: 0.3075\n",
            "Epoch 47/500\n",
            "87/87 [==============================] - 9s 99ms/step - loss: 0.1843 - mse: 0.1758 - val_loss: 0.3225 - val_mse: 0.3139\n",
            "Epoch 48/500\n",
            "87/87 [==============================] - 9s 100ms/step - loss: 0.1721 - mse: 0.1635 - val_loss: 0.3243 - val_mse: 0.3157\n"
          ]
        }
      ]
    },
    {
      "cell_type": "code",
      "metadata": {
        "id": "HfCldxyOiFgu",
        "colab": {
          "base_uri": "https://localhost:8080/"
        },
        "outputId": "b93c5640-9e4f-4562-c16c-2e1ae7a0c27e"
      },
      "source": [
        "with tf.device('/GPU:0'):\n",
        "  test_loss, test_acc = model.evaluate(test_data, test_labels, verbose=1)\n",
        "\n",
        "print('Test Loss: {}'.format(test_loss))\n",
        "print('Test Accuracy: {}'.format(test_acc))"
      ],
      "execution_count": 60,
      "outputs": [
        {
          "output_type": "stream",
          "name": "stdout",
          "text": [
            "39/39 [==============================] - 1s 20ms/step - loss: 0.3358 - mse: 0.3271\n",
            "Test Loss: 0.3357532322406769\n",
            "Test Accuracy: 0.32709503173828125\n"
          ]
        }
      ]
    },
    {
      "cell_type": "code",
      "metadata": {
        "id": "BbnILg6BpUN2",
        "colab": {
          "base_uri": "https://localhost:8080/",
          "height": 388
        },
        "outputId": "9efb859b-ab7a-4b90-ae6c-c8aad6e2ce76"
      },
      "source": [
        "import matplotlib.pyplot as plt\n",
        "def plot_graphs(history, metric):\n",
        "  plt.plot(history.history[metric])\n",
        "  plt.plot(history.history['val_'+metric], '')\n",
        "  plt.xlabel(\"Epochs\")\n",
        "  plt.ylabel(metric)\n",
        "  plt.legend([metric, 'val_'+metric])\n",
        "  \n",
        "plt.figure(figsize=(16,6))\n",
        "plt.subplot(1,2,1)\n",
        "plot_graphs(history, 'mse')\n",
        "plt.subplot(1,2,2)\n",
        "plot_graphs(history, 'loss')"
      ],
      "execution_count": 61,
      "outputs": [
        {
          "output_type": "display_data",
          "data": {
            "image/png": "[encoded data removed]",
            "text/plain": [
              "<Figure size 1152x432 with 2 Axes>"
            ]
          },
          "metadata": {
            "needs_background": "light"
          }
        }
      ]
    },
    {
      "cell_type": "code",
      "metadata": {
        "colab": {
          "base_uri": "https://localhost:8080/"
        },
        "id": "S2xDZoodJBHX",
        "outputId": "cabb7199-5058-4c09-d913-dfbcfd52826e"
      },
      "source": [
        "test_predictions = model.predict(test_data)\n",
        "print(test_predictions[:10])"
      ],
      "execution_count": 62,
      "outputs": [
        {
          "output_type": "stream",
          "name": "stdout",
          "text": [
            "[[2.2009585]\n",
            " [2.3462296]\n",
            " [1.9525425]\n",
            " [2.1747491]\n",
            " [1.1803411]\n",
            " [1.8567686]\n",
            " [1.9884179]\n",
            " [2.5978642]\n",
            " [2.4513693]\n",
            " [2.1208775]]\n"
          ]
        }
      ]
    },
    {
      "cell_type": "code",
      "metadata": {
        "colab": {
          "base_uri": "https://localhost:8080/",
          "height": 283
        },
        "id": "2-kJdeypJGb_",
        "outputId": "6c398265-90a0-42fe-bf97-e7b7c4a567c3"
      },
      "source": [
        "import matplotlib.pyplot as plt\n",
        "\n",
        "a = plt.axes(aspect='equal')\n",
        "plt.scatter(test_labels, test_predictions)\n",
        "plt.xlabel('True Values [MPG]')\n",
        "plt.ylabel('Predictions [MPG]')\n",
        "lims = [0, 5]\n",
        "plt.xlim(lims)\n",
        "plt.ylim(lims)\n",
        "_ = plt.plot(lims, lims)"
      ],
      "execution_count": 63,
      "outputs": [
        {
          "output_type": "display_data",
          "data": {
            "image/png": "[encoded data removed]",
            "text/plain": [
              "<Figure size 432x288 with 1 Axes>"
            ]
          },
          "metadata": {
            "needs_background": "light"
          }
        }
      ]
    },
    {
      "cell_type": "code",
      "metadata": {
        "id": "Wgaj05IYFucI"
      },
      "source": [
        "sample_text = ('The movie was cool. The animation and the graphics '\n",
        "               'were out of this world. I would recommend this movie.')\n",
        "predictions = model.predict(np.array([sample_text]))\n",
        "print(predictions[0])"
      ],
      "execution_count": null,
      "outputs": []
    }
  ]
}