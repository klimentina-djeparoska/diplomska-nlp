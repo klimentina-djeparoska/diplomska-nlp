{
  "nbformat": 4,
  "nbformat_minor": 0,
  "metadata": {
    "colab": {
      "name": "is_humor_contraversy_simple_model_56.72%.ipynb",
      "provenance": [],
      "collapsed_sections": [],
      "machine_shape": "hm"
    },
    "kernelspec": {
      "name": "python3",
      "display_name": "Python 3"
    },
    "accelerator": "GPU"
  },
  "cells": [
    {
      "cell_type": "code",
      "metadata": {
        "id": "BmhHcKcjPapl",
        "colab": {
          "base_uri": "https://localhost:8080/"
        },
        "outputId": "b462a914-8d8e-4e76-fb2b-051604558974"
      },
      "source": [
        "# connect with google drive\n",
        "from google.colab import drive\n",
        "drive.mount('/content/drive')"
      ],
      "execution_count": 158,
      "outputs": [
        {
          "output_type": "stream",
          "name": "stdout",
          "text": [
            "Drive already mounted at /content/drive; to attempt to forcibly remount, call drive.mount(\"/content/drive\", force_remount=True).\n"
          ]
        }
      ]
    },
    {
      "cell_type": "code",
      "metadata": {
        "id": "HFiBr2XqSGD5",
        "colab": {
          "base_uri": "https://localhost:8080/"
        },
        "outputId": "e128a698-3f8f-4c60-9b01-714a7ad62324"
      },
      "source": [
        "!pip install keras\n",
        "import pandas as pd\n",
        "import numpy as np\n",
        "import random\n",
        "import nltk\n",
        "nltk.download('punkt')\n",
        "nltk.download('sentiwordnet')\n",
        "nltk.download('wordnet')\n",
        "nltk.download('stopwords')\n",
        "nltk.download('averaged_perceptron_tagger')\n",
        "from nltk.tokenize import sent_tokenize, word_tokenize\n",
        "from nltk.corpus import sentiwordnet as swn\n",
        "import string\n",
        "from tensorflow.keras.utils import to_categorical\n",
        "from keras.preprocessing.sequence import pad_sequences\n",
        "import tensorflow as tf\n"
      ],
      "execution_count": 159,
      "outputs": [
        {
          "output_type": "stream",
          "name": "stdout",
          "text": [
            "Requirement already satisfied: keras in /usr/local/lib/python3.7/dist-packages (2.6.0)\n",
            "[nltk_data] Downloading package punkt to /root/nltk_data...\n",
            "[nltk_data]   Package punkt is already up-to-date!\n",
            "[nltk_data] Downloading package sentiwordnet to /root/nltk_data...\n",
            "[nltk_data]   Package sentiwordnet is already up-to-date!\n",
            "[nltk_data] Downloading package wordnet to /root/nltk_data...\n",
            "[nltk_data]   Package wordnet is already up-to-date!\n",
            "[nltk_data] Downloading package stopwords to /root/nltk_data...\n",
            "[nltk_data]   Package stopwords is already up-to-date!\n",
            "[nltk_data] Downloading package averaged_perceptron_tagger to\n",
            "[nltk_data]     /root/nltk_data...\n",
            "[nltk_data]   Package averaged_perceptron_tagger is already up-to-\n",
            "[nltk_data]       date!\n"
          ]
        }
      ]
    },
    {
      "cell_type": "code",
      "metadata": {
        "id": "sK3CQCMCQKF_"
      },
      "source": [
        "def load_dataset():\n",
        "  column_names = [ 'id', 'text', 'is_humor', 'humor_rating', 'humor_controversy', 'offense_rating' ]\n",
        "  data_path = '/content/drive/My Drive/data-nlp-humor-offense/train.csv'\n",
        "  data_frame = pd.read_csv(data_path, names=column_names, skiprows=1, na_values=\"?\", sep=\",\", skipinitialspace=True)\n",
        "  data = data_frame.fillna(0).to_numpy()\n",
        "\n",
        "  return data, data_frame"
      ],
      "execution_count": 160,
      "outputs": []
    },
    {
      "cell_type": "code",
      "metadata": {
        "colab": {
          "base_uri": "https://localhost:8080/"
        },
        "id": "cdL8dNRjQto-",
        "outputId": "b3b91070-e702-478c-ae68-fea45ebe717f"
      },
      "source": [
        "result, df_result = load_dataset()\n",
        "print(result[:5])"
      ],
      "execution_count": 161,
      "outputs": [
        {
          "output_type": "stream",
          "name": "stdout",
          "text": [
            "[[1\n",
            "  \"TENNESSEE: We're the best state. Nobody even comes close. *Elevennessee walks into the room* TENNESSEE: Oh shit...\"\n",
            "  1 2.42 1.0 0.2]\n",
            " [2\n",
            "  'A man inserted an advertisement in the classifieds \"Wife Wanted\". The next day, he received 1000 of replies, all reading: \"You can have mine.\" Free delivery also available at your door step'\n",
            "  1 2.5 1.0 1.1]\n",
            " [3\n",
            "  'How many men does it take to open a can of beer? None. It should be open by the time she brings it to the couch.'\n",
            "  1 1.95 0.0 2.4]\n",
            " [4\n",
            "  \"Told my mom I hit 1200 Twitter followers. She pointed out how my brother owns a house and I'm wanted by several collection agencies. Oh ma!\"\n",
            "  1 2.11 1.0 0.0]\n",
            " [5\n",
            "  'Roses are dead. Love is fake. Weddings are basically funerals with cake.'\n",
            "  1 2.78 0.0 0.1]]\n"
          ]
        }
      ]
    },
    {
      "cell_type": "code",
      "metadata": {
        "colab": {
          "base_uri": "https://localhost:8080/"
        },
        "id": "IXTpvXFcfo1x",
        "outputId": "5b94468d-e4d6-4439-fa53-9ddc9a3b9484"
      },
      "source": [
        "print(df_result['is_humor'].value_counts())\n",
        "print(df_result['humor_rating'].value_counts())\n",
        "print(df_result['humor_controversy'].value_counts())\n",
        "print(df_result['offense_rating'].value_counts())"
      ],
      "execution_count": 162,
      "outputs": [
        {
          "output_type": "stream",
          "name": "stdout",
          "text": [
            "1    4932\n",
            "0    3068\n",
            "Name: is_humor, dtype: int64\n",
            "2.00    156\n",
            "2.50    125\n",
            "2.05    111\n",
            "2.60    109\n",
            "2.25    101\n",
            "       ... \n",
            "3.13      1\n",
            "0.47      1\n",
            "2.57      1\n",
            "3.74      1\n",
            "0.30      1\n",
            "Name: humor_rating, Length: 253, dtype: int64\n",
            "0.0    2467\n",
            "1.0    2465\n",
            "Name: humor_controversy, dtype: int64\n",
            "0.00    3388\n",
            "0.15     394\n",
            "0.05     387\n",
            "0.10     333\n",
            "0.20     306\n",
            "        ... \n",
            "4.85       2\n",
            "4.80       2\n",
            "4.55       2\n",
            "4.75       1\n",
            "4.45       1\n",
            "Name: offense_rating, Length: 98, dtype: int64\n"
          ]
        }
      ]
    },
    {
      "cell_type": "code",
      "metadata": {
        "id": "09Go-yTSizFd"
      },
      "source": [
        "def format_text_to_one_hot(array_of_texts):\n",
        "  vocabulary = []\n",
        "  vocabulary_map = {}\n",
        "  counter = 1\n",
        "  end_result = []\n",
        "  texts_scores = []\n",
        "\n",
        "  for text in array_of_texts:\n",
        "    \n",
        "    text_represented_with_numbers = []\n",
        "    positive_text_score = 0\n",
        "    negative_text_score = 0\n",
        "    # break the text into sentences\n",
        "    sentences = sent_tokenize(text)\n",
        "\n",
        "    for sentence in sentences:\n",
        "\n",
        "      # break the sentence into words\n",
        "      words_array = word_tokenize(sentence)\n",
        "\n",
        "      for word in words_array:\n",
        "\n",
        "        # remove punctuation\n",
        "        word = word.translate(str.maketrans('', '', string.punctuation))\n",
        "        \n",
        "        # lower case all letters \n",
        "        word = word.lower()\n",
        "\n",
        "        if word != '' and word != 's':\n",
        "          if not vocabulary.__contains__(word):\n",
        "            vocabulary.append(word)\n",
        "            vocabulary_map[word] = counter\n",
        "            counter += 1\n",
        "          \n",
        "          text_represented_with_numbers.append(vocabulary_map[word])\n",
        "\n",
        "        # add positive negative score\n",
        "\n",
        "    # add text to result array\n",
        "    end_result.append(text_represented_with_numbers)\n",
        "   # difference = positive_text_score/negative_text_score\n",
        "   # texts_scores.append(difference)\n",
        "  \n",
        "  # arrays to have same length\n",
        "  padded_seq = pad_sequences(end_result, maxlen=63, dtype='int32', padding='pre', value=0.0)\n",
        "  print(len(vocabulary))\n",
        "  return padded_seq"
      ],
      "execution_count": 163,
      "outputs": []
    },
    {
      "cell_type": "code",
      "metadata": {
        "id": "1Gy0eR2WK4gX"
      },
      "source": [
        "# n - NOUN\n",
        "#v - VERB\n",
        "#a - ADJECTIVE\n",
        "#s - ADJECTIVE SATELLITE\n",
        "#r - ADVERB\n",
        "\n",
        "from nltk.corpus import stopwords\n",
        "from nltk.stem import WordNetLemmatizer\n",
        "from nltk.corpus import wordnet as wn\n",
        "lemmatizer = WordNetLemmatizer()\n",
        "\n",
        "def penn_to_wn(tag):\n",
        "    if tag.startswith('J'):\n",
        "        return wn.ADJ\n",
        "    elif tag.startswith('N'):\n",
        "        return wn.NOUN\n",
        "    elif tag.startswith('R'):\n",
        "        return wn.ADV\n",
        "    elif tag.startswith('V'):\n",
        "        return wn.VERB\n",
        "    return None\n",
        "\n",
        "# Returns list of pos-neg and objective score. But returns empty list if not present in senti wordnet.\n",
        "def get_sentiment(word,tag):\n",
        "    wn_tag = penn_to_wn(tag)\n",
        "    \n",
        "    if wn_tag not in (wn.NOUN, wn.ADJ, wn.ADV):\n",
        "        return []\n",
        "\n",
        "    #Lemmatization\n",
        "    lemma = lemmatizer.lemmatize(word, pos=wn_tag)\n",
        "    if not lemma:\n",
        "        return []\n",
        "\n",
        "    #Synset is a special kind of a simple interface that is present in NLTK to look up words in WordNet. \n",
        "    #Synset instances are the groupings of synonymous words that express the same concept. \n",
        "    #Some of the words have only one Synset and some have several.\n",
        "    synsets = wn.synsets(word, pos=wn_tag)\n",
        "    if not synsets:\n",
        "        return []\n",
        "\n",
        "    # Take the first sense, the most common\n",
        "    synset = synsets[0]\n",
        "    swn_synset = swn.senti_synset(synset.name())\n",
        "\n",
        "    return [synset.name(), swn_synset.pos_score(),swn_synset.neg_score(),swn_synset.obj_score()]\n",
        "\n",
        "    pos=neg=obj=count=0\n",
        "    \n",
        "\n",
        "def getPostTags(array_of_texts):\n",
        "  vocabulary = []\n",
        "  vocabulary_map = {}\n",
        "  counter = 1\n",
        "  end_result = []\n",
        "  texts_scores = []\n",
        "  postagging = []\n",
        "\n",
        "  for text in array_of_texts:\n",
        "    \n",
        "    text_represented_with_numbers = []\n",
        "    positive_text_score = 0\n",
        "    negative_text_score = 0\n",
        "    # break the text into sentences\n",
        "    sentences = sent_tokenize(text)\n",
        "    posttagging_sentences = []\n",
        "    for sentence in sentences:\n",
        "\n",
        "      # break the sentence into words\n",
        "      words_array = word_tokenize(sentence)\n",
        "      stop_words = set(stopwords.words('english'))\n",
        "      filtered_sentence = [w for w in words_array if not w in stop_words] \n",
        "\n",
        "      # remove punctuation\n",
        "      word_tokens2 = [w for w in filtered_sentence if not w in string.punctuation]\n",
        "      # lower case all letters \n",
        "      lower_case_sentance = map(lambda w: w.lower(), word_tokens2)\n",
        "      #lemmatization\n",
        "      lemmatized_output = [lemmatizer.lemmatize(w) for w in word_tokens2]\n",
        "        \n",
        "      # Remove characters which have length less than 2  \n",
        "      without_single_chr = [word for word in lemmatized_output if len(word) > 2]\n",
        "      # Remove numbers\n",
        "      cleaned_data = [word for word in without_single_chr if not word.isnumeric()]\n",
        "      \n",
        "      posttagging_sentences.append(nltk.pos_tag(cleaned_data))\n",
        "    \n",
        "    postagging.append(posttagging_sentences)\n",
        "  return postagging\n",
        "\n",
        "    ###################################################################################\n",
        "\n"
      ],
      "execution_count": 164,
      "outputs": []
    },
    {
      "cell_type": "code",
      "metadata": {
        "id": "R2aHzQdWn9aM"
      },
      "source": [
        "# value = [\"Something, this is an example. One!\", \"This is two!! Really, that's exactly what i though.\"]\n",
        "# format_text_to_one_hot(value)"
      ],
      "execution_count": 165,
      "outputs": []
    },
    {
      "cell_type": "code",
      "metadata": {
        "id": "6U-OqRxCqIe5",
        "colab": {
          "base_uri": "https://localhost:8080/"
        },
        "outputId": "b80258a1-9494-47db-e5cc-a3a05ab1e9c8"
      },
      "source": [
        "texts = df_result['text']\n",
        "values = df_result['is_humor']\n",
        "np.save('/tmp/values', values)\n",
        "print(len(texts))\n",
        "with tf.device('/GPU:0'):\n",
        "  formatted_texts = format_text_to_one_hot(texts)\n",
        "np.save('/tmp/formatted_texts', formatted_texts)\n",
        "print(len(formatted_texts))"
      ],
      "execution_count": 166,
      "outputs": [
        {
          "output_type": "stream",
          "name": "stdout",
          "text": [
            "8000\n",
            "15050\n",
            "8000\n"
          ]
        }
      ]
    },
    {
      "cell_type": "code",
      "metadata": {
        "colab": {
          "base_uri": "https://localhost:8080/"
        },
        "id": "ObxWn1kpgigB",
        "outputId": "8c54fe8c-fe5d-46c4-8e77-8b81026beab9"
      },
      "source": [
        "senti_score = []\n",
        "pos=neg=obj=count=0\n",
        "with tf.device('/GPU:0'):\n",
        "  posttagging = getPostTags(texts)\n",
        "print(posttagging[:5])\n",
        "count1 = 1\n",
        "for text in posttagging:\n",
        "  senti_scores_text = 0\n",
        "  for sentence in text:\n",
        "    \n",
        "    senti_val = [get_sentiment(x,y) for (x,y) in sentence]\n",
        "    for score in senti_val:\n",
        "      try:\n",
        "        pos = pos + score[1]  #positive score is stored at 2nd position\n",
        "        neg = neg + score[2]  #negative score is stored at 3rd position\n",
        "      except:\n",
        "        continue\n",
        "    result_score = pos - neg\n",
        "    senti_scores_text += result_score \n",
        "    pos=neg=0 \n",
        "  senti_score.append(senti_scores_text)\n",
        "\n",
        "print(senti_score[:2])"
      ],
      "execution_count": 167,
      "outputs": [
        {
          "output_type": "stream",
          "name": "stdout",
          "text": [
            "[[[('TENNESSEE', 'NNP'), (\"'re\", 'VBP'), ('best', 'JJS'), ('state', 'NN')], [('Nobody', 'NN'), ('even', 'RB'), ('come', 'VBP'), ('close', 'RB')], [('*Elevennessee', 'NN'), ('walk', 'NN'), ('room*', 'NN'), ('TENNESSEE', 'NNP'), ('shit', 'NN'), ('...', ':')]], [[('man', 'NN'), ('inserted', 'VBD'), ('advertisement', 'JJ'), ('classified', 'JJ'), ('Wife', 'NNP'), ('Wanted', 'VBD')], [('The', 'DT'), ('next', 'JJ'), ('day', 'NN'), ('received', 'VBD'), ('reply', 'RB'), ('reading', 'VBG'), ('You', 'PRP'), ('mine', 'VBP')], [('Free', 'JJ'), ('delivery', 'NN'), ('also', 'RB'), ('available', 'JJ'), ('door', 'JJ'), ('step', 'NN')]], [[('How', 'WRB'), ('many', 'JJ'), ('men', 'NNS'), ('take', 'VBP'), ('open', 'JJ'), ('beer', 'NN')], [('None', 'NN')], [('open', 'JJ'), ('time', 'NN'), ('brings', 'VBZ'), ('couch', 'JJ')]], [[('Told', 'NNP'), ('mom', 'NN'), ('hit', 'VBD'), ('Twitter', 'NNP'), ('follower', 'NN')], [('She', 'PRP'), ('pointed', 'VBD'), ('brother', 'RB'), ('owns', 'VBZ'), ('house', 'NN'), ('wanted', 'VBD'), ('several', 'JJ'), ('collection', 'NN'), ('agency', 'NN')], []], [[('Roses', 'NNS'), ('dead', 'VBP')], [('Love', 'NNP'), ('fake', 'NN')], [('Weddings', 'NNS'), ('basically', 'RB'), ('funeral', 'JJ'), ('cake', 'NN')]]]\n",
            "[0.625, 0.75]\n"
          ]
        }
      ]
    },
    {
      "cell_type": "code",
      "metadata": {
        "id": "w_VGRgqdRtZF",
        "colab": {
          "base_uri": "https://localhost:8080/"
        },
        "outputId": "9a376a4b-055f-4258-87f4-52a9fd29863f"
      },
      "source": [
        "texts, labels = [], []\n",
        "\n",
        "for i in range(0, len(df_result['is_humor'])):\n",
        "  if df_result['is_humor'][i] == 1:\n",
        "    list1 = np.append(formatted_texts[i], senti_score[i])\n",
        "    list = np.append(list1, df_result['humor_rating'][i])\n",
        "    texts.append(list)\n",
        "    labels.append(df_result['humor_controversy'][i])\n",
        "\n",
        "total_data = { 'yes': [], 'no': [] }\n",
        "\n",
        "for i in range(0, len(labels)):\n",
        "  if labels[i] == 1:\n",
        "    # humor_controversy = 1\n",
        "    one = {\n",
        "        'text': texts[i],\n",
        "        'label': labels[i]\n",
        "    }\n",
        "    total_data.get('yes').append(one)\n",
        "  else:\n",
        "    one = {\n",
        "        'text': texts[i],\n",
        "        'label': labels[i]\n",
        "    }\n",
        "    total_data.get('no').append(one)\n",
        "\n",
        "train_yes = int(0.75 * len(total_data.get('yes')))\n",
        "train_no = int(0.75 * len(total_data.get('no')))\n",
        "\n",
        "train_data_temp = np.concatenate((total_data.get('yes')[:train_yes], total_data.get('no')[:train_no]))\n",
        "test_data_temp = np.concatenate((total_data.get('yes')[train_yes:], total_data.get('no')[train_no:]))\n",
        "\n",
        "train_keys = np.arange(len(train_data_temp))\n",
        "test_keys = np.arange(len(test_data_temp))\n",
        "\n",
        "random.shuffle(train_keys)\n",
        "random.shuffle(test_keys)\n",
        "\n",
        "train_data, train_labels = [], []\n",
        "test_data, test_labels = [], []\n",
        "\n",
        "\n",
        "for key in train_keys:\n",
        "  train_data.append(train_data_temp[key].get('text'))\n",
        "  train_labels.append(train_data_temp[key].get('label'))\n",
        "\n",
        "for key in test_keys:\n",
        "  test_data.append(test_data_temp[key].get('text'))\n",
        "  test_labels.append(test_data_temp[key].get('label'))\n",
        "\n",
        "\n",
        "train_data = np.asarray(train_data)\n",
        "train_labels = np.asarray(train_labels)\n",
        "test_data = np.asarray(test_data)\n",
        "test_labels = np.asarray(test_labels)\n",
        "print(test_data[0])"
      ],
      "execution_count": 251,
      "outputs": [
        {
          "output_type": "stream",
          "name": "stdout",
          "text": [
            "[0.0000e+00 0.0000e+00 0.0000e+00 0.0000e+00 0.0000e+00 0.0000e+00\n",
            " 0.0000e+00 0.0000e+00 0.0000e+00 0.0000e+00 0.0000e+00 0.0000e+00\n",
            " 0.0000e+00 0.0000e+00 0.0000e+00 0.0000e+00 0.0000e+00 0.0000e+00\n",
            " 0.0000e+00 0.0000e+00 0.0000e+00 0.0000e+00 0.0000e+00 0.0000e+00\n",
            " 0.0000e+00 0.0000e+00 0.0000e+00 0.0000e+00 0.0000e+00 0.0000e+00\n",
            " 0.0000e+00 0.0000e+00 0.0000e+00 0.0000e+00 0.0000e+00 0.0000e+00\n",
            " 0.0000e+00 0.0000e+00 0.0000e+00 0.0000e+00 0.0000e+00 0.0000e+00\n",
            " 0.0000e+00 0.0000e+00 0.0000e+00 0.0000e+00 0.0000e+00 2.8200e+02\n",
            " 4.8040e+03 3.1000e+01 4.0000e+00 1.5170e+03 8.3000e+02 4.1670e+03\n",
            " 1.4520e+03 1.4180e+04 1.4181e+04 4.6730e+03 1.4182e+04 1.4183e+04\n",
            " 6.9100e+02 5.8370e+03 1.4184e+04 0.0000e+00 2.5600e+00]\n"
          ]
        }
      ]
    },
    {
      "cell_type": "code",
      "metadata": {
        "colab": {
          "base_uri": "https://localhost:8080/"
        },
        "id": "z8qi8eHivGOs",
        "outputId": "bee9a18d-18df-4fe1-be81-a186bfbc5c1d"
      },
      "source": [
        "example = {'text': 'example'}\n",
        "print(example.get('text'))"
      ],
      "execution_count": 169,
      "outputs": [
        {
          "output_type": "stream",
          "name": "stdout",
          "text": [
            "example\n"
          ]
        }
      ]
    },
    {
      "cell_type": "code",
      "metadata": {
        "id": "t39mozsxUyr5"
      },
      "source": [
        "#print(len(train_data))\n",
        "#print(len(test_data))\n",
        "np.save('/tmp/train_data', train_data)\n",
        "np.save('/tmp/train_labels', train_labels)\n",
        "np.save('/tmp/test_data', test_data)\n",
        "np.save('/tmp/test_labels', test_labels)"
      ],
      "execution_count": 242,
      "outputs": []
    },
    {
      "cell_type": "code",
      "metadata": {
        "id": "CmQFMPvEbSmK"
      },
      "source": [
        "# 0.0    2467, 1.0    2465\n",
        "output_bias = np.log([len(total_data.get('yes'))/len(total_data.get('no'))])\n",
        "init = tf.constant_initializer(output_bias)\n",
        "\n",
        "model = tf.keras.Sequential([\n",
        "    tf.keras.layers.Embedding(len(train_data) + 1, 16),\n",
        "    #tf.keras.layers.Dropout(0.1),\n",
        "    tf.keras.layers.GlobalAveragePooling1D(),\n",
        "    tf.keras.layers.Dense(32, activation='relu'),\n",
        "    tf.keras.layers.Dropout(0.1),\n",
        "    tf.keras.layers.Dense(1)\n",
        "    #tf.keras.layers.Dense(64, activation='relu', kernel_regularizer=tf.keras.regularizers.l2(0.0001)),\n",
        "    #tf.keras.layers.Dense(16, activation='relu'),\n",
        "    #tf.keras.layers.Dropout(0.1),\n",
        "    #tf.keras.layers.Dense(1, activation='sigmoid')\n",
        "])\n",
        "callback = tf.keras.callbacks.EarlyStopping(monitor='val_loss', patience=5, mode='auto')"
      ],
      "execution_count": 274,
      "outputs": []
    },
    {
      "cell_type": "code",
      "metadata": {
        "id": "5TF-iXoKZito"
      },
      "source": [
        "model.compile(loss=tf.keras.losses.BinaryCrossentropy(from_logits=False),\n",
        "              optimizer=tf.keras.optimizers.Adam(0.00005),\n",
        "              metrics=['accuracy'])"
      ],
      "execution_count": 275,
      "outputs": []
    },
    {
      "cell_type": "code",
      "metadata": {
        "colab": {
          "base_uri": "https://localhost:8080/"
        },
        "id": "rKaecWqKZp3S",
        "outputId": "0bf2b300-2711-4519-a947-7d956c0229bd"
      },
      "source": [
        "print(train_data[0])\n",
        "x_data = train_data\n",
        "x_data.astype(float)\n",
        "y_data = train_labels\n",
        "y_data.astype(float)\n",
        "\n",
        "with tf.device('/GPU:0'):\n",
        "  history = model.fit(x_data, y_data, epochs=1000, validation_split=0.3, verbose=1, callbacks=callback)"
      ],
      "execution_count": 276,
      "outputs": [
        {
          "output_type": "stream",
          "name": "stdout",
          "text": [
            "[0.000e+00 0.000e+00 0.000e+00 0.000e+00 0.000e+00 0.000e+00 0.000e+00\n",
            " 0.000e+00 0.000e+00 0.000e+00 0.000e+00 0.000e+00 0.000e+00 0.000e+00\n",
            " 0.000e+00 0.000e+00 0.000e+00 0.000e+00 0.000e+00 0.000e+00 0.000e+00\n",
            " 0.000e+00 0.000e+00 0.000e+00 0.000e+00 0.000e+00 0.000e+00 0.000e+00\n",
            " 0.000e+00 0.000e+00 0.000e+00 0.000e+00 0.000e+00 0.000e+00 0.000e+00\n",
            " 0.000e+00 0.000e+00 0.000e+00 0.000e+00 0.000e+00 0.000e+00 0.000e+00\n",
            " 0.000e+00 0.000e+00 0.000e+00 0.000e+00 0.000e+00 0.000e+00 0.000e+00\n",
            " 0.000e+00 0.000e+00 0.000e+00 0.000e+00 0.000e+00 0.000e+00 0.000e+00\n",
            " 0.000e+00 4.700e+01 2.250e+02 1.504e+03 9.469e+03 2.253e+03 1.514e+03\n",
            " 0.000e+00 1.890e+00]\n",
            "Epoch 1/1000\n",
            "81/81 [==============================] - 1s 8ms/step - loss: 1.8869 - accuracy: 0.5023 - val_loss: 1.6944 - val_accuracy: 0.4955\n",
            "Epoch 2/1000\n",
            "81/81 [==============================] - 1s 8ms/step - loss: 1.5730 - accuracy: 0.5023 - val_loss: 1.5048 - val_accuracy: 0.4955\n",
            "Epoch 3/1000\n",
            "81/81 [==============================] - 0s 6ms/step - loss: 1.4304 - accuracy: 0.5023 - val_loss: 1.3898 - val_accuracy: 0.4955\n",
            "Epoch 4/1000\n",
            "81/81 [==============================] - 1s 7ms/step - loss: 1.3334 - accuracy: 0.5023 - val_loss: 1.3041 - val_accuracy: 0.4955\n",
            "Epoch 5/1000\n",
            "81/81 [==============================] - 1s 7ms/step - loss: 1.2543 - accuracy: 0.5023 - val_loss: 1.2342 - val_accuracy: 0.4955\n",
            "Epoch 6/1000\n",
            "81/81 [==============================] - 0s 6ms/step - loss: 1.1912 - accuracy: 0.5023 - val_loss: 1.1582 - val_accuracy: 0.4955\n",
            "Epoch 7/1000\n",
            "81/81 [==============================] - 0s 6ms/step - loss: 1.1120 - accuracy: 0.5023 - val_loss: 1.0901 - val_accuracy: 0.4955\n",
            "Epoch 8/1000\n",
            "81/81 [==============================] - 0s 6ms/step - loss: 1.0539 - accuracy: 0.5023 - val_loss: 1.0373 - val_accuracy: 0.4955\n",
            "Epoch 9/1000\n",
            "81/81 [==============================] - 1s 7ms/step - loss: 1.0049 - accuracy: 0.5023 - val_loss: 0.9934 - val_accuracy: 0.4955\n",
            "Epoch 10/1000\n",
            "81/81 [==============================] - 0s 6ms/step - loss: 0.9637 - accuracy: 0.5023 - val_loss: 0.9555 - val_accuracy: 0.4955\n",
            "Epoch 11/1000\n",
            "81/81 [==============================] - 1s 8ms/step - loss: 0.9292 - accuracy: 0.5023 - val_loss: 0.9218 - val_accuracy: 0.4955\n",
            "Epoch 12/1000\n",
            "81/81 [==============================] - 0s 6ms/step - loss: 0.8960 - accuracy: 0.5023 - val_loss: 0.8918 - val_accuracy: 0.4955\n",
            "Epoch 13/1000\n",
            "81/81 [==============================] - 1s 7ms/step - loss: 0.8696 - accuracy: 0.5023 - val_loss: 0.8648 - val_accuracy: 0.4955\n",
            "Epoch 14/1000\n",
            "81/81 [==============================] - 1s 7ms/step - loss: 0.8444 - accuracy: 0.5023 - val_loss: 0.8415 - val_accuracy: 0.4955\n",
            "Epoch 15/1000\n",
            "81/81 [==============================] - 1s 7ms/step - loss: 0.8248 - accuracy: 0.5023 - val_loss: 0.8200 - val_accuracy: 0.4955\n",
            "Epoch 16/1000\n",
            "81/81 [==============================] - 1s 8ms/step - loss: 0.8088 - accuracy: 0.5023 - val_loss: 0.8012 - val_accuracy: 0.4955\n",
            "Epoch 17/1000\n",
            "81/81 [==============================] - 1s 6ms/step - loss: 0.7879 - accuracy: 0.5023 - val_loss: 0.7845 - val_accuracy: 0.4955\n",
            "Epoch 18/1000\n",
            "81/81 [==============================] - 1s 7ms/step - loss: 0.7720 - accuracy: 0.5023 - val_loss: 0.7696 - val_accuracy: 0.4955\n",
            "Epoch 19/1000\n",
            "81/81 [==============================] - 1s 7ms/step - loss: 0.7571 - accuracy: 0.5023 - val_loss: 0.7563 - val_accuracy: 0.4955\n",
            "Epoch 20/1000\n",
            "81/81 [==============================] - 0s 6ms/step - loss: 0.7479 - accuracy: 0.5023 - val_loss: 0.7453 - val_accuracy: 0.4955\n",
            "Epoch 21/1000\n",
            "81/81 [==============================] - 0s 6ms/step - loss: 0.7374 - accuracy: 0.5023 - val_loss: 0.7360 - val_accuracy: 0.4955\n",
            "Epoch 22/1000\n",
            "81/81 [==============================] - 0s 6ms/step - loss: 0.7294 - accuracy: 0.5023 - val_loss: 0.7280 - val_accuracy: 0.4955\n",
            "Epoch 23/1000\n",
            "81/81 [==============================] - 1s 7ms/step - loss: 0.7200 - accuracy: 0.5023 - val_loss: 0.7214 - val_accuracy: 0.4955\n",
            "Epoch 24/1000\n",
            "81/81 [==============================] - 0s 6ms/step - loss: 0.7142 - accuracy: 0.5019 - val_loss: 0.7155 - val_accuracy: 0.4955\n",
            "Epoch 25/1000\n",
            "81/81 [==============================] - 0s 6ms/step - loss: 0.7070 - accuracy: 0.5008 - val_loss: 0.7112 - val_accuracy: 0.4955\n",
            "Epoch 26/1000\n",
            "81/81 [==============================] - 1s 7ms/step - loss: 0.7077 - accuracy: 0.5035 - val_loss: 0.7076 - val_accuracy: 0.4955\n",
            "Epoch 27/1000\n",
            "81/81 [==============================] - 0s 6ms/step - loss: 0.7041 - accuracy: 0.5077 - val_loss: 0.7049 - val_accuracy: 0.4955\n",
            "Epoch 28/1000\n",
            "81/81 [==============================] - 1s 7ms/step - loss: 0.7020 - accuracy: 0.5128 - val_loss: 0.7027 - val_accuracy: 0.4946\n",
            "Epoch 29/1000\n",
            "81/81 [==============================] - 0s 6ms/step - loss: 0.7016 - accuracy: 0.5050 - val_loss: 0.7010 - val_accuracy: 0.4919\n",
            "Epoch 30/1000\n",
            "81/81 [==============================] - 1s 7ms/step - loss: 0.6981 - accuracy: 0.5147 - val_loss: 0.7000 - val_accuracy: 0.4982\n",
            "Epoch 31/1000\n",
            "81/81 [==============================] - 1s 6ms/step - loss: 0.6988 - accuracy: 0.5023 - val_loss: 0.6989 - val_accuracy: 0.4865\n",
            "Epoch 32/1000\n",
            "81/81 [==============================] - 1s 6ms/step - loss: 0.6963 - accuracy: 0.5205 - val_loss: 0.6984 - val_accuracy: 0.4820\n",
            "Epoch 33/1000\n",
            "81/81 [==============================] - 1s 6ms/step - loss: 0.6964 - accuracy: 0.5243 - val_loss: 0.6979 - val_accuracy: 0.4694\n",
            "Epoch 34/1000\n",
            "81/81 [==============================] - 0s 6ms/step - loss: 0.6960 - accuracy: 0.5112 - val_loss: 0.6975 - val_accuracy: 0.4856\n",
            "Epoch 35/1000\n",
            "81/81 [==============================] - 0s 6ms/step - loss: 0.6930 - accuracy: 0.5294 - val_loss: 0.6973 - val_accuracy: 0.5018\n",
            "Epoch 36/1000\n",
            "81/81 [==============================] - 0s 6ms/step - loss: 0.6942 - accuracy: 0.5189 - val_loss: 0.6970 - val_accuracy: 0.4955\n",
            "Epoch 37/1000\n",
            "81/81 [==============================] - 1s 7ms/step - loss: 0.6939 - accuracy: 0.5240 - val_loss: 0.6968 - val_accuracy: 0.4955\n",
            "Epoch 38/1000\n",
            "81/81 [==============================] - 1s 7ms/step - loss: 0.6938 - accuracy: 0.5278 - val_loss: 0.6967 - val_accuracy: 0.4964\n",
            "Epoch 39/1000\n",
            "81/81 [==============================] - 1s 7ms/step - loss: 0.6930 - accuracy: 0.5178 - val_loss: 0.6966 - val_accuracy: 0.4964\n",
            "Epoch 40/1000\n",
            "81/81 [==============================] - 1s 8ms/step - loss: 0.6910 - accuracy: 0.5328 - val_loss: 0.6965 - val_accuracy: 0.4964\n",
            "Epoch 41/1000\n",
            "81/81 [==============================] - 1s 7ms/step - loss: 0.6943 - accuracy: 0.5166 - val_loss: 0.6964 - val_accuracy: 0.4901\n",
            "Epoch 42/1000\n",
            "81/81 [==============================] - 1s 6ms/step - loss: 0.6941 - accuracy: 0.5278 - val_loss: 0.6963 - val_accuracy: 0.4991\n",
            "Epoch 43/1000\n",
            "81/81 [==============================] - 1s 7ms/step - loss: 0.6901 - accuracy: 0.5371 - val_loss: 0.6962 - val_accuracy: 0.5036\n",
            "Epoch 44/1000\n",
            "81/81 [==============================] - 1s 8ms/step - loss: 0.6898 - accuracy: 0.5301 - val_loss: 0.6961 - val_accuracy: 0.5072\n",
            "Epoch 45/1000\n",
            "81/81 [==============================] - 1s 7ms/step - loss: 0.6923 - accuracy: 0.5213 - val_loss: 0.6960 - val_accuracy: 0.5045\n",
            "Epoch 46/1000\n",
            "81/81 [==============================] - 1s 7ms/step - loss: 0.6939 - accuracy: 0.5209 - val_loss: 0.6960 - val_accuracy: 0.5027\n",
            "Epoch 47/1000\n",
            "81/81 [==============================] - 1s 6ms/step - loss: 0.6906 - accuracy: 0.5309 - val_loss: 0.6959 - val_accuracy: 0.5054\n",
            "Epoch 48/1000\n",
            "81/81 [==============================] - 1s 7ms/step - loss: 0.6909 - accuracy: 0.5398 - val_loss: 0.6958 - val_accuracy: 0.5081\n",
            "Epoch 49/1000\n",
            "81/81 [==============================] - 0s 6ms/step - loss: 0.6910 - accuracy: 0.5309 - val_loss: 0.6958 - val_accuracy: 0.5045\n",
            "Epoch 50/1000\n",
            "81/81 [==============================] - 1s 7ms/step - loss: 0.6877 - accuracy: 0.5390 - val_loss: 0.6957 - val_accuracy: 0.5090\n",
            "Epoch 51/1000\n",
            "81/81 [==============================] - 0s 6ms/step - loss: 0.6840 - accuracy: 0.5634 - val_loss: 0.6956 - val_accuracy: 0.5072\n",
            "Epoch 52/1000\n",
            "81/81 [==============================] - 1s 7ms/step - loss: 0.6895 - accuracy: 0.5375 - val_loss: 0.6955 - val_accuracy: 0.5099\n",
            "Epoch 53/1000\n",
            "81/81 [==============================] - 0s 6ms/step - loss: 0.6911 - accuracy: 0.5336 - val_loss: 0.6955 - val_accuracy: 0.5099\n",
            "Epoch 54/1000\n",
            "81/81 [==============================] - 1s 7ms/step - loss: 0.6843 - accuracy: 0.5533 - val_loss: 0.6954 - val_accuracy: 0.5099\n",
            "Epoch 55/1000\n",
            "81/81 [==============================] - 1s 6ms/step - loss: 0.6876 - accuracy: 0.5421 - val_loss: 0.6953 - val_accuracy: 0.5072\n",
            "Epoch 56/1000\n",
            "81/81 [==============================] - 1s 7ms/step - loss: 0.6885 - accuracy: 0.5336 - val_loss: 0.6953 - val_accuracy: 0.5072\n",
            "Epoch 57/1000\n",
            "81/81 [==============================] - 1s 7ms/step - loss: 0.6870 - accuracy: 0.5502 - val_loss: 0.6952 - val_accuracy: 0.5063\n",
            "Epoch 58/1000\n",
            "81/81 [==============================] - 1s 7ms/step - loss: 0.6860 - accuracy: 0.5506 - val_loss: 0.6951 - val_accuracy: 0.5090\n",
            "Epoch 59/1000\n",
            "81/81 [==============================] - 1s 7ms/step - loss: 0.6857 - accuracy: 0.5475 - val_loss: 0.6951 - val_accuracy: 0.5117\n",
            "Epoch 60/1000\n",
            "81/81 [==============================] - 1s 6ms/step - loss: 0.6838 - accuracy: 0.5498 - val_loss: 0.6950 - val_accuracy: 0.5108\n",
            "Epoch 61/1000\n",
            "81/81 [==============================] - 1s 7ms/step - loss: 0.6856 - accuracy: 0.5456 - val_loss: 0.6949 - val_accuracy: 0.5063\n",
            "Epoch 62/1000\n",
            "81/81 [==============================] - 1s 7ms/step - loss: 0.6827 - accuracy: 0.5572 - val_loss: 0.6948 - val_accuracy: 0.5135\n",
            "Epoch 63/1000\n",
            "81/81 [==============================] - 1s 6ms/step - loss: 0.6825 - accuracy: 0.5591 - val_loss: 0.6948 - val_accuracy: 0.5135\n",
            "Epoch 64/1000\n",
            "81/81 [==============================] - 1s 6ms/step - loss: 0.6841 - accuracy: 0.5549 - val_loss: 0.6948 - val_accuracy: 0.5054\n",
            "Epoch 65/1000\n",
            "81/81 [==============================] - 1s 7ms/step - loss: 0.6857 - accuracy: 0.5406 - val_loss: 0.6947 - val_accuracy: 0.5090\n",
            "Epoch 66/1000\n",
            "81/81 [==============================] - 1s 6ms/step - loss: 0.6810 - accuracy: 0.5672 - val_loss: 0.6947 - val_accuracy: 0.5099\n",
            "Epoch 67/1000\n",
            "81/81 [==============================] - 1s 7ms/step - loss: 0.6838 - accuracy: 0.5537 - val_loss: 0.6946 - val_accuracy: 0.5099\n",
            "Epoch 68/1000\n",
            "81/81 [==============================] - 1s 6ms/step - loss: 0.6858 - accuracy: 0.5498 - val_loss: 0.6946 - val_accuracy: 0.5045\n",
            "Epoch 69/1000\n",
            "81/81 [==============================] - 1s 7ms/step - loss: 0.6808 - accuracy: 0.5680 - val_loss: 0.6944 - val_accuracy: 0.5135\n",
            "Epoch 70/1000\n",
            "81/81 [==============================] - 1s 8ms/step - loss: 0.6862 - accuracy: 0.5475 - val_loss: 0.6944 - val_accuracy: 0.5126\n",
            "Epoch 71/1000\n",
            "81/81 [==============================] - 1s 6ms/step - loss: 0.6807 - accuracy: 0.5526 - val_loss: 0.6943 - val_accuracy: 0.5126\n",
            "Epoch 72/1000\n",
            "81/81 [==============================] - 0s 6ms/step - loss: 0.6795 - accuracy: 0.5723 - val_loss: 0.6941 - val_accuracy: 0.5099\n",
            "Epoch 73/1000\n",
            "81/81 [==============================] - 1s 8ms/step - loss: 0.6745 - accuracy: 0.5819 - val_loss: 0.6941 - val_accuracy: 0.5099\n",
            "Epoch 74/1000\n",
            "81/81 [==============================] - 1s 7ms/step - loss: 0.6743 - accuracy: 0.5900 - val_loss: 0.6939 - val_accuracy: 0.5180\n",
            "Epoch 75/1000\n",
            "81/81 [==============================] - 1s 7ms/step - loss: 0.6804 - accuracy: 0.5653 - val_loss: 0.6939 - val_accuracy: 0.5063\n",
            "Epoch 76/1000\n",
            "81/81 [==============================] - 1s 8ms/step - loss: 0.6732 - accuracy: 0.5923 - val_loss: 0.6938 - val_accuracy: 0.5126\n",
            "Epoch 77/1000\n",
            "81/81 [==============================] - 1s 7ms/step - loss: 0.6741 - accuracy: 0.5912 - val_loss: 0.6938 - val_accuracy: 0.5135\n",
            "Epoch 78/1000\n",
            "81/81 [==============================] - 1s 6ms/step - loss: 0.6738 - accuracy: 0.5877 - val_loss: 0.6937 - val_accuracy: 0.5144\n",
            "Epoch 79/1000\n",
            "81/81 [==============================] - 1s 6ms/step - loss: 0.6725 - accuracy: 0.5931 - val_loss: 0.6935 - val_accuracy: 0.5162\n",
            "Epoch 80/1000\n",
            "81/81 [==============================] - 1s 8ms/step - loss: 0.6723 - accuracy: 0.5908 - val_loss: 0.6936 - val_accuracy: 0.5171\n",
            "Epoch 81/1000\n",
            "81/81 [==============================] - 1s 6ms/step - loss: 0.6737 - accuracy: 0.5900 - val_loss: 0.6934 - val_accuracy: 0.5189\n",
            "Epoch 82/1000\n",
            "81/81 [==============================] - 0s 6ms/step - loss: 0.6702 - accuracy: 0.6055 - val_loss: 0.6934 - val_accuracy: 0.5189\n",
            "Epoch 83/1000\n",
            "81/81 [==============================] - 1s 6ms/step - loss: 0.6731 - accuracy: 0.5997 - val_loss: 0.6933 - val_accuracy: 0.5180\n",
            "Epoch 84/1000\n",
            "81/81 [==============================] - 1s 7ms/step - loss: 0.6692 - accuracy: 0.6105 - val_loss: 0.6932 - val_accuracy: 0.5207\n",
            "Epoch 85/1000\n",
            "81/81 [==============================] - 1s 8ms/step - loss: 0.6699 - accuracy: 0.6047 - val_loss: 0.6931 - val_accuracy: 0.5216\n",
            "Epoch 86/1000\n",
            "81/81 [==============================] - 0s 6ms/step - loss: 0.6657 - accuracy: 0.6113 - val_loss: 0.6930 - val_accuracy: 0.5279\n",
            "Epoch 87/1000\n",
            "81/81 [==============================] - 1s 6ms/step - loss: 0.6644 - accuracy: 0.6252 - val_loss: 0.6929 - val_accuracy: 0.5270\n",
            "Epoch 88/1000\n",
            "81/81 [==============================] - 1s 7ms/step - loss: 0.6642 - accuracy: 0.6159 - val_loss: 0.6929 - val_accuracy: 0.5270\n",
            "Epoch 89/1000\n",
            "81/81 [==============================] - 1s 6ms/step - loss: 0.6683 - accuracy: 0.6066 - val_loss: 0.6928 - val_accuracy: 0.5306\n",
            "Epoch 90/1000\n",
            "81/81 [==============================] - 1s 6ms/step - loss: 0.6659 - accuracy: 0.6124 - val_loss: 0.6927 - val_accuracy: 0.5297\n",
            "Epoch 91/1000\n",
            "81/81 [==============================] - 1s 7ms/step - loss: 0.6657 - accuracy: 0.6124 - val_loss: 0.6927 - val_accuracy: 0.5315\n",
            "Epoch 92/1000\n",
            "81/81 [==============================] - 1s 8ms/step - loss: 0.6631 - accuracy: 0.6190 - val_loss: 0.6926 - val_accuracy: 0.5324\n",
            "Epoch 93/1000\n",
            "81/81 [==============================] - 1s 7ms/step - loss: 0.6606 - accuracy: 0.6294 - val_loss: 0.6926 - val_accuracy: 0.5342\n",
            "Epoch 94/1000\n",
            "81/81 [==============================] - 1s 6ms/step - loss: 0.6617 - accuracy: 0.6283 - val_loss: 0.6925 - val_accuracy: 0.5369\n",
            "Epoch 95/1000\n",
            "81/81 [==============================] - 1s 6ms/step - loss: 0.6596 - accuracy: 0.6414 - val_loss: 0.6924 - val_accuracy: 0.5378\n",
            "Epoch 96/1000\n",
            "81/81 [==============================] - 1s 6ms/step - loss: 0.6587 - accuracy: 0.6379 - val_loss: 0.6926 - val_accuracy: 0.5378\n",
            "Epoch 97/1000\n",
            "81/81 [==============================] - 1s 6ms/step - loss: 0.6566 - accuracy: 0.6321 - val_loss: 0.6924 - val_accuracy: 0.5333\n",
            "Epoch 98/1000\n",
            "81/81 [==============================] - 1s 6ms/step - loss: 0.6560 - accuracy: 0.6387 - val_loss: 0.6924 - val_accuracy: 0.5360\n",
            "Epoch 99/1000\n",
            "81/81 [==============================] - 1s 7ms/step - loss: 0.6536 - accuracy: 0.6468 - val_loss: 0.6923 - val_accuracy: 0.5360\n",
            "Epoch 100/1000\n",
            "81/81 [==============================] - 0s 6ms/step - loss: 0.6548 - accuracy: 0.6503 - val_loss: 0.6923 - val_accuracy: 0.5369\n",
            "Epoch 101/1000\n",
            "81/81 [==============================] - 1s 7ms/step - loss: 0.6529 - accuracy: 0.6503 - val_loss: 0.6924 - val_accuracy: 0.5387\n",
            "Epoch 102/1000\n",
            "81/81 [==============================] - 1s 8ms/step - loss: 0.6492 - accuracy: 0.6522 - val_loss: 0.6923 - val_accuracy: 0.5396\n",
            "Epoch 103/1000\n",
            "81/81 [==============================] - 0s 6ms/step - loss: 0.6512 - accuracy: 0.6445 - val_loss: 0.6924 - val_accuracy: 0.5387\n",
            "Epoch 104/1000\n",
            "81/81 [==============================] - 0s 6ms/step - loss: 0.6495 - accuracy: 0.6464 - val_loss: 0.6924 - val_accuracy: 0.5369\n"
          ]
        }
      ]
    },
    {
      "cell_type": "code",
      "metadata": {
        "colab": {
          "base_uri": "https://localhost:8080/"
        },
        "id": "xFOeJIs57BI8",
        "outputId": "f12f69fa-0b3a-4745-e334-22abf904fdfd"
      },
      "source": [
        "with tf.device('/GPU:0'):\n",
        "  test_loss, test_acc = model.evaluate(test_data, test_labels, verbose=1)\n",
        "\n",
        "print('Test Loss: {}'.format(test_loss))\n",
        "print('Test Accuracy: {}'.format(test_acc))"
      ],
      "execution_count": 277,
      "outputs": [
        {
          "output_type": "stream",
          "name": "stdout",
          "text": [
            "39/39 [==============================] - 0s 3ms/step - loss: 0.6869 - accuracy: 0.5673\n",
            "Test Loss: 0.6868646740913391\n",
            "Test Accuracy: 0.5672609210014343\n"
          ]
        }
      ]
    },
    {
      "cell_type": "code",
      "metadata": {
        "colab": {
          "base_uri": "https://localhost:8080/",
          "height": 388
        },
        "id": "byLGYQXx7BWD",
        "outputId": "568ac323-e4aa-4919-a9c5-7c534dbfc5ae"
      },
      "source": [
        "import matplotlib.pyplot as plt\n",
        "def plot_graphs(history, metric):\n",
        "  plt.plot(history.history[metric])\n",
        "  plt.plot(history.history['val_'+metric], '')\n",
        "  plt.xlabel(\"Epochs\")\n",
        "  plt.ylabel(metric)\n",
        "  plt.legend([metric, 'val_'+metric])\n",
        "  \n",
        "plt.figure(figsize=(16,6))\n",
        "plt.subplot(1,2,1)\n",
        "plot_graphs(history, 'accuracy')\n",
        "plt.subplot(1,2,2)\n",
        "plot_graphs(history, 'loss')"
      ],
      "execution_count": 279,
      "outputs": [
        {
          "output_type": "display_data",
          "data": {
            "image/png": "[encoded data removed]",
            "text/plain": [
              "<Figure size 1152x432 with 2 Axes>"
            ]
          },
          "metadata": {
            "needs_background": "light"
          }
        }
      ]
    },
    {
      "cell_type": "code",
      "metadata": {
        "colab": {
          "base_uri": "https://localhost:8080/"
        },
        "id": "VSEjhH9FmXo0",
        "outputId": "fbf47f17-03c1-4dde-dd09-d4d2294e83a3"
      },
      "source": [
        "sample = format_text_to_one_hot([\"What do you call a Frenchman wearing sandals? Philippe Philoppe.\",\n",
        "\"Two whales walk into a bar. The first whale says to the other, 'WOOOOOO. WEEEEEEEEOOOOO. WEEEEEEEEEEEEOOOOOOOOO.' The second whale says, 'Shut up Steve, you're drunk.'\",\n",
        "\"'Did you know it takes three sheep to make a sweater?' 'I didn't know sheep could knit.'\", \"This is not funny\", \"Hey\", \"example\"])\n",
        "sample_labels = [1, 1, 1, 0]\n",
        "\n",
        "#result = model.predict(sample)\n"
      ],
      "execution_count": 177,
      "outputs": [
        {
          "output_type": "stream",
          "name": "stdout",
          "text": [
            "48\n"
          ]
        }
      ]
    },
    {
      "cell_type": "code",
      "metadata": {
        "id": "iWt_m4vsoJcC"
      },
      "source": [
        "print(result)"
      ],
      "execution_count": null,
      "outputs": []
    }
  ]
}