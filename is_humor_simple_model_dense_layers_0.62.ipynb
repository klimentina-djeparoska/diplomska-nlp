{
  "nbformat": 4,
  "nbformat_minor": 0,
  "metadata": {
    "colab": {
      "name": "Copy of preprocessing.ipynb",
      "provenance": [],
      "collapsed_sections": [],
      "machine_shape": "hm"
    },
    "kernelspec": {
      "name": "python3",
      "display_name": "Python 3"
    }
  },
  "cells": [
    {
      "cell_type": "code",
      "metadata": {
        "id": "BmhHcKcjPapl",
        "colab": {
          "base_uri": "https://localhost:8080/"
        },
        "outputId": "7820b195-87e8-475c-bcbf-9e7549b68ccf"
      },
      "source": [
        "# connect with google drive\r\n",
        "from google.colab import drive\r\n",
        "drive.mount('/content/drive')"
      ],
      "execution_count": 659,
      "outputs": [
        {
          "output_type": "stream",
          "text": [
            "Drive already mounted at /content/drive; to attempt to forcibly remount, call drive.mount(\"/content/drive\", force_remount=True).\n"
          ],
          "name": "stdout"
        }
      ]
    },
    {
      "cell_type": "code",
      "metadata": {
        "id": "HFiBr2XqSGD5",
        "colab": {
          "base_uri": "https://localhost:8080/"
        },
        "outputId": "fb9a5e01-03d6-4be4-afec-cbde8b733788"
      },
      "source": [
        "import pandas as pd\r\n",
        "import numpy as np\r\n",
        "import random\r\n",
        "import nltk\r\n",
        "nltk.download('punkt')\r\n",
        "from nltk.tokenize import sent_tokenize, word_tokenize\r\n",
        "import string\r\n",
        "from keras.utils import to_categorical\r\n",
        "from keras.preprocessing.sequence import pad_sequences\r\n",
        "import tensorflow as tf\r\n"
      ],
      "execution_count": 660,
      "outputs": [
        {
          "output_type": "stream",
          "text": [
            "[nltk_data] Downloading package punkt to /root/nltk_data...\n",
            "[nltk_data]   Package punkt is already up-to-date!\n"
          ],
          "name": "stdout"
        }
      ]
    },
    {
      "cell_type": "code",
      "metadata": {
        "id": "sK3CQCMCQKF_"
      },
      "source": [
        "def load_dataset():\r\n",
        "  column_names = [ 'id', 'text', 'is_humor', 'humor_rating', 'humor_controversy', 'offense_rating' ]\r\n",
        "  data_path = '/content/drive/My Drive/data-nlp-humor-offense/train.csv'\r\n",
        "  data_frame = pd.read_csv(data_path, names=column_names, skiprows=1, na_values=\"?\", sep=\",\", skipinitialspace=True)\r\n",
        "  data = data_frame.fillna(0).to_numpy()\r\n",
        "\r\n",
        "  return data, data_frame"
      ],
      "execution_count": 661,
      "outputs": []
    },
    {
      "cell_type": "code",
      "metadata": {
        "colab": {
          "base_uri": "https://localhost:8080/"
        },
        "id": "cdL8dNRjQto-",
        "outputId": "3028f0f4-8e59-4130-8027-e2b025d3b679"
      },
      "source": [
        "result, df_result = load_dataset()\r\n",
        "print(result[:5])"
      ],
      "execution_count": 662,
      "outputs": [
        {
          "output_type": "stream",
          "text": [
            "[[1\n",
            "  \"TENNESSEE: We're the best state. Nobody even comes close. *Elevennessee walks into the room* TENNESSEE: Oh shit...\"\n",
            "  1 2.42 1.0 0.2]\n",
            " [2\n",
            "  'A man inserted an advertisement in the classifieds \"Wife Wanted\". The next day, he received 1000 of replies, all reading: \"You can have mine.\" Free delivery also available at your door step'\n",
            "  1 2.5 1.0 1.1]\n",
            " [3\n",
            "  'How many men does it take to open a can of beer? None. It should be open by the time she brings it to the couch.'\n",
            "  1 1.95 0.0 2.4]\n",
            " [4\n",
            "  \"Told my mom I hit 1200 Twitter followers. She pointed out how my brother owns a house and I'm wanted by several collection agencies. Oh ma!\"\n",
            "  1 2.11 1.0 0.0]\n",
            " [5\n",
            "  'Roses are dead. Love is fake. Weddings are basically funerals with cake.'\n",
            "  1 2.78 0.0 0.1]]\n"
          ],
          "name": "stdout"
        }
      ]
    },
    {
      "cell_type": "code",
      "metadata": {
        "colab": {
          "base_uri": "https://localhost:8080/"
        },
        "id": "IXTpvXFcfo1x",
        "outputId": "76e22be6-5dda-48e2-8915-8dba885cd06a"
      },
      "source": [
        "print(df_result['is_humor'].value_counts())\r\n",
        "print(df_result['humor_rating'].value_counts())\r\n",
        "print(df_result['humor_controversy'].value_counts())\r\n",
        "print(df_result['offense_rating'].value_counts())"
      ],
      "execution_count": 663,
      "outputs": [
        {
          "output_type": "stream",
          "text": [
            "1    4932\n",
            "0    3068\n",
            "Name: is_humor, dtype: int64\n",
            "2.00    156\n",
            "2.50    125\n",
            "2.05    111\n",
            "2.60    109\n",
            "2.25    101\n",
            "       ... \n",
            "3.13      1\n",
            "0.47      1\n",
            "2.57      1\n",
            "3.74      1\n",
            "0.30      1\n",
            "Name: humor_rating, Length: 253, dtype: int64\n",
            "0.0    2467\n",
            "1.0    2465\n",
            "Name: humor_controversy, dtype: int64\n",
            "0.00    3388\n",
            "0.15     394\n",
            "0.05     387\n",
            "0.10     333\n",
            "0.20     306\n",
            "        ... \n",
            "4.85       2\n",
            "4.80       2\n",
            "4.55       2\n",
            "4.75       1\n",
            "4.45       1\n",
            "Name: offense_rating, Length: 98, dtype: int64\n"
          ],
          "name": "stdout"
        }
      ]
    },
    {
      "cell_type": "code",
      "metadata": {
        "id": "09Go-yTSizFd"
      },
      "source": [
        "def format_text_to_one_hot(array_of_texts):\r\n",
        "  vocabulary = []\r\n",
        "  vocabulary_map = {}\r\n",
        "  counter = 1\r\n",
        "  end_result = []\r\n",
        "  print()\r\n",
        "\r\n",
        "  for text in array_of_texts:\r\n",
        "    \r\n",
        "    text_represented_with_numbers = []\r\n",
        "\r\n",
        "    # break the text into sentences\r\n",
        "    sentences = sent_tokenize(text)\r\n",
        "\r\n",
        "    for sentence in sentences:\r\n",
        "\r\n",
        "      # break the sentence into words\r\n",
        "      words_array = word_tokenize(sentence)\r\n",
        "\r\n",
        "      for word in words_array:\r\n",
        "\r\n",
        "        # remove punctuation\r\n",
        "        word = word.translate(str.maketrans('', '', string.punctuation))\r\n",
        "        \r\n",
        "        # lower case all letters \r\n",
        "        word = word.lower()\r\n",
        "\r\n",
        "        if word != '' and word != 's':\r\n",
        "          if not vocabulary.__contains__(word):\r\n",
        "            vocabulary.append(word)\r\n",
        "            vocabulary_map[word] = counter\r\n",
        "            counter += 1\r\n",
        "          \r\n",
        "          text_represented_with_numbers.append(vocabulary_map[word])\r\n",
        "  \r\n",
        "    # add text to result array\r\n",
        "    end_result.append(text_represented_with_numbers)\r\n",
        "  \r\n",
        "  # arrays to have same length\r\n",
        "  padded_seq = pad_sequences(end_result, maxlen=63, dtype='int32', padding='pre', value=0.0)\r\n",
        "  print(len(vocabulary))\r\n",
        "  return padded_seq"
      ],
      "execution_count": 664,
      "outputs": []
    },
    {
      "cell_type": "code",
      "metadata": {
        "id": "R2aHzQdWn9aM"
      },
      "source": [
        "# value = [\"Something, this is an example. One!\", \"This is two!! Really, that's exactly what i though.\"]\r\n",
        "# format_text_to_one_hot(value)"
      ],
      "execution_count": 665,
      "outputs": []
    },
    {
      "cell_type": "code",
      "metadata": {
        "id": "6U-OqRxCqIe5",
        "colab": {
          "base_uri": "https://localhost:8080/"
        },
        "outputId": "ed177fd0-1905-4e4e-daa1-eb1fb808fb28"
      },
      "source": [
        "texts = df_result['text']\r\n",
        "values = df_result['is_humor']\r\n",
        "np.save('/tmp/values', values)\r\n",
        "print(len(texts))\r\n",
        "formatted_texts = format_text_to_one_hot(texts)\r\n",
        "np.save('/tmp/formatted_texts', formatted_texts)\r\n",
        "print(len(formatted_texts))"
      ],
      "execution_count": 666,
      "outputs": [
        {
          "output_type": "stream",
          "text": [
            "8000\n",
            "\n",
            "15050\n",
            "8000\n"
          ],
          "name": "stdout"
        }
      ]
    },
    {
      "cell_type": "code",
      "metadata": {
        "id": "w_VGRgqdRtZF"
      },
      "source": [
        "train_data, train_labels = [], []\r\n",
        "test_data, test_labels = [], []\r\n",
        "\r\n",
        "humor_yes_data, humor_yes_labels = [], []\r\n",
        "humor_no_data, humor_no_labels = [], []\r\n",
        "\r\n",
        "for i in range(0, len(values)):\r\n",
        "  if values[i] == 1:\r\n",
        "    humor_yes_data.append(formatted_texts[i])\r\n",
        "    humor_yes_labels.append(values[i])\r\n",
        "  else:\r\n",
        "    humor_no_data.append(formatted_texts[i])\r\n",
        "    humor_no_labels.append(values[i])\r\n",
        "\r\n",
        "yes_total = len(humor_yes_labels)\r\n",
        "no_total = len(humor_no_data)\r\n",
        "train_yes = int(0.75 * yes_total)\r\n",
        "train_no = int(0.75 * no_total)\r\n",
        "\r\n",
        "train_data_temp = np.concatenate((humor_yes_data[:train_yes], humor_no_data[:train_no]))\r\n",
        "train_labels_temp = np.concatenate((humor_yes_labels[:train_yes], humor_no_labels[:train_no]))\r\n",
        "\r\n",
        "test_data_temp = np.concatenate((humor_yes_data[train_yes:], humor_no_data[train_no:]))\r\n",
        "test_labels_temp = np.concatenate((humor_yes_labels[train_yes:], humor_no_labels[train_no:]))\r\n",
        "\r\n",
        "train_keys = []\r\n",
        "test_keys = []\r\n",
        "output_bias = np.log([len(humor_yes_data)/len(humor_no_data)])\r\n",
        "\r\n",
        "result_train_map = {}\r\n",
        "for index in range(0,len(train_data_temp)):\r\n",
        "  result_train_map[index] = {'text': train_data_temp[index], 'label': train_labels_temp[index]}\r\n",
        "  train_keys.append(index)\r\n",
        "\r\n",
        "result_test_map = {}\r\n",
        "for index in range(0, len(test_data_temp)):\r\n",
        "  result_test_map[index] = {'text': test_data_temp[index], 'label': test_labels_temp[index]}\r\n",
        "  test_keys.append(index)\r\n",
        "\r\n",
        "random.shuffle(train_keys)\r\n",
        "random.shuffle(test_keys)\r\n",
        "\r\n",
        "for key in train_keys:\r\n",
        "  train_data.append(result_train_map[key].get('text'))\r\n",
        "  train_labels.append(result_train_map[key].get('label'))\r\n",
        "\r\n",
        "for key in test_keys:\r\n",
        "  test_data.append(result_test_map[key].get('text'))\r\n",
        "  test_labels.append(result_test_map[key].get('label'))\r\n",
        "\r\n",
        "train_data = np.array(train_data)\r\n",
        "train_labels = np.array(train_labels)\r\n",
        "test_data = np.array(test_data)\r\n",
        "test_labels = np.array(test_labels)"
      ],
      "execution_count": 667,
      "outputs": []
    },
    {
      "cell_type": "code",
      "metadata": {
        "colab": {
          "base_uri": "https://localhost:8080/"
        },
        "id": "z8qi8eHivGOs",
        "outputId": "aef2e44f-e5cf-4cfc-a925-170f5d60532d"
      },
      "source": [
        "example = {'text': 'example'}\r\n",
        "print(example.get('text'))"
      ],
      "execution_count": 668,
      "outputs": [
        {
          "output_type": "stream",
          "text": [
            "example\n"
          ],
          "name": "stdout"
        }
      ]
    },
    {
      "cell_type": "code",
      "metadata": {
        "id": "t39mozsxUyr5"
      },
      "source": [
        "#print(len(train_data))\r\n",
        "#print(len(test_data))\r\n",
        "np.save('/tmp/train_data', train_data)\r\n",
        "np.save('/tmp/train_labels', train_labels)\r\n",
        "np.save('/tmp/test_data', test_data)\r\n",
        "np.save('/tmp/test_labels', test_labels)"
      ],
      "execution_count": 669,
      "outputs": []
    },
    {
      "cell_type": "code",
      "metadata": {
        "id": "CmQFMPvEbSmK"
      },
      "source": [
        "init = tf.constant_initializer(output_bias)\r\n",
        "\r\n",
        "model = tf.keras.Sequential([\r\n",
        "    tf.keras.layers.Dense(64, activation='relu', kernel_regularizer=tf.keras.regularizers.l2(0.0001)),\r\n",
        "    tf.keras.layers.Dense(16, activation='relu'),\r\n",
        "    tf.keras.layers.Dropout(0.1),\r\n",
        "    tf.keras.layers.Dense(1, activation='sigmoid', bias_initializer=init, use_bias=True)\r\n",
        "])\r\n",
        "callback = tf.keras.callbacks.EarlyStopping(monitor='val_loss', patience=5, mode='auto')"
      ],
      "execution_count": 670,
      "outputs": []
    },
    {
      "cell_type": "code",
      "metadata": {
        "id": "5TF-iXoKZito"
      },
      "source": [
        "model.compile(loss=tf.keras.losses.BinaryCrossentropy(label_smoothing=0),\r\n",
        "              #optimizer=tf.keras.optimizers.SGD(learning_rate=0.000001, momentum=0.9),\r\n",
        "              optimizer=tf.keras.optimizers.Adam(0.00005),\r\n",
        "              metrics=['accuracy'])"
      ],
      "execution_count": 671,
      "outputs": []
    },
    {
      "cell_type": "code",
      "metadata": {
        "colab": {
          "base_uri": "https://localhost:8080/"
        },
        "id": "rKaecWqKZp3S",
        "outputId": "37592ea0-d83b-46cc-8bd1-84bc6e440e0e"
      },
      "source": [
        "x_data = train_data\r\n",
        "x_data.astype(float)\r\n",
        "y_data = train_labels\r\n",
        "y_data.astype(float)\r\n",
        "\r\n",
        "history = model.fit(x_data, y_data, epochs=100, validation_split=0.3, verbose=1, callbacks=callback)"
      ],
      "execution_count": 672,
      "outputs": [
        {
          "output_type": "stream",
          "text": [
            "Epoch 1/100\n",
            "132/132 [==============================] - 1s 5ms/step - loss: 847.7995 - accuracy: 0.6209 - val_loss: 558.8354 - val_accuracy: 0.5900\n",
            "Epoch 2/100\n",
            "132/132 [==============================] - 0s 3ms/step - loss: 479.7878 - accuracy: 0.5715 - val_loss: 315.8762 - val_accuracy: 0.5728\n",
            "Epoch 3/100\n",
            "132/132 [==============================] - 0s 3ms/step - loss: 327.3005 - accuracy: 0.5543 - val_loss: 240.4530 - val_accuracy: 0.5594\n",
            "Epoch 4/100\n",
            "132/132 [==============================] - 0s 4ms/step - loss: 260.9354 - accuracy: 0.5406 - val_loss: 198.0158 - val_accuracy: 0.5522\n",
            "Epoch 5/100\n",
            "132/132 [==============================] - 0s 3ms/step - loss: 214.3562 - accuracy: 0.5276 - val_loss: 166.0196 - val_accuracy: 0.5461\n",
            "Epoch 6/100\n",
            "132/132 [==============================] - 0s 3ms/step - loss: 176.5910 - accuracy: 0.5431 - val_loss: 144.0651 - val_accuracy: 0.5478\n",
            "Epoch 7/100\n",
            "132/132 [==============================] - 0s 3ms/step - loss: 154.0397 - accuracy: 0.5509 - val_loss: 125.7678 - val_accuracy: 0.5467\n",
            "Epoch 8/100\n",
            "132/132 [==============================] - 0s 3ms/step - loss: 134.0624 - accuracy: 0.5306 - val_loss: 111.7311 - val_accuracy: 0.5544\n",
            "Epoch 9/100\n",
            "132/132 [==============================] - 0s 3ms/step - loss: 119.6061 - accuracy: 0.5355 - val_loss: 99.0281 - val_accuracy: 0.5550\n",
            "Epoch 10/100\n",
            "132/132 [==============================] - 0s 3ms/step - loss: 106.0031 - accuracy: 0.5308 - val_loss: 88.3064 - val_accuracy: 0.5522\n",
            "Epoch 11/100\n",
            "132/132 [==============================] - 0s 3ms/step - loss: 93.5027 - accuracy: 0.5394 - val_loss: 77.7796 - val_accuracy: 0.5472\n",
            "Epoch 12/100\n",
            "132/132 [==============================] - 0s 3ms/step - loss: 79.6448 - accuracy: 0.5388 - val_loss: 67.9807 - val_accuracy: 0.5356\n",
            "Epoch 13/100\n",
            "132/132 [==============================] - 0s 3ms/step - loss: 67.4752 - accuracy: 0.5196 - val_loss: 59.1370 - val_accuracy: 0.5372\n",
            "Epoch 14/100\n",
            "132/132 [==============================] - 0s 3ms/step - loss: 56.3495 - accuracy: 0.5431 - val_loss: 50.8000 - val_accuracy: 0.5400\n",
            "Epoch 15/100\n",
            "132/132 [==============================] - 0s 3ms/step - loss: 51.5518 - accuracy: 0.5325 - val_loss: 43.0435 - val_accuracy: 0.5417\n",
            "Epoch 16/100\n",
            "132/132 [==============================] - 0s 3ms/step - loss: 45.4624 - accuracy: 0.5291 - val_loss: 36.2363 - val_accuracy: 0.5306\n",
            "Epoch 17/100\n",
            "132/132 [==============================] - 0s 3ms/step - loss: 33.7515 - accuracy: 0.5453 - val_loss: 30.3318 - val_accuracy: 0.5361\n",
            "Epoch 18/100\n",
            "132/132 [==============================] - 0s 3ms/step - loss: 28.7360 - accuracy: 0.5361 - val_loss: 24.8074 - val_accuracy: 0.5722\n",
            "Epoch 19/100\n",
            "132/132 [==============================] - 0s 4ms/step - loss: 22.4547 - accuracy: 0.5686 - val_loss: 20.4376 - val_accuracy: 0.5744\n",
            "Epoch 20/100\n",
            "132/132 [==============================] - 0s 3ms/step - loss: 17.4388 - accuracy: 0.5774 - val_loss: 17.2471 - val_accuracy: 0.5750\n",
            "Epoch 21/100\n",
            "132/132 [==============================] - 0s 3ms/step - loss: 14.5335 - accuracy: 0.5849 - val_loss: 14.7810 - val_accuracy: 0.5750\n",
            "Epoch 22/100\n",
            "132/132 [==============================] - 0s 3ms/step - loss: 13.6267 - accuracy: 0.5701 - val_loss: 12.8592 - val_accuracy: 0.5722\n",
            "Epoch 23/100\n",
            "132/132 [==============================] - 0s 3ms/step - loss: 10.6476 - accuracy: 0.5924 - val_loss: 11.1863 - val_accuracy: 0.5728\n",
            "Epoch 24/100\n",
            "132/132 [==============================] - 0s 3ms/step - loss: 9.8881 - accuracy: 0.5891 - val_loss: 9.7354 - val_accuracy: 0.5806\n",
            "Epoch 25/100\n",
            "132/132 [==============================] - 0s 4ms/step - loss: 7.8813 - accuracy: 0.5820 - val_loss: 8.3838 - val_accuracy: 0.5839\n",
            "Epoch 26/100\n",
            "132/132 [==============================] - 0s 3ms/step - loss: 6.8772 - accuracy: 0.5999 - val_loss: 7.3498 - val_accuracy: 0.5867\n",
            "Epoch 27/100\n",
            "132/132 [==============================] - 0s 3ms/step - loss: 5.7316 - accuracy: 0.6033 - val_loss: 6.5389 - val_accuracy: 0.5989\n",
            "Epoch 28/100\n",
            "132/132 [==============================] - 0s 4ms/step - loss: 4.2318 - accuracy: 0.6213 - val_loss: 5.9340 - val_accuracy: 0.5989\n",
            "Epoch 29/100\n",
            "132/132 [==============================] - 0s 3ms/step - loss: 4.4173 - accuracy: 0.6023 - val_loss: 5.4096 - val_accuracy: 0.6017\n",
            "Epoch 30/100\n",
            "132/132 [==============================] - 0s 3ms/step - loss: 4.0397 - accuracy: 0.6091 - val_loss: 4.9884 - val_accuracy: 0.6028\n",
            "Epoch 31/100\n",
            "132/132 [==============================] - 0s 3ms/step - loss: 3.3110 - accuracy: 0.6201 - val_loss: 4.5649 - val_accuracy: 0.6033\n",
            "Epoch 32/100\n",
            "132/132 [==============================] - 0s 3ms/step - loss: 3.4584 - accuracy: 0.6126 - val_loss: 4.2379 - val_accuracy: 0.6044\n",
            "Epoch 33/100\n",
            "132/132 [==============================] - 0s 3ms/step - loss: 2.2706 - accuracy: 0.6247 - val_loss: 3.9356 - val_accuracy: 0.6061\n",
            "Epoch 34/100\n",
            "132/132 [==============================] - 0s 3ms/step - loss: 2.3359 - accuracy: 0.6274 - val_loss: 3.5727 - val_accuracy: 0.6056\n",
            "Epoch 35/100\n",
            "132/132 [==============================] - 0s 3ms/step - loss: 2.0538 - accuracy: 0.6246 - val_loss: 3.3057 - val_accuracy: 0.6100\n",
            "Epoch 36/100\n",
            "132/132 [==============================] - 0s 3ms/step - loss: 2.0233 - accuracy: 0.6239 - val_loss: 3.0150 - val_accuracy: 0.6089\n",
            "Epoch 37/100\n",
            "132/132 [==============================] - 0s 4ms/step - loss: 2.2244 - accuracy: 0.6214 - val_loss: 2.7692 - val_accuracy: 0.6100\n",
            "Epoch 38/100\n",
            "132/132 [==============================] - 0s 3ms/step - loss: 2.0540 - accuracy: 0.6279 - val_loss: 2.5936 - val_accuracy: 0.6100\n",
            "Epoch 39/100\n",
            "132/132 [==============================] - 0s 4ms/step - loss: 1.7830 - accuracy: 0.6196 - val_loss: 2.4234 - val_accuracy: 0.6111\n",
            "Epoch 40/100\n",
            "132/132 [==============================] - 0s 4ms/step - loss: 1.8356 - accuracy: 0.6228 - val_loss: 2.3024 - val_accuracy: 0.6117\n",
            "Epoch 41/100\n",
            "132/132 [==============================] - 0s 3ms/step - loss: 1.1649 - accuracy: 0.6142 - val_loss: 2.2259 - val_accuracy: 0.6117\n",
            "Epoch 42/100\n",
            "132/132 [==============================] - 0s 3ms/step - loss: 1.8227 - accuracy: 0.6291 - val_loss: 2.0962 - val_accuracy: 0.6128\n",
            "Epoch 43/100\n",
            "132/132 [==============================] - 0s 3ms/step - loss: 1.4087 - accuracy: 0.6208 - val_loss: 2.0056 - val_accuracy: 0.6122\n",
            "Epoch 44/100\n",
            "132/132 [==============================] - 0s 3ms/step - loss: 1.2384 - accuracy: 0.6191 - val_loss: 1.9143 - val_accuracy: 0.6144\n",
            "Epoch 45/100\n",
            "132/132 [==============================] - 0s 3ms/step - loss: 1.0587 - accuracy: 0.6169 - val_loss: 1.8525 - val_accuracy: 0.6150\n",
            "Epoch 46/100\n",
            "132/132 [==============================] - 0s 4ms/step - loss: 0.9703 - accuracy: 0.6242 - val_loss: 1.8122 - val_accuracy: 0.6133\n",
            "Epoch 47/100\n",
            "132/132 [==============================] - 0s 3ms/step - loss: 1.1075 - accuracy: 0.6312 - val_loss: 1.7228 - val_accuracy: 0.6172\n",
            "Epoch 48/100\n",
            "132/132 [==============================] - 0s 4ms/step - loss: 0.9841 - accuracy: 0.6376 - val_loss: 1.6571 - val_accuracy: 0.6167\n",
            "Epoch 49/100\n",
            "132/132 [==============================] - 0s 3ms/step - loss: 1.3133 - accuracy: 0.6295 - val_loss: 1.5883 - val_accuracy: 0.6150\n",
            "Epoch 50/100\n",
            "132/132 [==============================] - 0s 3ms/step - loss: 1.8709 - accuracy: 0.6090 - val_loss: 1.5539 - val_accuracy: 0.6144\n",
            "Epoch 51/100\n",
            "132/132 [==============================] - 0s 4ms/step - loss: 1.2801 - accuracy: 0.6244 - val_loss: 1.5018 - val_accuracy: 0.6144\n",
            "Epoch 52/100\n",
            "132/132 [==============================] - 0s 4ms/step - loss: 0.7426 - accuracy: 0.6415 - val_loss: 1.4419 - val_accuracy: 0.6139\n",
            "Epoch 53/100\n",
            "132/132 [==============================] - 1s 4ms/step - loss: 0.8658 - accuracy: 0.6112 - val_loss: 1.4097 - val_accuracy: 0.6133\n",
            "Epoch 54/100\n",
            "132/132 [==============================] - 0s 4ms/step - loss: 0.8748 - accuracy: 0.6285 - val_loss: 1.3946 - val_accuracy: 0.6144\n",
            "Epoch 55/100\n",
            "132/132 [==============================] - 1s 4ms/step - loss: 0.7464 - accuracy: 0.6239 - val_loss: 1.3721 - val_accuracy: 0.6150\n",
            "Epoch 56/100\n",
            "132/132 [==============================] - 1s 4ms/step - loss: 0.9120 - accuracy: 0.6268 - val_loss: 1.3467 - val_accuracy: 0.6139\n",
            "Epoch 57/100\n",
            "132/132 [==============================] - 1s 4ms/step - loss: 0.8812 - accuracy: 0.6311 - val_loss: 1.3214 - val_accuracy: 0.6139\n",
            "Epoch 58/100\n",
            "132/132 [==============================] - 1s 4ms/step - loss: 0.7407 - accuracy: 0.6198 - val_loss: 1.3115 - val_accuracy: 0.6156\n",
            "Epoch 59/100\n",
            "132/132 [==============================] - 0s 4ms/step - loss: 0.8965 - accuracy: 0.6278 - val_loss: 1.3015 - val_accuracy: 0.6139\n",
            "Epoch 60/100\n",
            "132/132 [==============================] - 0s 4ms/step - loss: 0.8257 - accuracy: 0.6281 - val_loss: 1.2901 - val_accuracy: 0.6139\n",
            "Epoch 61/100\n",
            "132/132 [==============================] - 0s 4ms/step - loss: 0.7679 - accuracy: 0.6216 - val_loss: 1.2729 - val_accuracy: 0.6156\n",
            "Epoch 62/100\n",
            "132/132 [==============================] - 0s 4ms/step - loss: 0.7371 - accuracy: 0.6276 - val_loss: 1.2538 - val_accuracy: 0.6133\n",
            "Epoch 63/100\n",
            "132/132 [==============================] - 0s 3ms/step - loss: 0.6768 - accuracy: 0.6338 - val_loss: 1.2476 - val_accuracy: 0.6144\n",
            "Epoch 64/100\n",
            "132/132 [==============================] - 0s 4ms/step - loss: 0.6872 - accuracy: 0.6263 - val_loss: 1.2385 - val_accuracy: 0.6133\n",
            "Epoch 65/100\n",
            "132/132 [==============================] - 0s 3ms/step - loss: 0.7772 - accuracy: 0.6233 - val_loss: 1.2047 - val_accuracy: 0.6139\n",
            "Epoch 66/100\n",
            "132/132 [==============================] - 0s 4ms/step - loss: 0.7102 - accuracy: 0.6265 - val_loss: 1.2052 - val_accuracy: 0.6144\n",
            "Epoch 67/100\n",
            "132/132 [==============================] - 0s 4ms/step - loss: 0.7780 - accuracy: 0.6243 - val_loss: 1.1871 - val_accuracy: 0.6150\n",
            "Epoch 68/100\n",
            "132/132 [==============================] - 0s 4ms/step - loss: 0.6697 - accuracy: 0.6327 - val_loss: 1.1966 - val_accuracy: 0.6172\n",
            "Epoch 69/100\n",
            "132/132 [==============================] - 0s 3ms/step - loss: 0.6837 - accuracy: 0.6159 - val_loss: 1.1879 - val_accuracy: 0.6144\n",
            "Epoch 70/100\n",
            "132/132 [==============================] - 0s 3ms/step - loss: 0.6543 - accuracy: 0.6299 - val_loss: 1.1863 - val_accuracy: 0.6183\n",
            "Epoch 71/100\n",
            "132/132 [==============================] - 0s 3ms/step - loss: 0.6675 - accuracy: 0.6234 - val_loss: 1.1781 - val_accuracy: 0.6139\n",
            "Epoch 72/100\n",
            "132/132 [==============================] - 0s 4ms/step - loss: 0.6661 - accuracy: 0.6292 - val_loss: 1.1713 - val_accuracy: 0.6156\n",
            "Epoch 73/100\n",
            "132/132 [==============================] - 0s 4ms/step - loss: 0.6624 - accuracy: 0.6241 - val_loss: 1.1555 - val_accuracy: 0.6144\n",
            "Epoch 74/100\n",
            "132/132 [==============================] - 0s 3ms/step - loss: 0.6576 - accuracy: 0.6292 - val_loss: 1.1577 - val_accuracy: 0.6161\n",
            "Epoch 75/100\n",
            "132/132 [==============================] - 0s 3ms/step - loss: 0.6625 - accuracy: 0.6220 - val_loss: 1.1564 - val_accuracy: 0.6194\n",
            "Epoch 76/100\n",
            "132/132 [==============================] - 0s 3ms/step - loss: 0.6642 - accuracy: 0.6248 - val_loss: 1.1559 - val_accuracy: 0.6167\n",
            "Epoch 77/100\n",
            "132/132 [==============================] - 0s 3ms/step - loss: 0.6660 - accuracy: 0.6139 - val_loss: 1.1556 - val_accuracy: 0.6189\n",
            "Epoch 78/100\n",
            "132/132 [==============================] - 0s 3ms/step - loss: 0.6682 - accuracy: 0.6141 - val_loss: 1.1553 - val_accuracy: 0.6206\n",
            "Epoch 79/100\n",
            "132/132 [==============================] - 0s 3ms/step - loss: 0.6511 - accuracy: 0.6400 - val_loss: 1.1547 - val_accuracy: 0.6167\n",
            "Epoch 80/100\n",
            "132/132 [==============================] - 0s 4ms/step - loss: 0.6631 - accuracy: 0.6259 - val_loss: 1.1495 - val_accuracy: 0.6183\n",
            "Epoch 81/100\n",
            "132/132 [==============================] - 0s 3ms/step - loss: 0.6645 - accuracy: 0.6235 - val_loss: 1.1507 - val_accuracy: 0.6150\n",
            "Epoch 82/100\n",
            "132/132 [==============================] - 0s 3ms/step - loss: 0.6658 - accuracy: 0.6148 - val_loss: 1.1492 - val_accuracy: 0.6161\n",
            "Epoch 83/100\n",
            "132/132 [==============================] - 0s 3ms/step - loss: 0.6545 - accuracy: 0.6330 - val_loss: 1.1490 - val_accuracy: 0.6206\n",
            "Epoch 84/100\n",
            "132/132 [==============================] - 0s 3ms/step - loss: 0.6514 - accuracy: 0.6411 - val_loss: 1.1477 - val_accuracy: 0.6200\n",
            "Epoch 85/100\n",
            "132/132 [==============================] - 0s 3ms/step - loss: 0.6633 - accuracy: 0.6179 - val_loss: 1.1481 - val_accuracy: 0.6244\n",
            "Epoch 86/100\n",
            "132/132 [==============================] - 0s 3ms/step - loss: 0.6564 - accuracy: 0.6391 - val_loss: 1.1473 - val_accuracy: 0.6172\n",
            "Epoch 87/100\n",
            "132/132 [==============================] - 0s 3ms/step - loss: 0.9642 - accuracy: 0.6307 - val_loss: 1.1363 - val_accuracy: 0.6217\n",
            "Epoch 88/100\n",
            "132/132 [==============================] - 0s 3ms/step - loss: 0.6534 - accuracy: 0.6314 - val_loss: 1.1345 - val_accuracy: 0.6172\n",
            "Epoch 89/100\n",
            "132/132 [==============================] - 0s 4ms/step - loss: 0.6659 - accuracy: 0.6179 - val_loss: 1.1381 - val_accuracy: 0.6139\n",
            "Epoch 90/100\n",
            "132/132 [==============================] - 0s 3ms/step - loss: 0.6649 - accuracy: 0.6227 - val_loss: 1.1362 - val_accuracy: 0.6150\n",
            "Epoch 91/100\n",
            "132/132 [==============================] - 0s 4ms/step - loss: 0.6713 - accuracy: 0.6279 - val_loss: 1.1418 - val_accuracy: 0.6194\n",
            "Epoch 92/100\n",
            "132/132 [==============================] - 0s 3ms/step - loss: 0.6549 - accuracy: 0.6375 - val_loss: 1.1438 - val_accuracy: 0.6133\n",
            "Epoch 93/100\n",
            "132/132 [==============================] - 0s 3ms/step - loss: 0.6525 - accuracy: 0.6370 - val_loss: 1.1409 - val_accuracy: 0.6150\n"
          ],
          "name": "stdout"
        }
      ]
    },
    {
      "cell_type": "code",
      "metadata": {
        "colab": {
          "base_uri": "https://localhost:8080/"
        },
        "id": "xFOeJIs57BI8",
        "outputId": "fd50e8ab-12e8-4da1-e472-c30309c9b89b"
      },
      "source": [
        "test_loss, test_acc = model.evaluate(test_data, test_labels, verbose=1)\r\n",
        "\r\n",
        "print('Test Loss: {}'.format(test_loss))\r\n",
        "print('Test Accuracy: {}'.format(test_acc))"
      ],
      "execution_count": 673,
      "outputs": [
        {
          "output_type": "stream",
          "text": [
            "63/63 [==============================] - 0s 2ms/step - loss: 2.5265 - accuracy: 0.6210\n",
            "Test Loss: 2.526477575302124\n",
            "Test Accuracy: 0.6209999918937683\n"
          ],
          "name": "stdout"
        }
      ]
    },
    {
      "cell_type": "code",
      "metadata": {
        "colab": {
          "base_uri": "https://localhost:8080/",
          "height": 389
        },
        "id": "byLGYQXx7BWD",
        "outputId": "cbbda2a2-d378-4aaa-bbae-978bf3b0d7b6"
      },
      "source": [
        "import matplotlib.pyplot as plt\r\n",
        "def plot_graphs(history, metric):\r\n",
        "  plt.plot(history.history[metric])\r\n",
        "  plt.plot(history.history['val_'+metric], '')\r\n",
        "  plt.xlabel(\"Epochs\")\r\n",
        "  plt.ylabel(metric)\r\n",
        "  plt.legend([metric, 'val_'+metric])\r\n",
        "  \r\n",
        "plt.figure(figsize=(16,6))\r\n",
        "plt.subplot(1,2,1)\r\n",
        "plot_graphs(history, 'accuracy')\r\n",
        "plt.subplot(1,2,2)\r\n",
        "plot_graphs(history, 'loss')"
      ],
      "execution_count": 674,
      "outputs": [
        {
          "output_type": "display_data",
          "data": {
            "image/png": "[encoded data removed]",
            "text/plain": [
              "<Figure size 1152x432 with 2 Axes>"
            ]
          },
          "metadata": {
            "tags": [],
            "needs_background": "light"
          }
        }
      ]
    },
    {
      "cell_type": "code",
      "metadata": {
        "colab": {
          "base_uri": "https://localhost:8080/"
        },
        "id": "VSEjhH9FmXo0",
        "outputId": "dc641073-25eb-4583-dd0a-aab927d5ce76"
      },
      "source": [
        "sample = format_text_to_one_hot([\"What do you call a Frenchman wearing sandals? Philippe Philoppe.\",\r\n",
        "\"Two whales walk into a bar. The first whale says to the other, 'WOOOOOO. WEEEEEEEEOOOOO. WEEEEEEEEEEEEOOOOOOOOO.' The second whale says, 'Shut up Steve, you're drunk.'\",\r\n",
        "\"'Did you know it takes three sheep to make a sweater?' 'I didn't know sheep could knit.'\", \"This is not funny\", \"Hey\", \"example\"])\r\n",
        "sample_labels = [1, 1, 1, 0]\r\n",
        "\r\n",
        "result = model.predict(sample)\r\n"
      ],
      "execution_count": 675,
      "outputs": [
        {
          "output_type": "stream",
          "text": [
            "\n",
            "48\n",
            "WARNING:tensorflow:11 out of the last 12 calls to <function Model.make_predict_function.<locals>.predict_function at 0x7f0fcea04cb0> triggered tf.function retracing. Tracing is expensive and the excessive number of tracings could be due to (1) creating @tf.function repeatedly in a loop, (2) passing tensors with different shapes, (3) passing Python objects instead of tensors. For (1), please define your @tf.function outside of the loop. For (2), @tf.function has experimental_relax_shapes=True option that relaxes argument shapes that can avoid unnecessary retracing. For (3), please refer to https://www.tensorflow.org/guide/function#controlling_retracing and https://www.tensorflow.org/api_docs/python/tf/function for  more details.\n"
          ],
          "name": "stdout"
        }
      ]
    },
    {
      "cell_type": "code",
      "metadata": {
        "colab": {
          "base_uri": "https://localhost:8080/"
        },
        "id": "iWt_m4vsoJcC",
        "outputId": "06ea8aa8-ef84-4db3-9a85-ff22dcbccdf1"
      },
      "source": [
        "print(result)"
      ],
      "execution_count": 676,
      "outputs": [
        {
          "output_type": "stream",
          "text": [
            "[[0.61749816]\n",
            " [0.6172117 ]\n",
            " [0.6173972 ]\n",
            " [0.6178993 ]\n",
            " [0.6177551 ]\n",
            " [0.6177627 ]]\n"
          ],
          "name": "stdout"
        }
      ]
    }
  ]
}